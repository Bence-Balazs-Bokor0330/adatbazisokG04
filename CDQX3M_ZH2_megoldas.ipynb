{
    "metadata": {
        "kernelspec": {
            "name": "SQL",
            "display_name": "SQL",
            "language": "sql"
        },
        "language_info": {
            "name": "sql",
            "version": ""
        },
        "orig_nbformat": 4
    },
    "nbformat_minor": 2,
    "nbformat": 4,
    "cells": [
        {
            "cell_type": "code",
            "source": [
                "SELECT CASE GROUPING_ID(sz.szoba_szama, year(f.mettol))\r\n",
                "        WHEN 0 THEN COUNT(SZ.SZOBA_ID)\r\n",
                "        WHEN 1 THEN 'Részösszeg'\r\n",
                "        WHEN 3 THEN 'Szoba összesen'\r\n",
                "    END,\r\n",
                "    YEAR(METTOL)\r\n",
                "FROM Foglalas f JOIN Szoba sz ON f.SZOBA_FK = sz.SZOBA_ID\r\n",
                "GROUP BY ROLLUP (sz.szoba_szama, year(f.mettol))"
            ],
            "metadata": {
                "azdata_cell_guid": "554f7734-18c0-45b1-8b64-85e8b67bafcd",
                "language": "sql"
            },
            "outputs": [
                {
                    "output_type": "display_data",
                    "data": {
                        "text/html": "Total execution time: 00:00:00.016"
                    },
                    "metadata": {}
                },
                {
                    "output_type": "execute_result",
                    "metadata": {},
                    "execution_count": 16,
                    "data": {
                        "application/vnd.dataresource+json": {
                            "schema": {
                                "fields": [
                                    {
                                        "name": "(No column name)"
                                    },
                                    {
                                        "name": "(No column name)"
                                    }
                                ]
                            },
                            "data": [
                                {
                                    "(No column name)": "2016"
                                },
                                {
                                    "(No column name)": "2017"
                                }
                            ]
                        },
                        "text/html": [
                            "<table>",
                            "<tr><th>(No column name)</th><th>(No column name)</th></tr>",
                            "<tr><td>52</td><td>2016</td></tr>",
                            "<tr><td>5</td><td>2017</td></tr>",
                            "</table>"
                        ]
                    }
                },
                {
                    "output_type": "error",
                    "evalue": "Msg 245, Level 16, State 1, Line 1\r\nConversion failed when converting the varchar value 'Részösszeg' to data type int.",
                    "ename": "",
                    "traceback": []
                }
            ],
            "execution_count": 16
        },
        {
            "cell_type": "code",
            "source": [
                "SELECT sz.SZALLAS_NEV, f.FELNOTT_SZAM + f.GYERMEK_SZAM\r\n",
                "FROM Szallashely sz JOIN szoba szo ON sz.SZALLAS_ID = szo.SZALLAS_FK\r\n",
                "                   JOIN foglalas f ON f.SZOBA_FK = szo.SZOBA_ID\r\n",
                "WHERE sz.SZALLAS_NEV =\r\n",
                "(\r\n",
                "SELECT TOP 1 sz.SZALLAS_NEV\r\n",
                "FROM Szallashely sz JOIN szoba szo ON sz.SZALLAS_ID = szo.SZALLAS_FK\r\n",
                "                   JOIN foglalas f ON f.SZOBA_FK = szo.SZOBA_ID\r\n",
                "GROUP BY sz.SZALLAS_NEV\r\n",
                "ORDER BY count(*) ASC\r\n",
                ")"
            ],
            "metadata": {
                "azdata_cell_guid": "7324ab63-0070-43e4-81d8-da477560d0eb",
                "language": "sql"
            },
            "outputs": [
                {
                    "output_type": "display_data",
                    "data": {
                        "text/html": "(18 rows affected)"
                    },
                    "metadata": {}
                },
                {
                    "output_type": "display_data",
                    "data": {
                        "text/html": "Total execution time: 00:00:00.014"
                    },
                    "metadata": {}
                },
                {
                    "output_type": "execute_result",
                    "metadata": {},
                    "execution_count": 13,
                    "data": {
                        "application/vnd.dataresource+json": {
                            "schema": {
                                "fields": [
                                    {
                                        "name": "SZALLAS_NEV"
                                    },
                                    {
                                        "name": "(No column name)"
                                    }
                                ]
                            },
                            "data": [
                                {
                                    "SZALLAS_NEV": "Családi Ház",
                                    "(No column name)": "4"
                                },
                                {
                                    "SZALLAS_NEV": "Családi Ház",
                                    "(No column name)": "2"
                                },
                                {
                                    "SZALLAS_NEV": "Családi Ház",
                                    "(No column name)": "3"
                                },
                                {
                                    "SZALLAS_NEV": "Családi Ház",
                                    "(No column name)": "2"
                                },
                                {
                                    "SZALLAS_NEV": "Családi Ház",
                                    "(No column name)": "3"
                                },
                                {
                                    "SZALLAS_NEV": "Családi Ház",
                                    "(No column name)": "4"
                                },
                                {
                                    "SZALLAS_NEV": "Családi Ház",
                                    "(No column name)": "2"
                                },
                                {
                                    "SZALLAS_NEV": "Családi Ház",
                                    "(No column name)": "4"
                                },
                                {
                                    "SZALLAS_NEV": "Családi Ház",
                                    "(No column name)": "3"
                                },
                                {
                                    "SZALLAS_NEV": "Családi Ház",
                                    "(No column name)": "3"
                                },
                                {
                                    "SZALLAS_NEV": "Családi Ház",
                                    "(No column name)": "3"
                                },
                                {
                                    "SZALLAS_NEV": "Családi Ház",
                                    "(No column name)": "2"
                                },
                                {
                                    "SZALLAS_NEV": "Családi Ház",
                                    "(No column name)": "3"
                                },
                                {
                                    "SZALLAS_NEV": "Családi Ház",
                                    "(No column name)": "3"
                                },
                                {
                                    "SZALLAS_NEV": "Családi Ház",
                                    "(No column name)": "3"
                                },
                                {
                                    "SZALLAS_NEV": "Családi Ház",
                                    "(No column name)": "1"
                                },
                                {
                                    "SZALLAS_NEV": "Családi Ház",
                                    "(No column name)": "3"
                                },
                                {
                                    "SZALLAS_NEV": "Családi Ház",
                                    "(No column name)": "4"
                                }
                            ]
                        },
                        "text/html": [
                            "<table>",
                            "<tr><th>SZALLAS_NEV</th><th>(No column name)</th></tr>",
                            "<tr><td>Családi Ház</td><td>4</td></tr>",
                            "<tr><td>Családi Ház</td><td>2</td></tr>",
                            "<tr><td>Családi Ház</td><td>3</td></tr>",
                            "<tr><td>Családi Ház</td><td>2</td></tr>",
                            "<tr><td>Családi Ház</td><td>3</td></tr>",
                            "<tr><td>Családi Ház</td><td>4</td></tr>",
                            "<tr><td>Családi Ház</td><td>2</td></tr>",
                            "<tr><td>Családi Ház</td><td>4</td></tr>",
                            "<tr><td>Családi Ház</td><td>3</td></tr>",
                            "<tr><td>Családi Ház</td><td>3</td></tr>",
                            "<tr><td>Családi Ház</td><td>3</td></tr>",
                            "<tr><td>Családi Ház</td><td>2</td></tr>",
                            "<tr><td>Családi Ház</td><td>3</td></tr>",
                            "<tr><td>Családi Ház</td><td>3</td></tr>",
                            "<tr><td>Családi Ház</td><td>3</td></tr>",
                            "<tr><td>Családi Ház</td><td>1</td></tr>",
                            "<tr><td>Családi Ház</td><td>3</td></tr>",
                            "<tr><td>Családi Ház</td><td>4</td></tr>",
                            "</table>"
                        ]
                    }
                }
            ],
            "execution_count": 13
        }
    ]
}