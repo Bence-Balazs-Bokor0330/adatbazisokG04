{
    "metadata": {
        "kernelspec": {
            "name": "SQL",
            "display_name": "SQL",
            "language": "sql"
        },
        "language_info": {
            "name": "sql",
            "version": ""
        }
    },
    "nbformat_minor": 2,
    "nbformat": 4,
    "cells": [
        {
            "cell_type": "code",
            "source": [
                "--1. feladat\r\n",
                "SELECT DATEDIFF(year, SZUL_DAT, GETDATE()) AS \"Életkor\", COUNT(USERNEV) as \"Emberek száma\"\r\n",
                "FROM Vendeg\r\n",
                "GROUP BY DATEDIFF(year, SZUL_DAT, GETDATE())\r\n",
                "HAVING DATEDIFF(year, SZUL_DAT, GETDATE()) > 18 and COUNT(USERNEV) > 5"
            ],
            "metadata": {
                "azdata_cell_guid": "cace5d1a-a550-417e-a1c0-2d89fca27644",
                "language": "sql"
            },
            "outputs": [
                {
                    "output_type": "display_data",
                    "data": {
                        "text/html": "(19 rows affected)"
                    },
                    "metadata": {}
                },
                {
                    "output_type": "display_data",
                    "data": {
                        "text/html": "Total execution time: 00:00:00.021"
                    },
                    "metadata": {}
                },
                {
                    "output_type": "execute_result",
                    "metadata": {},
                    "execution_count": 2,
                    "data": {
                        "application/vnd.dataresource+json": {
                            "schema": {
                                "fields": [
                                    {
                                        "name": "Életkor"
                                    },
                                    {
                                        "name": "Emberek száma"
                                    }
                                ]
                            },
                            "data": [
                                {
                                    "Életkor": "28",
                                    "Emberek száma": "12"
                                },
                                {
                                    "Életkor": "29",
                                    "Emberek száma": "7"
                                },
                                {
                                    "Életkor": "30",
                                    "Emberek száma": "6"
                                },
                                {
                                    "Életkor": "34",
                                    "Emberek száma": "6"
                                },
                                {
                                    "Életkor": "35",
                                    "Emberek száma": "8"
                                },
                                {
                                    "Életkor": "36",
                                    "Emberek száma": "7"
                                },
                                {
                                    "Életkor": "37",
                                    "Emberek száma": "6"
                                },
                                {
                                    "Életkor": "39",
                                    "Emberek száma": "9"
                                },
                                {
                                    "Életkor": "40",
                                    "Emberek száma": "6"
                                },
                                {
                                    "Életkor": "41",
                                    "Emberek száma": "8"
                                },
                                {
                                    "Életkor": "42",
                                    "Emberek száma": "8"
                                },
                                {
                                    "Életkor": "45",
                                    "Emberek száma": "7"
                                },
                                {
                                    "Életkor": "46",
                                    "Emberek száma": "7"
                                },
                                {
                                    "Életkor": "47",
                                    "Emberek száma": "7"
                                },
                                {
                                    "Életkor": "49",
                                    "Emberek száma": "7"
                                },
                                {
                                    "Életkor": "50",
                                    "Emberek száma": "10"
                                },
                                {
                                    "Életkor": "56",
                                    "Emberek száma": "8"
                                },
                                {
                                    "Életkor": "57",
                                    "Emberek száma": "7"
                                },
                                {
                                    "Életkor": "58",
                                    "Emberek száma": "8"
                                }
                            ]
                        },
                        "text/html": [
                            "<table>",
                            "<tr><th>Életkor</th><th>Emberek száma</th></tr>",
                            "<tr><td>28</td><td>12</td></tr>",
                            "<tr><td>29</td><td>7</td></tr>",
                            "<tr><td>30</td><td>6</td></tr>",
                            "<tr><td>34</td><td>6</td></tr>",
                            "<tr><td>35</td><td>8</td></tr>",
                            "<tr><td>36</td><td>7</td></tr>",
                            "<tr><td>37</td><td>6</td></tr>",
                            "<tr><td>39</td><td>9</td></tr>",
                            "<tr><td>40</td><td>6</td></tr>",
                            "<tr><td>41</td><td>8</td></tr>",
                            "<tr><td>42</td><td>8</td></tr>",
                            "<tr><td>45</td><td>7</td></tr>",
                            "<tr><td>46</td><td>7</td></tr>",
                            "<tr><td>47</td><td>7</td></tr>",
                            "<tr><td>49</td><td>7</td></tr>",
                            "<tr><td>50</td><td>10</td></tr>",
                            "<tr><td>56</td><td>8</td></tr>",
                            "<tr><td>57</td><td>7</td></tr>",
                            "<tr><td>58</td><td>8</td></tr>",
                            "</table>"
                        ]
                    }
                }
            ],
            "execution_count": 2
        },
        {
            "cell_type": "code",
            "source": [
                "--2. feladat\r\n",
                "SELECT sz.SZALLAS_NEV, szo.SZOBA_SZAMA, count(f.FOGLALAS_PK) as \"Foglalások száma\"\r\n",
                "FROM Szallashely sz JOIN Szoba szo ON sz.SZALLAS_ID = szo.SZALLAS_FK\r\n",
                "                    JOIN Foglalas f ON f.SZOBA_FK = szo.SZOBA_ID \r\n",
                "GROUP BY sz.SZALLAS_NEV, szo.SZOBA_SZAMA\r\n",
                "HAVING count(f.FOGLALAS_PK) <> 0"
            ],
            "metadata": {
                "azdata_cell_guid": "e40559f1-c38d-4102-a085-c463594a158b",
                "language": "sql"
            },
            "outputs": [
                {
                    "output_type": "display_data",
                    "data": {
                        "text/html": "(187 rows affected)"
                    },
                    "metadata": {}
                },
                {
                    "output_type": "display_data",
                    "data": {
                        "text/html": "Total execution time: 00:00:00.014"
                    },
                    "metadata": {}
                },
                {
                    "output_type": "execute_result",
                    "metadata": {},
                    "execution_count": 15,
                    "data": {
                        "application/vnd.dataresource+json": {
                            "schema": {
                                "fields": [
                                    {
                                        "name": "SZALLAS_NEV"
                                    },
                                    {
                                        "name": "SZOBA_SZAMA"
                                    },
                                    {
                                        "name": "Foglalások száma"
                                    }
                                ]
                            },
                            "data": [
                                {
                                    "SZALLAS_NEV": "Családi Ház",
                                    "SZOBA_SZAMA": "1",
                                    "Foglalások száma": "4"
                                },
                                {
                                    "SZALLAS_NEV": "Fortuna Apartman",
                                    "SZOBA_SZAMA": "1",
                                    "Foglalások száma": "6"
                                },
                                {
                                    "SZALLAS_NEV": "Fortuna Panzió",
                                    "SZOBA_SZAMA": "1",
                                    "Foglalások száma": "6"
                                },
                                {
                                    "SZALLAS_NEV": "Gold Hotel",
                                    "SZOBA_SZAMA": "1",
                                    "Foglalások száma": "7"
                                },
                                {
                                    "SZALLAS_NEV": "Hotel Három Hattyú",
                                    "SZOBA_SZAMA": "1",
                                    "Foglalások száma": "4"
                                },
                                {
                                    "SZALLAS_NEV": "Jáde panzió",
                                    "SZOBA_SZAMA": "1",
                                    "Foglalások száma": "6"
                                },
                                {
                                    "SZALLAS_NEV": "Kentaur Hotel",
                                    "SZOBA_SZAMA": "1",
                                    "Foglalások száma": "4"
                                },
                                {
                                    "SZALLAS_NEV": "Lagúna Hotel",
                                    "SZOBA_SZAMA": "1",
                                    "Foglalások száma": "3"
                                },
                                {
                                    "SZALLAS_NEV": "Partiszél Vendégház",
                                    "SZOBA_SZAMA": "1",
                                    "Foglalások száma": "5"
                                },
                                {
                                    "SZALLAS_NEV": "Sába-Ház",
                                    "SZOBA_SZAMA": "1",
                                    "Foglalások száma": "8"
                                },
                                {
                                    "SZALLAS_NEV": "Szieszta Apartmanház",
                                    "SZOBA_SZAMA": "1",
                                    "Foglalások száma": "4"
                                },
                                {
                                    "SZALLAS_NEV": "Fortuna Panzió",
                                    "SZOBA_SZAMA": "10",
                                    "Foglalások száma": "11"
                                },
                                {
                                    "SZALLAS_NEV": "Gold Hotel",
                                    "SZOBA_SZAMA": "10",
                                    "Foglalások száma": "4"
                                },
                                {
                                    "SZALLAS_NEV": "Hotel Három Hattyú",
                                    "SZOBA_SZAMA": "10",
                                    "Foglalások száma": "4"
                                },
                                {
                                    "SZALLAS_NEV": "Kentaur Hotel",
                                    "SZOBA_SZAMA": "10",
                                    "Foglalások száma": "7"
                                },
                                {
                                    "SZALLAS_NEV": "Lagúna Hotel",
                                    "SZOBA_SZAMA": "10",
                                    "Foglalások száma": "5"
                                },
                                {
                                    "SZALLAS_NEV": "Sába-Ház",
                                    "SZOBA_SZAMA": "10",
                                    "Foglalások száma": "4"
                                },
                                {
                                    "SZALLAS_NEV": "Fortuna panzió",
                                    "SZOBA_SZAMA": "11",
                                    "Foglalások száma": "9"
                                },
                                {
                                    "SZALLAS_NEV": "Gold Hotel",
                                    "SZOBA_SZAMA": "11",
                                    "Foglalások száma": "5"
                                },
                                {
                                    "SZALLAS_NEV": "Hotel Három Hattyú",
                                    "SZOBA_SZAMA": "11",
                                    "Foglalások száma": "3"
                                },
                                {
                                    "SZALLAS_NEV": "Kentaur Hotel",
                                    "SZOBA_SZAMA": "11",
                                    "Foglalások száma": "1"
                                },
                                {
                                    "SZALLAS_NEV": "Lagúna Hotel",
                                    "SZOBA_SZAMA": "11",
                                    "Foglalások száma": "6"
                                },
                                {
                                    "SZALLAS_NEV": "Sába-Ház",
                                    "SZOBA_SZAMA": "11",
                                    "Foglalások száma": "4"
                                },
                                {
                                    "SZALLAS_NEV": "Fortuna panzió",
                                    "SZOBA_SZAMA": "12",
                                    "Foglalások száma": "6"
                                },
                                {
                                    "SZALLAS_NEV": "Gold Hotel",
                                    "SZOBA_SZAMA": "12",
                                    "Foglalások száma": "6"
                                },
                                {
                                    "SZALLAS_NEV": "Hotel Három Hattyú",
                                    "SZOBA_SZAMA": "12",
                                    "Foglalások száma": "2"
                                },
                                {
                                    "SZALLAS_NEV": "Kentaur Hotel",
                                    "SZOBA_SZAMA": "12",
                                    "Foglalások száma": "5"
                                },
                                {
                                    "SZALLAS_NEV": "Lagúna Hotel",
                                    "SZOBA_SZAMA": "12",
                                    "Foglalások száma": "6"
                                },
                                {
                                    "SZALLAS_NEV": "Sába-Ház",
                                    "SZOBA_SZAMA": "12",
                                    "Foglalások száma": "9"
                                },
                                {
                                    "SZALLAS_NEV": "Fortuna panzió",
                                    "SZOBA_SZAMA": "13",
                                    "Foglalások száma": "3"
                                },
                                {
                                    "SZALLAS_NEV": "Gold Hotel",
                                    "SZOBA_SZAMA": "13",
                                    "Foglalások száma": "4"
                                },
                                {
                                    "SZALLAS_NEV": "Hotel Három Hattyú",
                                    "SZOBA_SZAMA": "13",
                                    "Foglalások száma": "4"
                                },
                                {
                                    "SZALLAS_NEV": "Kentaur Hotel",
                                    "SZOBA_SZAMA": "13",
                                    "Foglalások száma": "5"
                                },
                                {
                                    "SZALLAS_NEV": "Lagúna Hotel",
                                    "SZOBA_SZAMA": "13",
                                    "Foglalások száma": "1"
                                },
                                {
                                    "SZALLAS_NEV": "Fortuna panzió",
                                    "SZOBA_SZAMA": "14",
                                    "Foglalások száma": "8"
                                },
                                {
                                    "SZALLAS_NEV": "Gold Hotel",
                                    "SZOBA_SZAMA": "14",
                                    "Foglalások száma": "4"
                                },
                                {
                                    "SZALLAS_NEV": "Hotel Három Hattyú",
                                    "SZOBA_SZAMA": "14",
                                    "Foglalások száma": "4"
                                },
                                {
                                    "SZALLAS_NEV": "Kentaur Hotel",
                                    "SZOBA_SZAMA": "14",
                                    "Foglalások száma": "4"
                                },
                                {
                                    "SZALLAS_NEV": "Lagúna Hotel",
                                    "SZOBA_SZAMA": "14",
                                    "Foglalások száma": "6"
                                },
                                {
                                    "SZALLAS_NEV": "Fortuna panzió",
                                    "SZOBA_SZAMA": "15",
                                    "Foglalások száma": "7"
                                },
                                {
                                    "SZALLAS_NEV": "Gold Hotel",
                                    "SZOBA_SZAMA": "15",
                                    "Foglalások száma": "3"
                                },
                                {
                                    "SZALLAS_NEV": "Hotel Három Hattyú",
                                    "SZOBA_SZAMA": "15",
                                    "Foglalások száma": "2"
                                },
                                {
                                    "SZALLAS_NEV": "Kentaur Hotel",
                                    "SZOBA_SZAMA": "15",
                                    "Foglalások száma": "6"
                                },
                                {
                                    "SZALLAS_NEV": "Lagúna Hotel",
                                    "SZOBA_SZAMA": "15",
                                    "Foglalások száma": "7"
                                },
                                {
                                    "SZALLAS_NEV": "Gold Hotel",
                                    "SZOBA_SZAMA": "16",
                                    "Foglalások száma": "3"
                                },
                                {
                                    "SZALLAS_NEV": "Hotel Három Hattyú",
                                    "SZOBA_SZAMA": "16",
                                    "Foglalások száma": "6"
                                },
                                {
                                    "SZALLAS_NEV": "Kentaur Hotel",
                                    "SZOBA_SZAMA": "16",
                                    "Foglalások száma": "1"
                                },
                                {
                                    "SZALLAS_NEV": "Lagúna Hotel",
                                    "SZOBA_SZAMA": "16",
                                    "Foglalások száma": "6"
                                },
                                {
                                    "SZALLAS_NEV": "Gold Hotel",
                                    "SZOBA_SZAMA": "17",
                                    "Foglalások száma": "6"
                                },
                                {
                                    "SZALLAS_NEV": "Hotel Három Hattyú",
                                    "SZOBA_SZAMA": "17",
                                    "Foglalások száma": "5"
                                },
                                {
                                    "SZALLAS_NEV": "Kentaur Hotel",
                                    "SZOBA_SZAMA": "17",
                                    "Foglalások száma": "4"
                                },
                                {
                                    "SZALLAS_NEV": "Lagúna Hotel",
                                    "SZOBA_SZAMA": "17",
                                    "Foglalások száma": "3"
                                },
                                {
                                    "SZALLAS_NEV": "Gold Hotel",
                                    "SZOBA_SZAMA": "18",
                                    "Foglalások száma": "12"
                                },
                                {
                                    "SZALLAS_NEV": "Hotel Három Hattyú",
                                    "SZOBA_SZAMA": "18",
                                    "Foglalások száma": "2"
                                },
                                {
                                    "SZALLAS_NEV": "Kentaur Hotel",
                                    "SZOBA_SZAMA": "18",
                                    "Foglalások száma": "6"
                                },
                                {
                                    "SZALLAS_NEV": "Lagúna Hotel",
                                    "SZOBA_SZAMA": "18",
                                    "Foglalások száma": "4"
                                },
                                {
                                    "SZALLAS_NEV": "Gold Hotel",
                                    "SZOBA_SZAMA": "19",
                                    "Foglalások száma": "4"
                                },
                                {
                                    "SZALLAS_NEV": "Hotel Három Hattyú",
                                    "SZOBA_SZAMA": "19",
                                    "Foglalások száma": "7"
                                },
                                {
                                    "SZALLAS_NEV": "Kentaur Hotel",
                                    "SZOBA_SZAMA": "19",
                                    "Foglalások száma": "3"
                                },
                                {
                                    "SZALLAS_NEV": "Lagúna Hotel",
                                    "SZOBA_SZAMA": "19",
                                    "Foglalások száma": "5"
                                },
                                {
                                    "SZALLAS_NEV": "Családi Ház",
                                    "SZOBA_SZAMA": "2",
                                    "Foglalások száma": "3"
                                },
                                {
                                    "SZALLAS_NEV": "Fortuna Apartman",
                                    "SZOBA_SZAMA": "2",
                                    "Foglalások száma": "6"
                                },
                                {
                                    "SZALLAS_NEV": "Fortuna Panzió",
                                    "SZOBA_SZAMA": "2",
                                    "Foglalások száma": "4"
                                },
                                {
                                    "SZALLAS_NEV": "Gold Hotel",
                                    "SZOBA_SZAMA": "2",
                                    "Foglalások száma": "3"
                                },
                                {
                                    "SZALLAS_NEV": "Hotel Három Hattyú",
                                    "SZOBA_SZAMA": "2",
                                    "Foglalások száma": "6"
                                },
                                {
                                    "SZALLAS_NEV": "Jáde panzió",
                                    "SZOBA_SZAMA": "2",
                                    "Foglalások száma": "5"
                                },
                                {
                                    "SZALLAS_NEV": "Kentaur Hotel",
                                    "SZOBA_SZAMA": "2",
                                    "Foglalások száma": "5"
                                },
                                {
                                    "SZALLAS_NEV": "Lagúna Hotel",
                                    "SZOBA_SZAMA": "2",
                                    "Foglalások száma": "3"
                                },
                                {
                                    "SZALLAS_NEV": "Partiszél Vendégház",
                                    "SZOBA_SZAMA": "2",
                                    "Foglalások száma": "6"
                                },
                                {
                                    "SZALLAS_NEV": "Sába-Ház",
                                    "SZOBA_SZAMA": "2",
                                    "Foglalások száma": "4"
                                },
                                {
                                    "SZALLAS_NEV": "Szieszta Apartmanház",
                                    "SZOBA_SZAMA": "2",
                                    "Foglalások száma": "5"
                                },
                                {
                                    "SZALLAS_NEV": "Gold Hotel",
                                    "SZOBA_SZAMA": "20",
                                    "Foglalások száma": "4"
                                },
                                {
                                    "SZALLAS_NEV": "Hotel Három Hattyú",
                                    "SZOBA_SZAMA": "20",
                                    "Foglalások száma": "8"
                                },
                                {
                                    "SZALLAS_NEV": "Kentaur Hotel",
                                    "SZOBA_SZAMA": "20",
                                    "Foglalások száma": "4"
                                },
                                {
                                    "SZALLAS_NEV": "Lagúna Hotel",
                                    "SZOBA_SZAMA": "20",
                                    "Foglalások száma": "5"
                                },
                                {
                                    "SZALLAS_NEV": "Gold Hotel",
                                    "SZOBA_SZAMA": "21",
                                    "Foglalások száma": "12"
                                },
                                {
                                    "SZALLAS_NEV": "Hotel Három Hattyú",
                                    "SZOBA_SZAMA": "21",
                                    "Foglalások száma": "5"
                                },
                                {
                                    "SZALLAS_NEV": "Kentaur Hotel",
                                    "SZOBA_SZAMA": "21",
                                    "Foglalások száma": "11"
                                },
                                {
                                    "SZALLAS_NEV": "Lagúna Hotel",
                                    "SZOBA_SZAMA": "21",
                                    "Foglalások száma": "5"
                                },
                                {
                                    "SZALLAS_NEV": "Gold Hotel",
                                    "SZOBA_SZAMA": "22",
                                    "Foglalások száma": "4"
                                },
                                {
                                    "SZALLAS_NEV": "Hotel Három Hattyú",
                                    "SZOBA_SZAMA": "22",
                                    "Foglalások száma": "5"
                                },
                                {
                                    "SZALLAS_NEV": "Kentaur Hotel",
                                    "SZOBA_SZAMA": "22",
                                    "Foglalások száma": "3"
                                },
                                {
                                    "SZALLAS_NEV": "Lagúna Hotel",
                                    "SZOBA_SZAMA": "22",
                                    "Foglalások száma": "7"
                                },
                                {
                                    "SZALLAS_NEV": "Gold Hotel",
                                    "SZOBA_SZAMA": "23",
                                    "Foglalások száma": "7"
                                },
                                {
                                    "SZALLAS_NEV": "Hotel Három Hattyú",
                                    "SZOBA_SZAMA": "23",
                                    "Foglalások száma": "5"
                                },
                                {
                                    "SZALLAS_NEV": "Kentaur Hotel",
                                    "SZOBA_SZAMA": "23",
                                    "Foglalások száma": "4"
                                },
                                {
                                    "SZALLAS_NEV": "Lagúna Hotel",
                                    "SZOBA_SZAMA": "23",
                                    "Foglalások száma": "5"
                                },
                                {
                                    "SZALLAS_NEV": "Gold Hotel",
                                    "SZOBA_SZAMA": "24",
                                    "Foglalások száma": "6"
                                },
                                {
                                    "SZALLAS_NEV": "Hotel Három Hattyú",
                                    "SZOBA_SZAMA": "24",
                                    "Foglalások száma": "4"
                                },
                                {
                                    "SZALLAS_NEV": "Kentaur Hotel",
                                    "SZOBA_SZAMA": "24",
                                    "Foglalások száma": "4"
                                },
                                {
                                    "SZALLAS_NEV": "Lagúna Hotel",
                                    "SZOBA_SZAMA": "24",
                                    "Foglalások száma": "3"
                                },
                                {
                                    "SZALLAS_NEV": "Gold Hotel",
                                    "SZOBA_SZAMA": "25",
                                    "Foglalások száma": "5"
                                },
                                {
                                    "SZALLAS_NEV": "Hotel Három Hattyú",
                                    "SZOBA_SZAMA": "25",
                                    "Foglalások száma": "7"
                                },
                                {
                                    "SZALLAS_NEV": "Kentaur Hotel",
                                    "SZOBA_SZAMA": "25",
                                    "Foglalások száma": "9"
                                },
                                {
                                    "SZALLAS_NEV": "Gold Hotel",
                                    "SZOBA_SZAMA": "26",
                                    "Foglalások száma": "5"
                                },
                                {
                                    "SZALLAS_NEV": "Hotel Három Hattyú",
                                    "SZOBA_SZAMA": "26",
                                    "Foglalások száma": "2"
                                },
                                {
                                    "SZALLAS_NEV": "Kentaur Hotel",
                                    "SZOBA_SZAMA": "26",
                                    "Foglalások száma": "3"
                                },
                                {
                                    "SZALLAS_NEV": "Gold Hotel",
                                    "SZOBA_SZAMA": "27",
                                    "Foglalások száma": "5"
                                },
                                {
                                    "SZALLAS_NEV": "Hotel Három Hattyú",
                                    "SZOBA_SZAMA": "27",
                                    "Foglalások száma": "8"
                                },
                                {
                                    "SZALLAS_NEV": "Kentaur Hotel",
                                    "SZOBA_SZAMA": "27",
                                    "Foglalások száma": "3"
                                },
                                {
                                    "SZALLAS_NEV": "Gold Hotel",
                                    "SZOBA_SZAMA": "28",
                                    "Foglalások száma": "2"
                                },
                                {
                                    "SZALLAS_NEV": "Hotel Három Hattyú",
                                    "SZOBA_SZAMA": "28",
                                    "Foglalások száma": "7"
                                },
                                {
                                    "SZALLAS_NEV": "Kentaur Hotel",
                                    "SZOBA_SZAMA": "28",
                                    "Foglalások száma": "6"
                                },
                                {
                                    "SZALLAS_NEV": "Gold Hotel",
                                    "SZOBA_SZAMA": "29",
                                    "Foglalások száma": "7"
                                },
                                {
                                    "SZALLAS_NEV": "Hotel Három Hattyú",
                                    "SZOBA_SZAMA": "29",
                                    "Foglalások száma": "5"
                                },
                                {
                                    "SZALLAS_NEV": "Kentaur Hotel",
                                    "SZOBA_SZAMA": "29",
                                    "Foglalások száma": "6"
                                },
                                {
                                    "SZALLAS_NEV": "Családi Ház",
                                    "SZOBA_SZAMA": "3",
                                    "Foglalások száma": "6"
                                },
                                {
                                    "SZALLAS_NEV": "Fortuna Apartman",
                                    "SZOBA_SZAMA": "3",
                                    "Foglalások száma": "6"
                                },
                                {
                                    "SZALLAS_NEV": "Fortuna panzió",
                                    "SZOBA_SZAMA": "3",
                                    "Foglalások száma": "13"
                                },
                                {
                                    "SZALLAS_NEV": "Gold Hotel",
                                    "SZOBA_SZAMA": "3",
                                    "Foglalások száma": "2"
                                },
                                {
                                    "SZALLAS_NEV": "Hotel Három Hattyú",
                                    "SZOBA_SZAMA": "3",
                                    "Foglalások száma": "5"
                                },
                                {
                                    "SZALLAS_NEV": "Jáde panzió",
                                    "SZOBA_SZAMA": "3",
                                    "Foglalások száma": "6"
                                },
                                {
                                    "SZALLAS_NEV": "Kentaur Hotel",
                                    "SZOBA_SZAMA": "3",
                                    "Foglalások száma": "5"
                                },
                                {
                                    "SZALLAS_NEV": "Lagúna Hotel",
                                    "SZOBA_SZAMA": "3",
                                    "Foglalások száma": "6"
                                },
                                {
                                    "SZALLAS_NEV": "Partiszél Vendégház",
                                    "SZOBA_SZAMA": "3",
                                    "Foglalások száma": "3"
                                },
                                {
                                    "SZALLAS_NEV": "Sába-Ház",
                                    "SZOBA_SZAMA": "3",
                                    "Foglalások száma": "8"
                                },
                                {
                                    "SZALLAS_NEV": "Szieszta Apartmanház",
                                    "SZOBA_SZAMA": "3",
                                    "Foglalások száma": "5"
                                },
                                {
                                    "SZALLAS_NEV": "Gold Hotel",
                                    "SZOBA_SZAMA": "30",
                                    "Foglalások száma": "1"
                                },
                                {
                                    "SZALLAS_NEV": "Hotel Három Hattyú",
                                    "SZOBA_SZAMA": "30",
                                    "Foglalások száma": "6"
                                },
                                {
                                    "SZALLAS_NEV": "Kentaur Hotel",
                                    "SZOBA_SZAMA": "30",
                                    "Foglalások száma": "5"
                                },
                                {
                                    "SZALLAS_NEV": "Gold Hotel",
                                    "SZOBA_SZAMA": "31",
                                    "Foglalások száma": "6"
                                },
                                {
                                    "SZALLAS_NEV": "Hotel Három Hattyú",
                                    "SZOBA_SZAMA": "31",
                                    "Foglalások száma": "8"
                                },
                                {
                                    "SZALLAS_NEV": "Kentaur Hotel",
                                    "SZOBA_SZAMA": "31",
                                    "Foglalások száma": "7"
                                },
                                {
                                    "SZALLAS_NEV": "Gold Hotel",
                                    "SZOBA_SZAMA": "32",
                                    "Foglalások száma": "4"
                                },
                                {
                                    "SZALLAS_NEV": "Hotel Három Hattyú",
                                    "SZOBA_SZAMA": "32",
                                    "Foglalások száma": "9"
                                },
                                {
                                    "SZALLAS_NEV": "Kentaur Hotel",
                                    "SZOBA_SZAMA": "32",
                                    "Foglalások száma": "5"
                                },
                                {
                                    "SZALLAS_NEV": "Gold Hotel",
                                    "SZOBA_SZAMA": "33",
                                    "Foglalások száma": "6"
                                },
                                {
                                    "SZALLAS_NEV": "Hotel Három Hattyú",
                                    "SZOBA_SZAMA": "33",
                                    "Foglalások száma": "5"
                                },
                                {
                                    "SZALLAS_NEV": "Kentaur Hotel",
                                    "SZOBA_SZAMA": "33",
                                    "Foglalások száma": "6"
                                },
                                {
                                    "SZALLAS_NEV": "Gold Hotel",
                                    "SZOBA_SZAMA": "34",
                                    "Foglalások száma": "8"
                                },
                                {
                                    "SZALLAS_NEV": "Hotel Három Hattyú",
                                    "SZOBA_SZAMA": "34",
                                    "Foglalások száma": "6"
                                },
                                {
                                    "SZALLAS_NEV": "Kentaur Hotel",
                                    "SZOBA_SZAMA": "34",
                                    "Foglalások száma": "8"
                                },
                                {
                                    "SZALLAS_NEV": "Hotel Három Hattyú",
                                    "SZOBA_SZAMA": "35",
                                    "Foglalások száma": "1"
                                },
                                {
                                    "SZALLAS_NEV": "Kentaur Hotel",
                                    "SZOBA_SZAMA": "35",
                                    "Foglalások száma": "4"
                                },
                                {
                                    "SZALLAS_NEV": "Hotel Három Hattyú",
                                    "SZOBA_SZAMA": "36",
                                    "Foglalások száma": "6"
                                },
                                {
                                    "SZALLAS_NEV": "Hotel Három Hattyú",
                                    "SZOBA_SZAMA": "37",
                                    "Foglalások száma": "7"
                                },
                                {
                                    "SZALLAS_NEV": "Hotel Három Hattyú",
                                    "SZOBA_SZAMA": "38",
                                    "Foglalások száma": "5"
                                },
                                {
                                    "SZALLAS_NEV": "Hotel Három Hattyú",
                                    "SZOBA_SZAMA": "39",
                                    "Foglalások száma": "4"
                                },
                                {
                                    "SZALLAS_NEV": "Családi Ház",
                                    "SZOBA_SZAMA": "4",
                                    "Foglalások száma": "5"
                                },
                                {
                                    "SZALLAS_NEV": "Fortuna Apartman",
                                    "SZOBA_SZAMA": "4",
                                    "Foglalások száma": "5"
                                },
                                {
                                    "SZALLAS_NEV": "Fortuna panzió",
                                    "SZOBA_SZAMA": "4",
                                    "Foglalások száma": "14"
                                },
                                {
                                    "SZALLAS_NEV": "Gold Hotel",
                                    "SZOBA_SZAMA": "4",
                                    "Foglalások száma": "5"
                                },
                                {
                                    "SZALLAS_NEV": "Hotel Három Hattyú",
                                    "SZOBA_SZAMA": "4",
                                    "Foglalások száma": "10"
                                },
                                {
                                    "SZALLAS_NEV": "Jáde panzió",
                                    "SZOBA_SZAMA": "4",
                                    "Foglalások száma": "6"
                                },
                                {
                                    "SZALLAS_NEV": "Kentaur Hotel",
                                    "SZOBA_SZAMA": "4",
                                    "Foglalások száma": "2"
                                },
                                {
                                    "SZALLAS_NEV": "Lagúna Hotel",
                                    "SZOBA_SZAMA": "4",
                                    "Foglalások száma": "7"
                                },
                                {
                                    "SZALLAS_NEV": "Partiszél Vendégház",
                                    "SZOBA_SZAMA": "4",
                                    "Foglalások száma": "7"
                                },
                                {
                                    "SZALLAS_NEV": "Sába-Ház",
                                    "SZOBA_SZAMA": "4",
                                    "Foglalások száma": "6"
                                },
                                {
                                    "SZALLAS_NEV": "Szieszta Apartmanház",
                                    "SZOBA_SZAMA": "4",
                                    "Foglalások száma": "8"
                                },
                                {
                                    "SZALLAS_NEV": "Fortuna Apartman",
                                    "SZOBA_SZAMA": "5",
                                    "Foglalások száma": "4"
                                },
                                {
                                    "SZALLAS_NEV": "Fortuna panzió",
                                    "SZOBA_SZAMA": "5",
                                    "Foglalások száma": "12"
                                },
                                {
                                    "SZALLAS_NEV": "Gold Hotel",
                                    "SZOBA_SZAMA": "5",
                                    "Foglalások száma": "6"
                                },
                                {
                                    "SZALLAS_NEV": "Hotel Három Hattyú",
                                    "SZOBA_SZAMA": "5",
                                    "Foglalások száma": "4"
                                },
                                {
                                    "SZALLAS_NEV": "Jáde panzió",
                                    "SZOBA_SZAMA": "5",
                                    "Foglalások száma": "6"
                                },
                                {
                                    "SZALLAS_NEV": "Kentaur Hotel",
                                    "SZOBA_SZAMA": "5",
                                    "Foglalások száma": "6"
                                },
                                {
                                    "SZALLAS_NEV": "Lagúna Hotel",
                                    "SZOBA_SZAMA": "5",
                                    "Foglalások száma": "7"
                                },
                                {
                                    "SZALLAS_NEV": "Partiszél Vendégház",
                                    "SZOBA_SZAMA": "5",
                                    "Foglalások száma": "5"
                                },
                                {
                                    "SZALLAS_NEV": "Sába-Ház",
                                    "SZOBA_SZAMA": "5",
                                    "Foglalások száma": "4"
                                },
                                {
                                    "SZALLAS_NEV": "Szieszta Apartmanház",
                                    "SZOBA_SZAMA": "5",
                                    "Foglalások száma": "8"
                                },
                                {
                                    "SZALLAS_NEV": "Fortuna Apartman",
                                    "SZOBA_SZAMA": "6",
                                    "Foglalások száma": "6"
                                },
                                {
                                    "SZALLAS_NEV": "Fortuna Panzió",
                                    "SZOBA_SZAMA": "6",
                                    "Foglalások száma": "8"
                                },
                                {
                                    "SZALLAS_NEV": "Gold Hotel",
                                    "SZOBA_SZAMA": "6",
                                    "Foglalások száma": "5"
                                },
                                {
                                    "SZALLAS_NEV": "Hotel Három Hattyú",
                                    "SZOBA_SZAMA": "6",
                                    "Foglalások száma": "7"
                                },
                                {
                                    "SZALLAS_NEV": "Kentaur Hotel",
                                    "SZOBA_SZAMA": "6",
                                    "Foglalások száma": "8"
                                },
                                {
                                    "SZALLAS_NEV": "Lagúna Hotel",
                                    "SZOBA_SZAMA": "6",
                                    "Foglalások száma": "8"
                                },
                                {
                                    "SZALLAS_NEV": "Sába-Ház",
                                    "SZOBA_SZAMA": "6",
                                    "Foglalások száma": "6"
                                },
                                {
                                    "SZALLAS_NEV": "Szieszta Apartmanház",
                                    "SZOBA_SZAMA": "6",
                                    "Foglalások száma": "4"
                                },
                                {
                                    "SZALLAS_NEV": "Fortuna Apartman",
                                    "SZOBA_SZAMA": "7",
                                    "Foglalások száma": "3"
                                },
                                {
                                    "SZALLAS_NEV": "Fortuna panzió",
                                    "SZOBA_SZAMA": "7",
                                    "Foglalások száma": "7"
                                },
                                {
                                    "SZALLAS_NEV": "Gold Hotel",
                                    "SZOBA_SZAMA": "7",
                                    "Foglalások száma": "5"
                                },
                                {
                                    "SZALLAS_NEV": "Hotel Három Hattyú",
                                    "SZOBA_SZAMA": "7",
                                    "Foglalások száma": "7"
                                },
                                {
                                    "SZALLAS_NEV": "Kentaur Hotel",
                                    "SZOBA_SZAMA": "7",
                                    "Foglalások száma": "2"
                                },
                                {
                                    "SZALLAS_NEV": "Lagúna Hotel",
                                    "SZOBA_SZAMA": "7",
                                    "Foglalások száma": "6"
                                },
                                {
                                    "SZALLAS_NEV": "Sába-Ház",
                                    "SZOBA_SZAMA": "7",
                                    "Foglalások száma": "6"
                                },
                                {
                                    "SZALLAS_NEV": "Fortuna Apartman",
                                    "SZOBA_SZAMA": "8",
                                    "Foglalások száma": "3"
                                },
                                {
                                    "SZALLAS_NEV": "Fortuna panzió",
                                    "SZOBA_SZAMA": "8",
                                    "Foglalások száma": "3"
                                },
                                {
                                    "SZALLAS_NEV": "Gold Hotel",
                                    "SZOBA_SZAMA": "8",
                                    "Foglalások száma": "9"
                                },
                                {
                                    "SZALLAS_NEV": "Hotel Három Hattyú",
                                    "SZOBA_SZAMA": "8",
                                    "Foglalások száma": "4"
                                },
                                {
                                    "SZALLAS_NEV": "Kentaur Hotel",
                                    "SZOBA_SZAMA": "8",
                                    "Foglalások száma": "4"
                                },
                                {
                                    "SZALLAS_NEV": "Lagúna Hotel",
                                    "SZOBA_SZAMA": "8",
                                    "Foglalások száma": "2"
                                },
                                {
                                    "SZALLAS_NEV": "Sába-Ház",
                                    "SZOBA_SZAMA": "8",
                                    "Foglalások száma": "5"
                                },
                                {
                                    "SZALLAS_NEV": "Fortuna Panzió",
                                    "SZOBA_SZAMA": "9",
                                    "Foglalások száma": "15"
                                },
                                {
                                    "SZALLAS_NEV": "Gold Hotel",
                                    "SZOBA_SZAMA": "9",
                                    "Foglalások száma": "4"
                                },
                                {
                                    "SZALLAS_NEV": "Hotel Három Hattyú",
                                    "SZOBA_SZAMA": "9",
                                    "Foglalások száma": "5"
                                },
                                {
                                    "SZALLAS_NEV": "Kentaur Hotel",
                                    "SZOBA_SZAMA": "9",
                                    "Foglalások száma": "13"
                                },
                                {
                                    "SZALLAS_NEV": "Lagúna Hotel",
                                    "SZOBA_SZAMA": "9",
                                    "Foglalások száma": "7"
                                },
                                {
                                    "SZALLAS_NEV": "Sába-Ház",
                                    "SZOBA_SZAMA": "9",
                                    "Foglalások száma": "6"
                                }
                            ]
                        },
                        "text/html": [
                            "<table>",
                            "<tr><th>SZALLAS_NEV</th><th>SZOBA_SZAMA</th><th>Foglalások száma</th></tr>",
                            "<tr><td>Családi Ház</td><td>1</td><td>4</td></tr>",
                            "<tr><td>Fortuna Apartman</td><td>1</td><td>6</td></tr>",
                            "<tr><td>Fortuna Panzió</td><td>1</td><td>6</td></tr>",
                            "<tr><td>Gold Hotel</td><td>1</td><td>7</td></tr>",
                            "<tr><td>Hotel Három Hattyú</td><td>1</td><td>4</td></tr>",
                            "<tr><td>Jáde panzió</td><td>1</td><td>6</td></tr>",
                            "<tr><td>Kentaur Hotel</td><td>1</td><td>4</td></tr>",
                            "<tr><td>Lagúna Hotel</td><td>1</td><td>3</td></tr>",
                            "<tr><td>Partiszél Vendégház</td><td>1</td><td>5</td></tr>",
                            "<tr><td>Sába-Ház</td><td>1</td><td>8</td></tr>",
                            "<tr><td>Szieszta Apartmanház</td><td>1</td><td>4</td></tr>",
                            "<tr><td>Fortuna Panzió</td><td>10</td><td>11</td></tr>",
                            "<tr><td>Gold Hotel</td><td>10</td><td>4</td></tr>",
                            "<tr><td>Hotel Három Hattyú</td><td>10</td><td>4</td></tr>",
                            "<tr><td>Kentaur Hotel</td><td>10</td><td>7</td></tr>",
                            "<tr><td>Lagúna Hotel</td><td>10</td><td>5</td></tr>",
                            "<tr><td>Sába-Ház</td><td>10</td><td>4</td></tr>",
                            "<tr><td>Fortuna panzió</td><td>11</td><td>9</td></tr>",
                            "<tr><td>Gold Hotel</td><td>11</td><td>5</td></tr>",
                            "<tr><td>Hotel Három Hattyú</td><td>11</td><td>3</td></tr>",
                            "<tr><td>Kentaur Hotel</td><td>11</td><td>1</td></tr>",
                            "<tr><td>Lagúna Hotel</td><td>11</td><td>6</td></tr>",
                            "<tr><td>Sába-Ház</td><td>11</td><td>4</td></tr>",
                            "<tr><td>Fortuna panzió</td><td>12</td><td>6</td></tr>",
                            "<tr><td>Gold Hotel</td><td>12</td><td>6</td></tr>",
                            "<tr><td>Hotel Három Hattyú</td><td>12</td><td>2</td></tr>",
                            "<tr><td>Kentaur Hotel</td><td>12</td><td>5</td></tr>",
                            "<tr><td>Lagúna Hotel</td><td>12</td><td>6</td></tr>",
                            "<tr><td>Sába-Ház</td><td>12</td><td>9</td></tr>",
                            "<tr><td>Fortuna panzió</td><td>13</td><td>3</td></tr>",
                            "<tr><td>Gold Hotel</td><td>13</td><td>4</td></tr>",
                            "<tr><td>Hotel Három Hattyú</td><td>13</td><td>4</td></tr>",
                            "<tr><td>Kentaur Hotel</td><td>13</td><td>5</td></tr>",
                            "<tr><td>Lagúna Hotel</td><td>13</td><td>1</td></tr>",
                            "<tr><td>Fortuna panzió</td><td>14</td><td>8</td></tr>",
                            "<tr><td>Gold Hotel</td><td>14</td><td>4</td></tr>",
                            "<tr><td>Hotel Három Hattyú</td><td>14</td><td>4</td></tr>",
                            "<tr><td>Kentaur Hotel</td><td>14</td><td>4</td></tr>",
                            "<tr><td>Lagúna Hotel</td><td>14</td><td>6</td></tr>",
                            "<tr><td>Fortuna panzió</td><td>15</td><td>7</td></tr>",
                            "<tr><td>Gold Hotel</td><td>15</td><td>3</td></tr>",
                            "<tr><td>Hotel Három Hattyú</td><td>15</td><td>2</td></tr>",
                            "<tr><td>Kentaur Hotel</td><td>15</td><td>6</td></tr>",
                            "<tr><td>Lagúna Hotel</td><td>15</td><td>7</td></tr>",
                            "<tr><td>Gold Hotel</td><td>16</td><td>3</td></tr>",
                            "<tr><td>Hotel Három Hattyú</td><td>16</td><td>6</td></tr>",
                            "<tr><td>Kentaur Hotel</td><td>16</td><td>1</td></tr>",
                            "<tr><td>Lagúna Hotel</td><td>16</td><td>6</td></tr>",
                            "<tr><td>Gold Hotel</td><td>17</td><td>6</td></tr>",
                            "<tr><td>Hotel Három Hattyú</td><td>17</td><td>5</td></tr>",
                            "<tr><td>Kentaur Hotel</td><td>17</td><td>4</td></tr>",
                            "<tr><td>Lagúna Hotel</td><td>17</td><td>3</td></tr>",
                            "<tr><td>Gold Hotel</td><td>18</td><td>12</td></tr>",
                            "<tr><td>Hotel Három Hattyú</td><td>18</td><td>2</td></tr>",
                            "<tr><td>Kentaur Hotel</td><td>18</td><td>6</td></tr>",
                            "<tr><td>Lagúna Hotel</td><td>18</td><td>4</td></tr>",
                            "<tr><td>Gold Hotel</td><td>19</td><td>4</td></tr>",
                            "<tr><td>Hotel Három Hattyú</td><td>19</td><td>7</td></tr>",
                            "<tr><td>Kentaur Hotel</td><td>19</td><td>3</td></tr>",
                            "<tr><td>Lagúna Hotel</td><td>19</td><td>5</td></tr>",
                            "<tr><td>Családi Ház</td><td>2</td><td>3</td></tr>",
                            "<tr><td>Fortuna Apartman</td><td>2</td><td>6</td></tr>",
                            "<tr><td>Fortuna Panzió</td><td>2</td><td>4</td></tr>",
                            "<tr><td>Gold Hotel</td><td>2</td><td>3</td></tr>",
                            "<tr><td>Hotel Három Hattyú</td><td>2</td><td>6</td></tr>",
                            "<tr><td>Jáde panzió</td><td>2</td><td>5</td></tr>",
                            "<tr><td>Kentaur Hotel</td><td>2</td><td>5</td></tr>",
                            "<tr><td>Lagúna Hotel</td><td>2</td><td>3</td></tr>",
                            "<tr><td>Partiszél Vendégház</td><td>2</td><td>6</td></tr>",
                            "<tr><td>Sába-Ház</td><td>2</td><td>4</td></tr>",
                            "<tr><td>Szieszta Apartmanház</td><td>2</td><td>5</td></tr>",
                            "<tr><td>Gold Hotel</td><td>20</td><td>4</td></tr>",
                            "<tr><td>Hotel Három Hattyú</td><td>20</td><td>8</td></tr>",
                            "<tr><td>Kentaur Hotel</td><td>20</td><td>4</td></tr>",
                            "<tr><td>Lagúna Hotel</td><td>20</td><td>5</td></tr>",
                            "<tr><td>Gold Hotel</td><td>21</td><td>12</td></tr>",
                            "<tr><td>Hotel Három Hattyú</td><td>21</td><td>5</td></tr>",
                            "<tr><td>Kentaur Hotel</td><td>21</td><td>11</td></tr>",
                            "<tr><td>Lagúna Hotel</td><td>21</td><td>5</td></tr>",
                            "<tr><td>Gold Hotel</td><td>22</td><td>4</td></tr>",
                            "<tr><td>Hotel Három Hattyú</td><td>22</td><td>5</td></tr>",
                            "<tr><td>Kentaur Hotel</td><td>22</td><td>3</td></tr>",
                            "<tr><td>Lagúna Hotel</td><td>22</td><td>7</td></tr>",
                            "<tr><td>Gold Hotel</td><td>23</td><td>7</td></tr>",
                            "<tr><td>Hotel Három Hattyú</td><td>23</td><td>5</td></tr>",
                            "<tr><td>Kentaur Hotel</td><td>23</td><td>4</td></tr>",
                            "<tr><td>Lagúna Hotel</td><td>23</td><td>5</td></tr>",
                            "<tr><td>Gold Hotel</td><td>24</td><td>6</td></tr>",
                            "<tr><td>Hotel Három Hattyú</td><td>24</td><td>4</td></tr>",
                            "<tr><td>Kentaur Hotel</td><td>24</td><td>4</td></tr>",
                            "<tr><td>Lagúna Hotel</td><td>24</td><td>3</td></tr>",
                            "<tr><td>Gold Hotel</td><td>25</td><td>5</td></tr>",
                            "<tr><td>Hotel Három Hattyú</td><td>25</td><td>7</td></tr>",
                            "<tr><td>Kentaur Hotel</td><td>25</td><td>9</td></tr>",
                            "<tr><td>Gold Hotel</td><td>26</td><td>5</td></tr>",
                            "<tr><td>Hotel Három Hattyú</td><td>26</td><td>2</td></tr>",
                            "<tr><td>Kentaur Hotel</td><td>26</td><td>3</td></tr>",
                            "<tr><td>Gold Hotel</td><td>27</td><td>5</td></tr>",
                            "<tr><td>Hotel Három Hattyú</td><td>27</td><td>8</td></tr>",
                            "<tr><td>Kentaur Hotel</td><td>27</td><td>3</td></tr>",
                            "<tr><td>Gold Hotel</td><td>28</td><td>2</td></tr>",
                            "<tr><td>Hotel Három Hattyú</td><td>28</td><td>7</td></tr>",
                            "<tr><td>Kentaur Hotel</td><td>28</td><td>6</td></tr>",
                            "<tr><td>Gold Hotel</td><td>29</td><td>7</td></tr>",
                            "<tr><td>Hotel Három Hattyú</td><td>29</td><td>5</td></tr>",
                            "<tr><td>Kentaur Hotel</td><td>29</td><td>6</td></tr>",
                            "<tr><td>Családi Ház</td><td>3</td><td>6</td></tr>",
                            "<tr><td>Fortuna Apartman</td><td>3</td><td>6</td></tr>",
                            "<tr><td>Fortuna panzió</td><td>3</td><td>13</td></tr>",
                            "<tr><td>Gold Hotel</td><td>3</td><td>2</td></tr>",
                            "<tr><td>Hotel Három Hattyú</td><td>3</td><td>5</td></tr>",
                            "<tr><td>Jáde panzió</td><td>3</td><td>6</td></tr>",
                            "<tr><td>Kentaur Hotel</td><td>3</td><td>5</td></tr>",
                            "<tr><td>Lagúna Hotel</td><td>3</td><td>6</td></tr>",
                            "<tr><td>Partiszél Vendégház</td><td>3</td><td>3</td></tr>",
                            "<tr><td>Sába-Ház</td><td>3</td><td>8</td></tr>",
                            "<tr><td>Szieszta Apartmanház</td><td>3</td><td>5</td></tr>",
                            "<tr><td>Gold Hotel</td><td>30</td><td>1</td></tr>",
                            "<tr><td>Hotel Három Hattyú</td><td>30</td><td>6</td></tr>",
                            "<tr><td>Kentaur Hotel</td><td>30</td><td>5</td></tr>",
                            "<tr><td>Gold Hotel</td><td>31</td><td>6</td></tr>",
                            "<tr><td>Hotel Három Hattyú</td><td>31</td><td>8</td></tr>",
                            "<tr><td>Kentaur Hotel</td><td>31</td><td>7</td></tr>",
                            "<tr><td>Gold Hotel</td><td>32</td><td>4</td></tr>",
                            "<tr><td>Hotel Három Hattyú</td><td>32</td><td>9</td></tr>",
                            "<tr><td>Kentaur Hotel</td><td>32</td><td>5</td></tr>",
                            "<tr><td>Gold Hotel</td><td>33</td><td>6</td></tr>",
                            "<tr><td>Hotel Három Hattyú</td><td>33</td><td>5</td></tr>",
                            "<tr><td>Kentaur Hotel</td><td>33</td><td>6</td></tr>",
                            "<tr><td>Gold Hotel</td><td>34</td><td>8</td></tr>",
                            "<tr><td>Hotel Három Hattyú</td><td>34</td><td>6</td></tr>",
                            "<tr><td>Kentaur Hotel</td><td>34</td><td>8</td></tr>",
                            "<tr><td>Hotel Három Hattyú</td><td>35</td><td>1</td></tr>",
                            "<tr><td>Kentaur Hotel</td><td>35</td><td>4</td></tr>",
                            "<tr><td>Hotel Három Hattyú</td><td>36</td><td>6</td></tr>",
                            "<tr><td>Hotel Három Hattyú</td><td>37</td><td>7</td></tr>",
                            "<tr><td>Hotel Három Hattyú</td><td>38</td><td>5</td></tr>",
                            "<tr><td>Hotel Három Hattyú</td><td>39</td><td>4</td></tr>",
                            "<tr><td>Családi Ház</td><td>4</td><td>5</td></tr>",
                            "<tr><td>Fortuna Apartman</td><td>4</td><td>5</td></tr>",
                            "<tr><td>Fortuna panzió</td><td>4</td><td>14</td></tr>",
                            "<tr><td>Gold Hotel</td><td>4</td><td>5</td></tr>",
                            "<tr><td>Hotel Három Hattyú</td><td>4</td><td>10</td></tr>",
                            "<tr><td>Jáde panzió</td><td>4</td><td>6</td></tr>",
                            "<tr><td>Kentaur Hotel</td><td>4</td><td>2</td></tr>",
                            "<tr><td>Lagúna Hotel</td><td>4</td><td>7</td></tr>",
                            "<tr><td>Partiszél Vendégház</td><td>4</td><td>7</td></tr>",
                            "<tr><td>Sába-Ház</td><td>4</td><td>6</td></tr>",
                            "<tr><td>Szieszta Apartmanház</td><td>4</td><td>8</td></tr>",
                            "<tr><td>Fortuna Apartman</td><td>5</td><td>4</td></tr>",
                            "<tr><td>Fortuna panzió</td><td>5</td><td>12</td></tr>",
                            "<tr><td>Gold Hotel</td><td>5</td><td>6</td></tr>",
                            "<tr><td>Hotel Három Hattyú</td><td>5</td><td>4</td></tr>",
                            "<tr><td>Jáde panzió</td><td>5</td><td>6</td></tr>",
                            "<tr><td>Kentaur Hotel</td><td>5</td><td>6</td></tr>",
                            "<tr><td>Lagúna Hotel</td><td>5</td><td>7</td></tr>",
                            "<tr><td>Partiszél Vendégház</td><td>5</td><td>5</td></tr>",
                            "<tr><td>Sába-Ház</td><td>5</td><td>4</td></tr>",
                            "<tr><td>Szieszta Apartmanház</td><td>5</td><td>8</td></tr>",
                            "<tr><td>Fortuna Apartman</td><td>6</td><td>6</td></tr>",
                            "<tr><td>Fortuna Panzió</td><td>6</td><td>8</td></tr>",
                            "<tr><td>Gold Hotel</td><td>6</td><td>5</td></tr>",
                            "<tr><td>Hotel Három Hattyú</td><td>6</td><td>7</td></tr>",
                            "<tr><td>Kentaur Hotel</td><td>6</td><td>8</td></tr>",
                            "<tr><td>Lagúna Hotel</td><td>6</td><td>8</td></tr>",
                            "<tr><td>Sába-Ház</td><td>6</td><td>6</td></tr>",
                            "<tr><td>Szieszta Apartmanház</td><td>6</td><td>4</td></tr>",
                            "<tr><td>Fortuna Apartman</td><td>7</td><td>3</td></tr>",
                            "<tr><td>Fortuna panzió</td><td>7</td><td>7</td></tr>",
                            "<tr><td>Gold Hotel</td><td>7</td><td>5</td></tr>",
                            "<tr><td>Hotel Három Hattyú</td><td>7</td><td>7</td></tr>",
                            "<tr><td>Kentaur Hotel</td><td>7</td><td>2</td></tr>",
                            "<tr><td>Lagúna Hotel</td><td>7</td><td>6</td></tr>",
                            "<tr><td>Sába-Ház</td><td>7</td><td>6</td></tr>",
                            "<tr><td>Fortuna Apartman</td><td>8</td><td>3</td></tr>",
                            "<tr><td>Fortuna panzió</td><td>8</td><td>3</td></tr>",
                            "<tr><td>Gold Hotel</td><td>8</td><td>9</td></tr>",
                            "<tr><td>Hotel Három Hattyú</td><td>8</td><td>4</td></tr>",
                            "<tr><td>Kentaur Hotel</td><td>8</td><td>4</td></tr>",
                            "<tr><td>Lagúna Hotel</td><td>8</td><td>2</td></tr>",
                            "<tr><td>Sába-Ház</td><td>8</td><td>5</td></tr>",
                            "<tr><td>Fortuna Panzió</td><td>9</td><td>15</td></tr>",
                            "<tr><td>Gold Hotel</td><td>9</td><td>4</td></tr>",
                            "<tr><td>Hotel Három Hattyú</td><td>9</td><td>5</td></tr>",
                            "<tr><td>Kentaur Hotel</td><td>9</td><td>13</td></tr>",
                            "<tr><td>Lagúna Hotel</td><td>9</td><td>7</td></tr>",
                            "<tr><td>Sába-Ház</td><td>9</td><td>6</td></tr>",
                            "</table>"
                        ]
                    }
                }
            ],
            "execution_count": 15
        }
    ]
}