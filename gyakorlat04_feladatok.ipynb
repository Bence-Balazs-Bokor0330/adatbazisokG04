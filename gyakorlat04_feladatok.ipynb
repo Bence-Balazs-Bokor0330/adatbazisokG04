{
    "metadata": {
        "kernelspec": {
            "name": "SQL",
            "display_name": "SQL",
            "language": "sql"
        },
        "language_info": {
            "name": "sql",
            "version": ""
        }
    },
    "nbformat_minor": 2,
    "nbformat": 4,
    "cells": [
        {
            "cell_type": "markdown",
            "source": [
                "1. <span style=\"background-color: rgb(255, 255, 255); color: rgb(0, 0, 0); font-family: &quot;Open Sans&quot;, sans-serif; font-size: 14.44px;\">Készítsünk listát arról, hogy ügyfelenként (LOGIN), azon belül szállítási módonként hány megrendelés történt!&nbsp;</span> \n",
                "\n",
                "a. A lista tartalmazza a részösszegeket és a végösszeget is!  \n",
                "b. Használjuk a ROLLUP záradékot!"
            ],
            "metadata": {
                "azdata_cell_guid": "363cd270-6577-449b-9c89-d4b7c7972d52"
            },
            "attachments": {}
        },
        {
            "cell_type": "code",
            "source": [
                "SELECT [login], SZALL_MOD, count(SORSZAM) as 'Rendelések száma'\r\n",
                "FROM Rendeles\r\n",
                "--GROUP BY ROLLUP([login], SZALL_MOD) --meg lehetne csinálni union-nal is, ahol az egyik lenne a szallmod, utana a részösszeg, utána a végösszeg\r\n",
                "--ahol null van, az a részösszeg login-onkent, ahol null null (legalja), az a részösszegek összege\r\n",
                "GROUP BY CUBE([login], SZALL_MOD) --mindenféle lehetséges módon részösszeget készít, a rollup csak jobbról balra csinálja, a cube mindkét irányból"
            ],
            "metadata": {
                "azdata_cell_guid": "6ab9f633-a3b5-48c9-a1dc-4fb8235ae85b",
                "language": "sql"
            },
            "outputs": [
                {
                    "output_type": "display_data",
                    "data": {
                        "text/html": "(766 rows affected)"
                    },
                    "metadata": {}
                },
                {
                    "output_type": "display_data",
                    "data": {
                        "text/html": "Total execution time: 00:00:00.039"
                    },
                    "metadata": {}
                },
                {
                    "output_type": "execute_result",
                    "execution_count": 5,
                    "data": {
                        "application/vnd.dataresource+json": {
                            "schema": {
                                "fields": [
                                    {
                                        "name": "login"
                                    },
                                    {
                                        "name": "SZALL_MOD"
                                    },
                                    {
                                        "name": "Rendelések száma"
                                    }
                                ]
                            },
                            "data": [
                                {
                                    "login": "adam1",
                                    "SZALL_MOD": "GLS",
                                    "Rendelések száma": "129"
                                },
                                {
                                    "login": "adam3",
                                    "SZALL_MOD": "GLS",
                                    "Rendelések száma": "10"
                                },
                                {
                                    "login": "adam4",
                                    "SZALL_MOD": "GLS",
                                    "Rendelések száma": "12"
                                },
                                {
                                    "login": "agnes",
                                    "SZALL_MOD": "GLS",
                                    "Rendelések száma": "144"
                                },
                                {
                                    "login": "agnes3",
                                    "SZALL_MOD": "GLS",
                                    "Rendelések száma": "148"
                                },
                                {
                                    "login": "AGNESH",
                                    "SZALL_MOD": "GLS",
                                    "Rendelések száma": "2"
                                },
                                {
                                    "login": "AGNESK",
                                    "SZALL_MOD": "GLS",
                                    "Rendelések száma": "1"
                                },
                                {
                                    "login": "akos",
                                    "SZALL_MOD": "GLS",
                                    "Rendelések száma": "146"
                                },
                                {
                                    "login": "aladar",
                                    "SZALL_MOD": "GLS",
                                    "Rendelések száma": "156"
                                },
                                {
                                    "login": "alexandra",
                                    "SZALL_MOD": "GLS",
                                    "Rendelések száma": "5"
                                },
                                {
                                    "login": "andi",
                                    "SZALL_MOD": "GLS",
                                    "Rendelések száma": "7"
                                },
                                {
                                    "login": "andras2",
                                    "SZALL_MOD": "GLS",
                                    "Rendelések száma": "4"
                                },
                                {
                                    "login": "andras21",
                                    "SZALL_MOD": "GLS",
                                    "Rendelések száma": "140"
                                },
                                {
                                    "login": "andras3",
                                    "SZALL_MOD": "GLS",
                                    "Rendelések száma": "3"
                                },
                                {
                                    "login": "andras4",
                                    "SZALL_MOD": "GLS",
                                    "Rendelések száma": "4"
                                },
                                {
                                    "login": "andras41",
                                    "SZALL_MOD": "GLS",
                                    "Rendelések száma": "149"
                                },
                                {
                                    "login": "ANDRASE",
                                    "SZALL_MOD": "GLS",
                                    "Rendelések száma": "159"
                                },
                                {
                                    "login": "ANDRASN",
                                    "SZALL_MOD": "GLS",
                                    "Rendelések száma": "10"
                                },
                                {
                                    "login": "andrea",
                                    "SZALL_MOD": "GLS",
                                    "Rendelések száma": "12"
                                },
                                {
                                    "login": "andrea3",
                                    "SZALL_MOD": "GLS",
                                    "Rendelések száma": "131"
                                },
                                {
                                    "login": "andrea4",
                                    "SZALL_MOD": "GLS",
                                    "Rendelések száma": "7"
                                },
                                {
                                    "login": "ANDREAT",
                                    "SZALL_MOD": "GLS",
                                    "Rendelések száma": "3"
                                },
                                {
                                    "login": "anett3",
                                    "SZALL_MOD": "GLS",
                                    "Rendelések száma": "3"
                                },
                                {
                                    "login": "aniko",
                                    "SZALL_MOD": "GLS",
                                    "Rendelések száma": "128"
                                },
                                {
                                    "login": "aniko4",
                                    "SZALL_MOD": "GLS",
                                    "Rendelések száma": "6"
                                },
                                {
                                    "login": "ANIKOS",
                                    "SZALL_MOD": "GLS",
                                    "Rendelések száma": "128"
                                },
                                {
                                    "login": "anita",
                                    "SZALL_MOD": "GLS",
                                    "Rendelések száma": "5"
                                },
                                {
                                    "login": "annamaria1",
                                    "SZALL_MOD": "GLS",
                                    "Rendelések száma": "5"
                                },
                                {
                                    "login": "ANNAMARIAR",
                                    "SZALL_MOD": "GLS",
                                    "Rendelések száma": "8"
                                },
                                {
                                    "login": "aron2",
                                    "SZALL_MOD": "GLS",
                                    "Rendelések száma": "132"
                                },
                                {
                                    "login": "ARONK",
                                    "SZALL_MOD": "GLS",
                                    "Rendelések száma": "155"
                                },
                                {
                                    "login": "arpad2",
                                    "SZALL_MOD": "GLS",
                                    "Rendelések száma": "6"
                                },
                                {
                                    "login": "ARPADH",
                                    "SZALL_MOD": "GLS",
                                    "Rendelések száma": "6"
                                },
                                {
                                    "login": "ARPADM",
                                    "SZALL_MOD": "GLS",
                                    "Rendelések száma": "6"
                                },
                                {
                                    "login": "attila1",
                                    "SZALL_MOD": "GLS",
                                    "Rendelések száma": "5"
                                },
                                {
                                    "login": "attila4",
                                    "SZALL_MOD": "GLS",
                                    "Rendelések száma": "135"
                                },
                                {
                                    "login": "ATTILAO",
                                    "SZALL_MOD": "GLS",
                                    "Rendelések száma": "4"
                                },
                                {
                                    "login": "balazs1",
                                    "SZALL_MOD": "GLS",
                                    "Rendelések száma": "128"
                                },
                                {
                                    "login": "balazs2",
                                    "SZALL_MOD": "GLS",
                                    "Rendelések száma": "5"
                                },
                                {
                                    "login": "balazs3",
                                    "SZALL_MOD": "GLS",
                                    "Rendelések száma": "6"
                                },
                                {
                                    "login": "balint",
                                    "SZALL_MOD": "GLS",
                                    "Rendelések száma": "10"
                                },
                                {
                                    "login": "balint1",
                                    "SZALL_MOD": "GLS",
                                    "Rendelések száma": "158"
                                },
                                {
                                    "login": "balint2",
                                    "SZALL_MOD": "GLS",
                                    "Rendelések száma": "8"
                                },
                                {
                                    "login": "balu",
                                    "SZALL_MOD": "GLS",
                                    "Rendelések száma": "127"
                                },
                                {
                                    "login": "BEATRIXK",
                                    "SZALL_MOD": "GLS",
                                    "Rendelések száma": "135"
                                },
                                {
                                    "login": "BEATRIXS",
                                    "SZALL_MOD": "GLS",
                                    "Rendelések száma": "146"
                                },
                                {
                                    "login": "BELAF",
                                    "SZALL_MOD": "GLS",
                                    "Rendelések száma": "11"
                                },
                                {
                                    "login": "bence",
                                    "SZALL_MOD": "GLS",
                                    "Rendelések száma": "4"
                                },
                                {
                                    "login": "BENCEB",
                                    "SZALL_MOD": "GLS",
                                    "Rendelések száma": "5"
                                },
                                {
                                    "login": "bernadett1",
                                    "SZALL_MOD": "GLS",
                                    "Rendelések száma": "10"
                                },
                                {
                                    "login": "bernadett2",
                                    "SZALL_MOD": "GLS",
                                    "Rendelések száma": "6"
                                },
                                {
                                    "login": "BERNADETTO",
                                    "SZALL_MOD": "GLS",
                                    "Rendelések száma": "7"
                                },
                                {
                                    "login": "bertalan",
                                    "SZALL_MOD": "GLS",
                                    "Rendelések száma": "128"
                                },
                                {
                                    "login": "brigitta",
                                    "SZALL_MOD": "GLS",
                                    "Rendelések száma": "137"
                                },
                                {
                                    "login": "brigitta3",
                                    "SZALL_MOD": "GLS",
                                    "Rendelések száma": "144"
                                },
                                {
                                    "login": "csongor3",
                                    "SZALL_MOD": "GLS",
                                    "Rendelések száma": "5"
                                },
                                {
                                    "login": "dani",
                                    "SZALL_MOD": "GLS",
                                    "Rendelések száma": "5"
                                },
                                {
                                    "login": "daniel",
                                    "SZALL_MOD": "GLS",
                                    "Rendelések száma": "7"
                                },
                                {
                                    "login": "daniel1",
                                    "SZALL_MOD": "GLS",
                                    "Rendelések száma": "156"
                                },
                                {
                                    "login": "david",
                                    "SZALL_MOD": "GLS",
                                    "Rendelések száma": "161"
                                },
                                {
                                    "login": "david1",
                                    "SZALL_MOD": "GLS",
                                    "Rendelések száma": "8"
                                },
                                {
                                    "login": "david4",
                                    "SZALL_MOD": "GLS",
                                    "Rendelések száma": "3"
                                },
                                {
                                    "login": "debora",
                                    "SZALL_MOD": "GLS",
                                    "Rendelések száma": "7"
                                },
                                {
                                    "login": "denes",
                                    "SZALL_MOD": "GLS",
                                    "Rendelések száma": "3"
                                },
                                {
                                    "login": "dora3",
                                    "SZALL_MOD": "GLS",
                                    "Rendelések száma": "144"
                                },
                                {
                                    "login": "edit",
                                    "SZALL_MOD": "GLS",
                                    "Rendelések száma": "7"
                                },
                                {
                                    "login": "emese",
                                    "SZALL_MOD": "GLS",
                                    "Rendelések száma": "128"
                                },
                                {
                                    "login": "eszter2",
                                    "SZALL_MOD": "GLS",
                                    "Rendelések száma": "127"
                                },
                                {
                                    "login": "eszter4",
                                    "SZALL_MOD": "GLS",
                                    "Rendelések száma": "141"
                                },
                                {
                                    "login": "ESZTERE",
                                    "SZALL_MOD": "GLS",
                                    "Rendelések száma": "6"
                                },
                                {
                                    "login": "eva",
                                    "SZALL_MOD": "GLS",
                                    "Rendelések száma": "125"
                                },
                                {
                                    "login": "eva2",
                                    "SZALL_MOD": "GLS",
                                    "Rendelések száma": "154"
                                },
                                {
                                    "login": "EVAV",
                                    "SZALL_MOD": "GLS",
                                    "Rendelések száma": "2"
                                },
                                {
                                    "login": "ferenc1",
                                    "SZALL_MOD": "GLS",
                                    "Rendelések száma": "144"
                                },
                                {
                                    "login": "fruzsina4",
                                    "SZALL_MOD": "GLS",
                                    "Rendelések száma": "8"
                                },
                                {
                                    "login": "gabor1",
                                    "SZALL_MOD": "GLS",
                                    "Rendelések száma": "9"
                                },
                                {
                                    "login": "gabor4",
                                    "SZALL_MOD": "GLS",
                                    "Rendelések száma": "7"
                                },
                                {
                                    "login": "GABORS",
                                    "SZALL_MOD": "GLS",
                                    "Rendelések száma": "5"
                                },
                                {
                                    "login": "gabriella1",
                                    "SZALL_MOD": "GLS",
                                    "Rendelések száma": "5"
                                },
                                {
                                    "login": "gabriella10",
                                    "SZALL_MOD": "GLS",
                                    "Rendelések száma": "4"
                                },
                                {
                                    "login": "georgij",
                                    "SZALL_MOD": "GLS",
                                    "Rendelések száma": "9"
                                },
                                {
                                    "login": "gusztav",
                                    "SZALL_MOD": "GLS",
                                    "Rendelések száma": "5"
                                },
                                {
                                    "login": "GYONGYIK",
                                    "SZALL_MOD": "GLS",
                                    "Rendelések száma": "6"
                                },
                                {
                                    "login": "GYORGYO",
                                    "SZALL_MOD": "GLS",
                                    "Rendelések száma": "7"
                                },
                                {
                                    "login": "henrik3",
                                    "SZALL_MOD": "GLS",
                                    "Rendelések száma": "7"
                                },
                                {
                                    "login": "IBOLYAA",
                                    "SZALL_MOD": "GLS",
                                    "Rendelések száma": "140"
                                },
                                {
                                    "login": "ilona3",
                                    "SZALL_MOD": "GLS",
                                    "Rendelések száma": "9"
                                },
                                {
                                    "login": "imre",
                                    "SZALL_MOD": "GLS",
                                    "Rendelések száma": "5"
                                },
                                {
                                    "login": "imre1",
                                    "SZALL_MOD": "GLS",
                                    "Rendelések száma": "8"
                                },
                                {
                                    "login": "istvan",
                                    "SZALL_MOD": "GLS",
                                    "Rendelések száma": "3"
                                },
                                {
                                    "login": "istvan1",
                                    "SZALL_MOD": "GLS",
                                    "Rendelések száma": "8"
                                },
                                {
                                    "login": "ISTVANV",
                                    "SZALL_MOD": "GLS",
                                    "Rendelések száma": "4"
                                },
                                {
                                    "login": "janos3",
                                    "SZALL_MOD": "GLS",
                                    "Rendelések száma": "5"
                                },
                                {
                                    "login": "JANOSG",
                                    "SZALL_MOD": "GLS",
                                    "Rendelések száma": "3"
                                },
                                {
                                    "login": "JANOSP",
                                    "SZALL_MOD": "GLS",
                                    "Rendelések száma": "7"
                                },
                                {
                                    "login": "jozsef",
                                    "SZALL_MOD": "GLS",
                                    "Rendelések száma": "116"
                                },
                                {
                                    "login": "jozsef2",
                                    "SZALL_MOD": "GLS",
                                    "Rendelések száma": "7"
                                },
                                {
                                    "login": "JOZSEFG",
                                    "SZALL_MOD": "GLS",
                                    "Rendelések száma": "11"
                                },
                                {
                                    "login": "JUDITH",
                                    "SZALL_MOD": "GLS",
                                    "Rendelések száma": "170"
                                },
                                {
                                    "login": "julia",
                                    "SZALL_MOD": "GLS",
                                    "Rendelések száma": "137"
                                },
                                {
                                    "login": "julia4",
                                    "SZALL_MOD": "GLS",
                                    "Rendelések száma": "2"
                                },
                                {
                                    "login": "julianna4",
                                    "SZALL_MOD": "GLS",
                                    "Rendelések száma": "8"
                                },
                                {
                                    "login": "kata",
                                    "SZALL_MOD": "GLS",
                                    "Rendelések száma": "5"
                                },
                                {
                                    "login": "katalin",
                                    "SZALL_MOD": "GLS",
                                    "Rendelések száma": "7"
                                },
                                {
                                    "login": "katalin4",
                                    "SZALL_MOD": "GLS",
                                    "Rendelések száma": "7"
                                },
                                {
                                    "login": "kati",
                                    "SZALL_MOD": "GLS",
                                    "Rendelések száma": "4"
                                },
                                {
                                    "login": "katka",
                                    "SZALL_MOD": "GLS",
                                    "Rendelések száma": "6"
                                },
                                {
                                    "login": "klaudia2",
                                    "SZALL_MOD": "GLS",
                                    "Rendelések száma": "3"
                                },
                                {
                                    "login": "kornel4",
                                    "SZALL_MOD": "GLS",
                                    "Rendelések száma": "3"
                                },
                                {
                                    "login": "kristof4",
                                    "SZALL_MOD": "GLS",
                                    "Rendelések száma": "9"
                                },
                                {
                                    "login": "kriszti",
                                    "SZALL_MOD": "GLS",
                                    "Rendelések száma": "3"
                                },
                                {
                                    "login": "krisztian4",
                                    "SZALL_MOD": "GLS",
                                    "Rendelések száma": "5"
                                },
                                {
                                    "login": "KRISZTIANM",
                                    "SZALL_MOD": "GLS",
                                    "Rendelések száma": "118"
                                },
                                {
                                    "login": "krisztina",
                                    "SZALL_MOD": "GLS",
                                    "Rendelések száma": "149"
                                },
                                {
                                    "login": "krisztina1",
                                    "SZALL_MOD": "GLS",
                                    "Rendelések száma": "10"
                                },
                                {
                                    "login": "KRISZTINAG",
                                    "SZALL_MOD": "GLS",
                                    "Rendelések száma": "6"
                                },
                                {
                                    "login": "lajos",
                                    "SZALL_MOD": "GLS",
                                    "Rendelések száma": "5"
                                },
                                {
                                    "login": "lala",
                                    "SZALL_MOD": "GLS",
                                    "Rendelések száma": "5"
                                },
                                {
                                    "login": "laszlo1",
                                    "SZALL_MOD": "GLS",
                                    "Rendelések száma": "130"
                                },
                                {
                                    "login": "laszlo2",
                                    "SZALL_MOD": "GLS",
                                    "Rendelések száma": "12"
                                },
                                {
                                    "login": "LASZLOA",
                                    "SZALL_MOD": "GLS",
                                    "Rendelések száma": "156"
                                },
                                {
                                    "login": "LASZLON",
                                    "SZALL_MOD": "GLS",
                                    "Rendelések száma": "126"
                                },
                                {
                                    "login": "maria1",
                                    "SZALL_MOD": "GLS",
                                    "Rendelések száma": "4"
                                },
                                {
                                    "login": "MARKH",
                                    "SZALL_MOD": "GLS",
                                    "Rendelések száma": "128"
                                },
                                {
                                    "login": "marton",
                                    "SZALL_MOD": "GLS",
                                    "Rendelések száma": "5"
                                },
                                {
                                    "login": "MATEK",
                                    "SZALL_MOD": "GLS",
                                    "Rendelések száma": "6"
                                },
                                {
                                    "login": "matyas2",
                                    "SZALL_MOD": "GLS",
                                    "Rendelések száma": "138"
                                },
                                {
                                    "login": "MATYASS",
                                    "SZALL_MOD": "GLS",
                                    "Rendelések száma": "4"
                                },
                                {
                                    "login": "MIHALYJ",
                                    "SZALL_MOD": "GLS",
                                    "Rendelések száma": "3"
                                },
                                {
                                    "login": "miklos2",
                                    "SZALL_MOD": "GLS",
                                    "Rendelések száma": "7"
                                },
                                {
                                    "login": "MIKLOSB",
                                    "SZALL_MOD": "GLS",
                                    "Rendelések száma": "6"
                                },
                                {
                                    "login": "MONIKAM",
                                    "SZALL_MOD": "GLS",
                                    "Rendelések száma": "133"
                                },
                                {
                                    "login": "NANDORF",
                                    "SZALL_MOD": "GLS",
                                    "Rendelések száma": "147"
                                },
                                {
                                    "login": "nikolett3",
                                    "SZALL_MOD": "GLS",
                                    "Rendelések száma": "4"
                                },
                                {
                                    "login": "nikoletta4",
                                    "SZALL_MOD": "GLS",
                                    "Rendelések száma": "137"
                                },
                                {
                                    "login": "NIKOLETTAT",
                                    "SZALL_MOD": "GLS",
                                    "Rendelések száma": "13"
                                },
                                {
                                    "login": "norbert2",
                                    "SZALL_MOD": "GLS",
                                    "Rendelések száma": "7"
                                },
                                {
                                    "login": "norbert4",
                                    "SZALL_MOD": "GLS",
                                    "Rendelések száma": "1"
                                },
                                {
                                    "login": "norbert5",
                                    "SZALL_MOD": "GLS",
                                    "Rendelések száma": "1"
                                },
                                {
                                    "login": "pal",
                                    "SZALL_MOD": "GLS",
                                    "Rendelések száma": "152"
                                },
                                {
                                    "login": "peter1",
                                    "SZALL_MOD": "GLS",
                                    "Rendelések száma": "151"
                                },
                                {
                                    "login": "peter2",
                                    "SZALL_MOD": "GLS",
                                    "Rendelések száma": "7"
                                },
                                {
                                    "login": "peter3",
                                    "SZALL_MOD": "GLS",
                                    "Rendelések száma": "8"
                                },
                                {
                                    "login": "peter4",
                                    "SZALL_MOD": "GLS",
                                    "Rendelések száma": "266"
                                },
                                {
                                    "login": "PETERB",
                                    "SZALL_MOD": "GLS",
                                    "Rendelések száma": "2"
                                },
                                {
                                    "login": "polla",
                                    "SZALL_MOD": "GLS",
                                    "Rendelések száma": "9"
                                },
                                {
                                    "login": "rajmond4",
                                    "SZALL_MOD": "GLS",
                                    "Rendelések száma": "6"
                                },
                                {
                                    "login": "reka4",
                                    "SZALL_MOD": "GLS",
                                    "Rendelések száma": "5"
                                },
                                {
                                    "login": "RENATAK",
                                    "SZALL_MOD": "GLS",
                                    "Rendelések száma": "135"
                                },
                                {
                                    "login": "RENATAS",
                                    "SZALL_MOD": "GLS",
                                    "Rendelések száma": "6"
                                },
                                {
                                    "login": "robert2",
                                    "SZALL_MOD": "GLS",
                                    "Rendelések száma": "5"
                                },
                                {
                                    "login": "ROBERTI",
                                    "SZALL_MOD": "GLS",
                                    "Rendelések száma": "5"
                                },
                                {
                                    "login": "ROBERTP",
                                    "SZALL_MOD": "GLS",
                                    "Rendelések száma": "8"
                                },
                                {
                                    "login": "roland",
                                    "SZALL_MOD": "GLS",
                                    "Rendelések száma": "132"
                                },
                                {
                                    "login": "roland1",
                                    "SZALL_MOD": "GLS",
                                    "Rendelések száma": "142"
                                },
                                {
                                    "login": "roza2",
                                    "SZALL_MOD": "GLS",
                                    "Rendelések száma": "3"
                                },
                                {
                                    "login": "sandor",
                                    "SZALL_MOD": "GLS",
                                    "Rendelések száma": "4"
                                },
                                {
                                    "login": "sandor3",
                                    "SZALL_MOD": "GLS",
                                    "Rendelések száma": "4"
                                },
                                {
                                    "login": "sandor4",
                                    "SZALL_MOD": "GLS",
                                    "Rendelések száma": "4"
                                },
                                {
                                    "login": "sara",
                                    "SZALL_MOD": "GLS",
                                    "Rendelések száma": "4"
                                },
                                {
                                    "login": "SEBASTIANF",
                                    "SZALL_MOD": "GLS",
                                    "Rendelések száma": "6"
                                },
                                {
                                    "login": "sebestyen",
                                    "SZALL_MOD": "GLS",
                                    "Rendelések száma": "4"
                                },
                                {
                                    "login": "szabolcs",
                                    "SZALL_MOD": "GLS",
                                    "Rendelések száma": "145"
                                },
                                {
                                    "login": "SZABOLCSM",
                                    "SZALL_MOD": "GLS",
                                    "Rendelések száma": "126"
                                },
                                {
                                    "login": "SZILARDS",
                                    "SZALL_MOD": "GLS",
                                    "Rendelések száma": "144"
                                },
                                {
                                    "login": "szilvia1",
                                    "SZALL_MOD": "GLS",
                                    "Rendelések száma": "156"
                                },
                                {
                                    "login": "tamara2",
                                    "SZALL_MOD": "GLS",
                                    "Rendelések száma": "6"
                                },
                                {
                                    "login": "tamas",
                                    "SZALL_MOD": "GLS",
                                    "Rendelések száma": "143"
                                },
                                {
                                    "login": "TAMASF",
                                    "SZALL_MOD": "GLS",
                                    "Rendelések száma": "159"
                                },
                                {
                                    "login": "tibor",
                                    "SZALL_MOD": "GLS",
                                    "Rendelések száma": "115"
                                },
                                {
                                    "login": "tibor2",
                                    "SZALL_MOD": "GLS",
                                    "Rendelések száma": "7"
                                },
                                {
                                    "login": "tihamer",
                                    "SZALL_MOD": "GLS",
                                    "Rendelések száma": "9"
                                },
                                {
                                    "login": "timea",
                                    "SZALL_MOD": "GLS",
                                    "Rendelések száma": "14"
                                },
                                {
                                    "login": "timea2",
                                    "SZALL_MOD": "GLS",
                                    "Rendelések száma": "1"
                                },
                                {
                                    "login": "tunde",
                                    "SZALL_MOD": "GLS",
                                    "Rendelések száma": "6"
                                },
                                {
                                    "login": "valentin",
                                    "SZALL_MOD": "GLS",
                                    "Rendelések száma": "5"
                                },
                                {
                                    "login": "veronika4",
                                    "SZALL_MOD": "GLS",
                                    "Rendelések száma": "5"
                                },
                                {
                                    "login": "VIKTORIAU",
                                    "SZALL_MOD": "GLS",
                                    "Rendelések száma": "5"
                                },
                                {
                                    "login": "VIKTORK",
                                    "SZALL_MOD": "GLS",
                                    "Rendelések száma": "8"
                                },
                                {
                                    "login": "vivien3",
                                    "SZALL_MOD": "GLS",
                                    "Rendelések száma": "9"
                                },
                                {
                                    "login": "zoltan",
                                    "SZALL_MOD": "GLS",
                                    "Rendelések száma": "5"
                                },
                                {
                                    "login": "zoltan4",
                                    "SZALL_MOD": "GLS",
                                    "Rendelések száma": "129"
                                },
                                {
                                    "login": "ZOLTANP",
                                    "SZALL_MOD": "GLS",
                                    "Rendelések száma": "6"
                                },
                                {
                                    "login": "ZOLTANT",
                                    "SZALL_MOD": "GLS",
                                    "Rendelések száma": "127"
                                },
                                {
                                    "login": "zsofi1",
                                    "SZALL_MOD": "GLS",
                                    "Rendelések száma": "7"
                                },
                                {
                                    "login": "zsolt1",
                                    "SZALL_MOD": "GLS",
                                    "Rendelések száma": "11"
                                },
                                {
                                    "login": "ZSOLTJ",
                                    "SZALL_MOD": "GLS",
                                    "Rendelések száma": "1"
                                },
                                {
                                    "login": "zsuzsa",
                                    "SZALL_MOD": "GLS",
                                    "Rendelések száma": "8"
                                },
                                {
                                    "login": "zsuzsa3",
                                    "SZALL_MOD": "GLS",
                                    "Rendelések száma": "5"
                                },
                                {
                                    "login": "zsuzsanna",
                                    "SZALL_MOD": "GLS",
                                    "Rendelések száma": "7"
                                },
                                {
                                    "login": "ZSUZSAV",
                                    "SZALL_MOD": "GLS",
                                    "Rendelések száma": "139"
                                },
                                {
                                    "login": "NULL",
                                    "SZALL_MOD": "GLS",
                                    "Rendelések száma": "9426"
                                },
                                {
                                    "login": "adam1",
                                    "SZALL_MOD": "Posta",
                                    "Rendelések száma": "132"
                                },
                                {
                                    "login": "adam3",
                                    "SZALL_MOD": "Posta",
                                    "Rendelések száma": "3"
                                },
                                {
                                    "login": "adam4",
                                    "SZALL_MOD": "Posta",
                                    "Rendelések száma": "6"
                                },
                                {
                                    "login": "agnes",
                                    "SZALL_MOD": "Posta",
                                    "Rendelések száma": "130"
                                },
                                {
                                    "login": "agnes3",
                                    "SZALL_MOD": "Posta",
                                    "Rendelések száma": "146"
                                },
                                {
                                    "login": "AGNESH",
                                    "SZALL_MOD": "Posta",
                                    "Rendelések száma": "3"
                                },
                                {
                                    "login": "AGNESK",
                                    "SZALL_MOD": "Posta",
                                    "Rendelések száma": "7"
                                },
                                {
                                    "login": "akos",
                                    "SZALL_MOD": "Posta",
                                    "Rendelések száma": "143"
                                },
                                {
                                    "login": "aladar",
                                    "SZALL_MOD": "Posta",
                                    "Rendelések száma": "134"
                                },
                                {
                                    "login": "alexandra",
                                    "SZALL_MOD": "Posta",
                                    "Rendelések száma": "9"
                                },
                                {
                                    "login": "andi",
                                    "SZALL_MOD": "Posta",
                                    "Rendelések száma": "4"
                                },
                                {
                                    "login": "andras2",
                                    "SZALL_MOD": "Posta",
                                    "Rendelések száma": "7"
                                },
                                {
                                    "login": "andras21",
                                    "SZALL_MOD": "Posta",
                                    "Rendelések száma": "124"
                                },
                                {
                                    "login": "andras3",
                                    "SZALL_MOD": "Posta",
                                    "Rendelések száma": "1"
                                },
                                {
                                    "login": "andras4",
                                    "SZALL_MOD": "Posta",
                                    "Rendelések száma": "4"
                                },
                                {
                                    "login": "andras41",
                                    "SZALL_MOD": "Posta",
                                    "Rendelések száma": "137"
                                },
                                {
                                    "login": "ANDRASE",
                                    "SZALL_MOD": "Posta",
                                    "Rendelések száma": "141"
                                },
                                {
                                    "login": "ANDRASN",
                                    "SZALL_MOD": "Posta",
                                    "Rendelések száma": "9"
                                },
                                {
                                    "login": "andrea",
                                    "SZALL_MOD": "Posta",
                                    "Rendelések száma": "4"
                                },
                                {
                                    "login": "andrea3",
                                    "SZALL_MOD": "Posta",
                                    "Rendelések száma": "136"
                                },
                                {
                                    "login": "andrea4",
                                    "SZALL_MOD": "Posta",
                                    "Rendelések száma": "4"
                                },
                                {
                                    "login": "ANDREAT",
                                    "SZALL_MOD": "Posta",
                                    "Rendelések száma": "6"
                                },
                                {
                                    "login": "anett3",
                                    "SZALL_MOD": "Posta",
                                    "Rendelések száma": "6"
                                },
                                {
                                    "login": "aniko",
                                    "SZALL_MOD": "Posta",
                                    "Rendelések száma": "137"
                                },
                                {
                                    "login": "aniko4",
                                    "SZALL_MOD": "Posta",
                                    "Rendelések száma": "6"
                                },
                                {
                                    "login": "ANIKOS",
                                    "SZALL_MOD": "Posta",
                                    "Rendelések száma": "126"
                                },
                                {
                                    "login": "anita",
                                    "SZALL_MOD": "Posta",
                                    "Rendelések száma": "2"
                                },
                                {
                                    "login": "annamaria1",
                                    "SZALL_MOD": "Posta",
                                    "Rendelések száma": "4"
                                },
                                {
                                    "login": "ANNAMARIAR",
                                    "SZALL_MOD": "Posta",
                                    "Rendelések száma": "2"
                                },
                                {
                                    "login": "aron2",
                                    "SZALL_MOD": "Posta",
                                    "Rendelések száma": "133"
                                },
                                {
                                    "login": "ARONK",
                                    "SZALL_MOD": "Posta",
                                    "Rendelések száma": "120"
                                },
                                {
                                    "login": "arpad2",
                                    "SZALL_MOD": "Posta",
                                    "Rendelések száma": "1"
                                },
                                {
                                    "login": "ARPADH",
                                    "SZALL_MOD": "Posta",
                                    "Rendelések száma": "3"
                                },
                                {
                                    "login": "ARPADM",
                                    "SZALL_MOD": "Posta",
                                    "Rendelések száma": "3"
                                },
                                {
                                    "login": "attila1",
                                    "SZALL_MOD": "Posta",
                                    "Rendelések száma": "7"
                                },
                                {
                                    "login": "attila4",
                                    "SZALL_MOD": "Posta",
                                    "Rendelések száma": "125"
                                },
                                {
                                    "login": "ATTILAO",
                                    "SZALL_MOD": "Posta",
                                    "Rendelések száma": "4"
                                },
                                {
                                    "login": "balazs1",
                                    "SZALL_MOD": "Posta",
                                    "Rendelések száma": "136"
                                },
                                {
                                    "login": "balazs2",
                                    "SZALL_MOD": "Posta",
                                    "Rendelések száma": "7"
                                },
                                {
                                    "login": "balazs3",
                                    "SZALL_MOD": "Posta",
                                    "Rendelések száma": "6"
                                },
                                {
                                    "login": "balint",
                                    "SZALL_MOD": "Posta",
                                    "Rendelések száma": "4"
                                },
                                {
                                    "login": "balint1",
                                    "SZALL_MOD": "Posta",
                                    "Rendelések száma": "152"
                                },
                                {
                                    "login": "balint2",
                                    "SZALL_MOD": "Posta",
                                    "Rendelések száma": "6"
                                },
                                {
                                    "login": "balu",
                                    "SZALL_MOD": "Posta",
                                    "Rendelések száma": "137"
                                },
                                {
                                    "login": "BEATRIXK",
                                    "SZALL_MOD": "Posta",
                                    "Rendelések száma": "155"
                                },
                                {
                                    "login": "BEATRIXS",
                                    "SZALL_MOD": "Posta",
                                    "Rendelések száma": "141"
                                },
                                {
                                    "login": "BELAF",
                                    "SZALL_MOD": "Posta",
                                    "Rendelések száma": "2"
                                },
                                {
                                    "login": "bence",
                                    "SZALL_MOD": "Posta",
                                    "Rendelések száma": "6"
                                },
                                {
                                    "login": "BENCEB",
                                    "SZALL_MOD": "Posta",
                                    "Rendelések száma": "7"
                                },
                                {
                                    "login": "bernadett1",
                                    "SZALL_MOD": "Posta",
                                    "Rendelések száma": "5"
                                },
                                {
                                    "login": "bernadett2",
                                    "SZALL_MOD": "Posta",
                                    "Rendelések száma": "2"
                                },
                                {
                                    "login": "BERNADETTO",
                                    "SZALL_MOD": "Posta",
                                    "Rendelések száma": "2"
                                },
                                {
                                    "login": "bertalan",
                                    "SZALL_MOD": "Posta",
                                    "Rendelések száma": "124"
                                },
                                {
                                    "login": "brigitta",
                                    "SZALL_MOD": "Posta",
                                    "Rendelések száma": "137"
                                },
                                {
                                    "login": "brigitta3",
                                    "SZALL_MOD": "Posta",
                                    "Rendelések száma": "130"
                                },
                                {
                                    "login": "csongor3",
                                    "SZALL_MOD": "Posta",
                                    "Rendelések száma": "2"
                                },
                                {
                                    "login": "daniel",
                                    "SZALL_MOD": "Posta",
                                    "Rendelések száma": "2"
                                },
                                {
                                    "login": "daniel1",
                                    "SZALL_MOD": "Posta",
                                    "Rendelések száma": "131"
                                },
                                {
                                    "login": "david",
                                    "SZALL_MOD": "Posta",
                                    "Rendelések száma": "144"
                                },
                                {
                                    "login": "david1",
                                    "SZALL_MOD": "Posta",
                                    "Rendelések száma": "1"
                                },
                                {
                                    "login": "david4",
                                    "SZALL_MOD": "Posta",
                                    "Rendelések száma": "8"
                                },
                                {
                                    "login": "debora",
                                    "SZALL_MOD": "Posta",
                                    "Rendelések száma": "6"
                                },
                                {
                                    "login": "denes",
                                    "SZALL_MOD": "Posta",
                                    "Rendelések száma": "2"
                                },
                                {
                                    "login": "dora3",
                                    "SZALL_MOD": "Posta",
                                    "Rendelések száma": "124"
                                },
                                {
                                    "login": "edit",
                                    "SZALL_MOD": "Posta",
                                    "Rendelések száma": "2"
                                },
                                {
                                    "login": "emese",
                                    "SZALL_MOD": "Posta",
                                    "Rendelések száma": "136"
                                },
                                {
                                    "login": "eszter2",
                                    "SZALL_MOD": "Posta",
                                    "Rendelések száma": "136"
                                },
                                {
                                    "login": "eszter4",
                                    "SZALL_MOD": "Posta",
                                    "Rendelések száma": "134"
                                },
                                {
                                    "login": "ESZTERE",
                                    "SZALL_MOD": "Posta",
                                    "Rendelések száma": "9"
                                },
                                {
                                    "login": "eva",
                                    "SZALL_MOD": "Posta",
                                    "Rendelések száma": "140"
                                },
                                {
                                    "login": "eva2",
                                    "SZALL_MOD": "Posta",
                                    "Rendelések száma": "138"
                                },
                                {
                                    "login": "EVAV",
                                    "SZALL_MOD": "Posta",
                                    "Rendelések száma": "1"
                                },
                                {
                                    "login": "ferenc1",
                                    "SZALL_MOD": "Posta",
                                    "Rendelések száma": "158"
                                },
                                {
                                    "login": "fruzsina4",
                                    "SZALL_MOD": "Posta",
                                    "Rendelések száma": "3"
                                },
                                {
                                    "login": "gabor1",
                                    "SZALL_MOD": "Posta",
                                    "Rendelések száma": "5"
                                },
                                {
                                    "login": "gabor4",
                                    "SZALL_MOD": "Posta",
                                    "Rendelések száma": "9"
                                },
                                {
                                    "login": "GABORS",
                                    "SZALL_MOD": "Posta",
                                    "Rendelések száma": "6"
                                },
                                {
                                    "login": "gabriella1",
                                    "SZALL_MOD": "Posta",
                                    "Rendelések száma": "4"
                                },
                                {
                                    "login": "gabriella10",
                                    "SZALL_MOD": "Posta",
                                    "Rendelések száma": "5"
                                },
                                {
                                    "login": "georgij",
                                    "SZALL_MOD": "Posta",
                                    "Rendelések száma": "2"
                                },
                                {
                                    "login": "gusztav",
                                    "SZALL_MOD": "Posta",
                                    "Rendelések száma": "4"
                                },
                                {
                                    "login": "GYONGYIK",
                                    "SZALL_MOD": "Posta",
                                    "Rendelések száma": "6"
                                },
                                {
                                    "login": "GYORGYO",
                                    "SZALL_MOD": "Posta",
                                    "Rendelések száma": "4"
                                },
                                {
                                    "login": "henrik3",
                                    "SZALL_MOD": "Posta",
                                    "Rendelések száma": "4"
                                },
                                {
                                    "login": "IBOLYAA",
                                    "SZALL_MOD": "Posta",
                                    "Rendelések száma": "125"
                                },
                                {
                                    "login": "ilona3",
                                    "SZALL_MOD": "Posta",
                                    "Rendelések száma": "2"
                                },
                                {
                                    "login": "imre",
                                    "SZALL_MOD": "Posta",
                                    "Rendelések száma": "4"
                                },
                                {
                                    "login": "imre1",
                                    "SZALL_MOD": "Posta",
                                    "Rendelések száma": "4"
                                },
                                {
                                    "login": "istvan",
                                    "SZALL_MOD": "Posta",
                                    "Rendelések száma": "4"
                                },
                                {
                                    "login": "istvan1",
                                    "SZALL_MOD": "Posta",
                                    "Rendelések száma": "4"
                                },
                                {
                                    "login": "ISTVANV",
                                    "SZALL_MOD": "Posta",
                                    "Rendelések száma": "9"
                                },
                                {
                                    "login": "janos3",
                                    "SZALL_MOD": "Posta",
                                    "Rendelések száma": "2"
                                },
                                {
                                    "login": "JANOSG",
                                    "SZALL_MOD": "Posta",
                                    "Rendelések száma": "3"
                                },
                                {
                                    "login": "JANOSP",
                                    "SZALL_MOD": "Posta",
                                    "Rendelések száma": "7"
                                },
                                {
                                    "login": "jozsef",
                                    "SZALL_MOD": "Posta",
                                    "Rendelések száma": "132"
                                },
                                {
                                    "login": "jozsef2",
                                    "SZALL_MOD": "Posta",
                                    "Rendelések száma": "2"
                                },
                                {
                                    "login": "JOZSEFG",
                                    "SZALL_MOD": "Posta",
                                    "Rendelések száma": "1"
                                },
                                {
                                    "login": "JUDITH",
                                    "SZALL_MOD": "Posta",
                                    "Rendelések száma": "130"
                                },
                                {
                                    "login": "julia",
                                    "SZALL_MOD": "Posta",
                                    "Rendelések száma": "160"
                                },
                                {
                                    "login": "julia4",
                                    "SZALL_MOD": "Posta",
                                    "Rendelések száma": "4"
                                },
                                {
                                    "login": "julianna4",
                                    "SZALL_MOD": "Posta",
                                    "Rendelések száma": "12"
                                },
                                {
                                    "login": "kata",
                                    "SZALL_MOD": "Posta",
                                    "Rendelések száma": "4"
                                },
                                {
                                    "login": "katalin",
                                    "SZALL_MOD": "Posta",
                                    "Rendelések száma": "7"
                                },
                                {
                                    "login": "katalin4",
                                    "SZALL_MOD": "Posta",
                                    "Rendelések száma": "5"
                                },
                                {
                                    "login": "kati",
                                    "SZALL_MOD": "Posta",
                                    "Rendelések száma": "5"
                                },
                                {
                                    "login": "katka",
                                    "SZALL_MOD": "Posta",
                                    "Rendelések száma": "6"
                                },
                                {
                                    "login": "klaudia2",
                                    "SZALL_MOD": "Posta",
                                    "Rendelések száma": "9"
                                },
                                {
                                    "login": "kornel4",
                                    "SZALL_MOD": "Posta",
                                    "Rendelések száma": "1"
                                },
                                {
                                    "login": "kristof4",
                                    "SZALL_MOD": "Posta",
                                    "Rendelések száma": "4"
                                },
                                {
                                    "login": "kriszti",
                                    "SZALL_MOD": "Posta",
                                    "Rendelések száma": "5"
                                },
                                {
                                    "login": "krisztian4",
                                    "SZALL_MOD": "Posta",
                                    "Rendelések száma": "6"
                                },
                                {
                                    "login": "KRISZTIANM",
                                    "SZALL_MOD": "Posta",
                                    "Rendelések száma": "136"
                                },
                                {
                                    "login": "krisztina",
                                    "SZALL_MOD": "Posta",
                                    "Rendelések száma": "150"
                                },
                                {
                                    "login": "krisztina1",
                                    "SZALL_MOD": "Posta",
                                    "Rendelések száma": "4"
                                },
                                {
                                    "login": "KRISZTINAG",
                                    "SZALL_MOD": "Posta",
                                    "Rendelések száma": "6"
                                },
                                {
                                    "login": "lajos",
                                    "SZALL_MOD": "Posta",
                                    "Rendelések száma": "2"
                                },
                                {
                                    "login": "lala",
                                    "SZALL_MOD": "Posta",
                                    "Rendelések száma": "3"
                                },
                                {
                                    "login": "laszlo1",
                                    "SZALL_MOD": "Posta",
                                    "Rendelések száma": "129"
                                },
                                {
                                    "login": "laszlo2",
                                    "SZALL_MOD": "Posta",
                                    "Rendelések száma": "6"
                                },
                                {
                                    "login": "LASZLOA",
                                    "SZALL_MOD": "Posta",
                                    "Rendelések száma": "136"
                                },
                                {
                                    "login": "LASZLON",
                                    "SZALL_MOD": "Posta",
                                    "Rendelések száma": "131"
                                },
                                {
                                    "login": "maria1",
                                    "SZALL_MOD": "Posta",
                                    "Rendelések száma": "5"
                                },
                                {
                                    "login": "MARKH",
                                    "SZALL_MOD": "Posta",
                                    "Rendelések száma": "142"
                                },
                                {
                                    "login": "marton",
                                    "SZALL_MOD": "Posta",
                                    "Rendelések száma": "4"
                                },
                                {
                                    "login": "MATEK",
                                    "SZALL_MOD": "Posta",
                                    "Rendelések száma": "10"
                                },
                                {
                                    "login": "matyas2",
                                    "SZALL_MOD": "Posta",
                                    "Rendelések száma": "131"
                                },
                                {
                                    "login": "MATYASS",
                                    "SZALL_MOD": "Posta",
                                    "Rendelések száma": "5"
                                },
                                {
                                    "login": "MIHALYJ",
                                    "SZALL_MOD": "Posta",
                                    "Rendelések száma": "4"
                                },
                                {
                                    "login": "miklos2",
                                    "SZALL_MOD": "Posta",
                                    "Rendelések száma": "4"
                                },
                                {
                                    "login": "MIKLOSB",
                                    "SZALL_MOD": "Posta",
                                    "Rendelések száma": "1"
                                },
                                {
                                    "login": "MONIKAM",
                                    "SZALL_MOD": "Posta",
                                    "Rendelések száma": "151"
                                },
                                {
                                    "login": "NANDORF",
                                    "SZALL_MOD": "Posta",
                                    "Rendelések száma": "139"
                                },
                                {
                                    "login": "nikolett3",
                                    "SZALL_MOD": "Posta",
                                    "Rendelések száma": "3"
                                },
                                {
                                    "login": "nikoletta4",
                                    "SZALL_MOD": "Posta",
                                    "Rendelések száma": "158"
                                },
                                {
                                    "login": "NIKOLETTAT",
                                    "SZALL_MOD": "Posta",
                                    "Rendelések száma": "7"
                                },
                                {
                                    "login": "norbert2",
                                    "SZALL_MOD": "Posta",
                                    "Rendelések száma": "4"
                                },
                                {
                                    "login": "norbert4",
                                    "SZALL_MOD": "Posta",
                                    "Rendelések száma": "3"
                                },
                                {
                                    "login": "norbert5",
                                    "SZALL_MOD": "Posta",
                                    "Rendelések száma": "6"
                                },
                                {
                                    "login": "pal",
                                    "SZALL_MOD": "Posta",
                                    "Rendelések száma": "132"
                                },
                                {
                                    "login": "peter1",
                                    "SZALL_MOD": "Posta",
                                    "Rendelések száma": "135"
                                },
                                {
                                    "login": "peter2",
                                    "SZALL_MOD": "Posta",
                                    "Rendelések száma": "4"
                                },
                                {
                                    "login": "peter3",
                                    "SZALL_MOD": "Posta",
                                    "Rendelések száma": "7"
                                },
                                {
                                    "login": "peter4",
                                    "SZALL_MOD": "Posta",
                                    "Rendelések száma": "293"
                                },
                                {
                                    "login": "PETERB",
                                    "SZALL_MOD": "Posta",
                                    "Rendelések száma": "4"
                                },
                                {
                                    "login": "polla",
                                    "SZALL_MOD": "Posta",
                                    "Rendelések száma": "6"
                                },
                                {
                                    "login": "rajmond4",
                                    "SZALL_MOD": "Posta",
                                    "Rendelések száma": "5"
                                },
                                {
                                    "login": "reka4",
                                    "SZALL_MOD": "Posta",
                                    "Rendelések száma": "4"
                                },
                                {
                                    "login": "RENATAK",
                                    "SZALL_MOD": "Posta",
                                    "Rendelések száma": "140"
                                },
                                {
                                    "login": "RENATAS",
                                    "SZALL_MOD": "Posta",
                                    "Rendelések száma": "5"
                                },
                                {
                                    "login": "robert2",
                                    "SZALL_MOD": "Posta",
                                    "Rendelések száma": "1"
                                },
                                {
                                    "login": "ROBERTI",
                                    "SZALL_MOD": "Posta",
                                    "Rendelések száma": "3"
                                },
                                {
                                    "login": "ROBERTP",
                                    "SZALL_MOD": "Posta",
                                    "Rendelések száma": "8"
                                },
                                {
                                    "login": "roland",
                                    "SZALL_MOD": "Posta",
                                    "Rendelések száma": "157"
                                },
                                {
                                    "login": "roland1",
                                    "SZALL_MOD": "Posta",
                                    "Rendelések száma": "155"
                                },
                                {
                                    "login": "roza2",
                                    "SZALL_MOD": "Posta",
                                    "Rendelések száma": "2"
                                },
                                {
                                    "login": "sandor",
                                    "SZALL_MOD": "Posta",
                                    "Rendelések száma": "6"
                                },
                                {
                                    "login": "sandor3",
                                    "SZALL_MOD": "Posta",
                                    "Rendelések száma": "4"
                                },
                                {
                                    "login": "sandor4",
                                    "SZALL_MOD": "Posta",
                                    "Rendelések száma": "2"
                                },
                                {
                                    "login": "sara",
                                    "SZALL_MOD": "Posta",
                                    "Rendelések száma": "7"
                                },
                                {
                                    "login": "SEBASTIANF",
                                    "SZALL_MOD": "Posta",
                                    "Rendelések száma": "3"
                                },
                                {
                                    "login": "sebestyen",
                                    "SZALL_MOD": "Posta",
                                    "Rendelések száma": "6"
                                },
                                {
                                    "login": "szabolcs",
                                    "SZALL_MOD": "Posta",
                                    "Rendelések száma": "157"
                                },
                                {
                                    "login": "SZABOLCSM",
                                    "SZALL_MOD": "Posta",
                                    "Rendelések száma": "153"
                                },
                                {
                                    "login": "SZILARDS",
                                    "SZALL_MOD": "Posta",
                                    "Rendelések száma": "131"
                                },
                                {
                                    "login": "szilvia1",
                                    "SZALL_MOD": "Posta",
                                    "Rendelések száma": "151"
                                },
                                {
                                    "login": "tamara2",
                                    "SZALL_MOD": "Posta",
                                    "Rendelések száma": "4"
                                },
                                {
                                    "login": "tamas",
                                    "SZALL_MOD": "Posta",
                                    "Rendelések száma": "156"
                                },
                                {
                                    "login": "TAMASF",
                                    "SZALL_MOD": "Posta",
                                    "Rendelések száma": "145"
                                },
                                {
                                    "login": "tibor",
                                    "SZALL_MOD": "Posta",
                                    "Rendelések száma": "129"
                                },
                                {
                                    "login": "tibor2",
                                    "SZALL_MOD": "Posta",
                                    "Rendelések száma": "7"
                                },
                                {
                                    "login": "tihamer",
                                    "SZALL_MOD": "Posta",
                                    "Rendelések száma": "6"
                                },
                                {
                                    "login": "timea",
                                    "SZALL_MOD": "Posta",
                                    "Rendelések száma": "23"
                                },
                                {
                                    "login": "timea2",
                                    "SZALL_MOD": "Posta",
                                    "Rendelések száma": "5"
                                },
                                {
                                    "login": "tunde",
                                    "SZALL_MOD": "Posta",
                                    "Rendelések száma": "6"
                                },
                                {
                                    "login": "valentin",
                                    "SZALL_MOD": "Posta",
                                    "Rendelések száma": "5"
                                },
                                {
                                    "login": "veronika4",
                                    "SZALL_MOD": "Posta",
                                    "Rendelések száma": "6"
                                },
                                {
                                    "login": "VIKTORIAU",
                                    "SZALL_MOD": "Posta",
                                    "Rendelések száma": "4"
                                },
                                {
                                    "login": "VIKTORK",
                                    "SZALL_MOD": "Posta",
                                    "Rendelések száma": "6"
                                },
                                {
                                    "login": "vivien3",
                                    "SZALL_MOD": "Posta",
                                    "Rendelések száma": "6"
                                },
                                {
                                    "login": "zoltan",
                                    "SZALL_MOD": "Posta",
                                    "Rendelések száma": "3"
                                },
                                {
                                    "login": "zoltan4",
                                    "SZALL_MOD": "Posta",
                                    "Rendelések száma": "124"
                                },
                                {
                                    "login": "ZOLTANP",
                                    "SZALL_MOD": "Posta",
                                    "Rendelések száma": "3"
                                },
                                {
                                    "login": "ZOLTANT",
                                    "SZALL_MOD": "Posta",
                                    "Rendelések száma": "107"
                                },
                                {
                                    "login": "zsofi1",
                                    "SZALL_MOD": "Posta",
                                    "Rendelések száma": "6"
                                },
                                {
                                    "login": "zsolt1",
                                    "SZALL_MOD": "Posta",
                                    "Rendelések száma": "6"
                                },
                                {
                                    "login": "ZSOLTJ",
                                    "SZALL_MOD": "Posta",
                                    "Rendelések száma": "8"
                                },
                                {
                                    "login": "zsuzsa",
                                    "SZALL_MOD": "Posta",
                                    "Rendelések száma": "5"
                                },
                                {
                                    "login": "zsuzsa3",
                                    "SZALL_MOD": "Posta",
                                    "Rendelések száma": "5"
                                },
                                {
                                    "login": "zsuzsanna",
                                    "SZALL_MOD": "Posta",
                                    "Rendelések száma": "5"
                                },
                                {
                                    "login": "ZSUZSAV",
                                    "SZALL_MOD": "Posta",
                                    "Rendelések száma": "139"
                                },
                                {
                                    "login": "NULL",
                                    "SZALL_MOD": "Posta",
                                    "Rendelések száma": "9191"
                                },
                                {
                                    "login": "adam1",
                                    "SZALL_MOD": "Személyes átvétel",
                                    "Rendelések száma": "131"
                                },
                                {
                                    "login": "adam3",
                                    "SZALL_MOD": "Személyes átvétel",
                                    "Rendelések száma": "2"
                                },
                                {
                                    "login": "adam4",
                                    "SZALL_MOD": "Személyes átvétel",
                                    "Rendelések száma": "11"
                                },
                                {
                                    "login": "agnes",
                                    "SZALL_MOD": "Személyes átvétel",
                                    "Rendelések száma": "144"
                                },
                                {
                                    "login": "agnes3",
                                    "SZALL_MOD": "Személyes átvétel",
                                    "Rendelések száma": "136"
                                },
                                {
                                    "login": "AGNESH",
                                    "SZALL_MOD": "Személyes átvétel",
                                    "Rendelések száma": "6"
                                },
                                {
                                    "login": "AGNESK",
                                    "SZALL_MOD": "Személyes átvétel",
                                    "Rendelések száma": "7"
                                },
                                {
                                    "login": "akos",
                                    "SZALL_MOD": "Személyes átvétel",
                                    "Rendelések száma": "140"
                                },
                                {
                                    "login": "aladar",
                                    "SZALL_MOD": "Személyes átvétel",
                                    "Rendelések száma": "118"
                                },
                                {
                                    "login": "alexandra",
                                    "SZALL_MOD": "Személyes átvétel",
                                    "Rendelések száma": "5"
                                },
                                {
                                    "login": "andi",
                                    "SZALL_MOD": "Személyes átvétel",
                                    "Rendelések száma": "7"
                                },
                                {
                                    "login": "andras2",
                                    "SZALL_MOD": "Személyes átvétel",
                                    "Rendelések száma": "11"
                                },
                                {
                                    "login": "andras21",
                                    "SZALL_MOD": "Személyes átvétel",
                                    "Rendelések száma": "126"
                                },
                                {
                                    "login": "andras3",
                                    "SZALL_MOD": "Személyes átvétel",
                                    "Rendelések száma": "5"
                                },
                                {
                                    "login": "andras4",
                                    "SZALL_MOD": "Személyes átvétel",
                                    "Rendelések száma": "4"
                                },
                                {
                                    "login": "andras41",
                                    "SZALL_MOD": "Személyes átvétel",
                                    "Rendelések száma": "133"
                                },
                                {
                                    "login": "ANDRASE",
                                    "SZALL_MOD": "Személyes átvétel",
                                    "Rendelések száma": "136"
                                },
                                {
                                    "login": "ANDRASN",
                                    "SZALL_MOD": "Személyes átvétel",
                                    "Rendelések száma": "5"
                                },
                                {
                                    "login": "andrea",
                                    "SZALL_MOD": "Személyes átvétel",
                                    "Rendelések száma": "8"
                                },
                                {
                                    "login": "andrea3",
                                    "SZALL_MOD": "Személyes átvétel",
                                    "Rendelések száma": "146"
                                },
                                {
                                    "login": "andrea4",
                                    "SZALL_MOD": "Személyes átvétel",
                                    "Rendelések száma": "7"
                                },
                                {
                                    "login": "ANDREAT",
                                    "SZALL_MOD": "Személyes átvétel",
                                    "Rendelések száma": "12"
                                },
                                {
                                    "login": "anett3",
                                    "SZALL_MOD": "Személyes átvétel",
                                    "Rendelések száma": "9"
                                },
                                {
                                    "login": "aniko",
                                    "SZALL_MOD": "Személyes átvétel",
                                    "Rendelések száma": "138"
                                },
                                {
                                    "login": "aniko4",
                                    "SZALL_MOD": "Személyes átvétel",
                                    "Rendelések száma": "3"
                                },
                                {
                                    "login": "ANIKOS",
                                    "SZALL_MOD": "Személyes átvétel",
                                    "Rendelések száma": "150"
                                },
                                {
                                    "login": "anita",
                                    "SZALL_MOD": "Személyes átvétel",
                                    "Rendelések száma": "5"
                                },
                                {
                                    "login": "annamaria1",
                                    "SZALL_MOD": "Személyes átvétel",
                                    "Rendelések száma": "7"
                                },
                                {
                                    "login": "ANNAMARIAR",
                                    "SZALL_MOD": "Személyes átvétel",
                                    "Rendelések száma": "3"
                                },
                                {
                                    "login": "aron2",
                                    "SZALL_MOD": "Személyes átvétel",
                                    "Rendelések száma": "144"
                                },
                                {
                                    "login": "ARONK",
                                    "SZALL_MOD": "Személyes átvétel",
                                    "Rendelések száma": "155"
                                },
                                {
                                    "login": "arpad2",
                                    "SZALL_MOD": "Személyes átvétel",
                                    "Rendelések száma": "10"
                                },
                                {
                                    "login": "ARPADH",
                                    "SZALL_MOD": "Személyes átvétel",
                                    "Rendelések száma": "5"
                                },
                                {
                                    "login": "ARPADM",
                                    "SZALL_MOD": "Személyes átvétel",
                                    "Rendelések száma": "7"
                                },
                                {
                                    "login": "attila1",
                                    "SZALL_MOD": "Személyes átvétel",
                                    "Rendelések száma": "6"
                                },
                                {
                                    "login": "attila4",
                                    "SZALL_MOD": "Személyes átvétel",
                                    "Rendelések száma": "141"
                                },
                                {
                                    "login": "ATTILAO",
                                    "SZALL_MOD": "Személyes átvétel",
                                    "Rendelések száma": "6"
                                },
                                {
                                    "login": "balazs1",
                                    "SZALL_MOD": "Személyes átvétel",
                                    "Rendelések száma": "155"
                                },
                                {
                                    "login": "balazs2",
                                    "SZALL_MOD": "Személyes átvétel",
                                    "Rendelések száma": "5"
                                },
                                {
                                    "login": "balazs3",
                                    "SZALL_MOD": "Személyes átvétel",
                                    "Rendelések száma": "3"
                                },
                                {
                                    "login": "balint",
                                    "SZALL_MOD": "Személyes átvétel",
                                    "Rendelések száma": "2"
                                },
                                {
                                    "login": "balint1",
                                    "SZALL_MOD": "Személyes átvétel",
                                    "Rendelések száma": "152"
                                },
                                {
                                    "login": "balint2",
                                    "SZALL_MOD": "Személyes átvétel",
                                    "Rendelések száma": "3"
                                },
                                {
                                    "login": "balu",
                                    "SZALL_MOD": "Személyes átvétel",
                                    "Rendelések száma": "123"
                                },
                                {
                                    "login": "BEATRIXK",
                                    "SZALL_MOD": "Személyes átvétel",
                                    "Rendelések száma": "145"
                                },
                                {
                                    "login": "BEATRIXS",
                                    "SZALL_MOD": "Személyes átvétel",
                                    "Rendelések száma": "133"
                                },
                                {
                                    "login": "BELAF",
                                    "SZALL_MOD": "Személyes átvétel",
                                    "Rendelések száma": "5"
                                },
                                {
                                    "login": "bence",
                                    "SZALL_MOD": "Személyes átvétel",
                                    "Rendelések száma": "8"
                                },
                                {
                                    "login": "BENCEB",
                                    "SZALL_MOD": "Személyes átvétel",
                                    "Rendelések száma": "5"
                                },
                                {
                                    "login": "bernadett1",
                                    "SZALL_MOD": "Személyes átvétel",
                                    "Rendelések száma": "5"
                                },
                                {
                                    "login": "bernadett2",
                                    "SZALL_MOD": "Személyes átvétel",
                                    "Rendelések száma": "7"
                                },
                                {
                                    "login": "BERNADETTO",
                                    "SZALL_MOD": "Személyes átvétel",
                                    "Rendelések száma": "7"
                                },
                                {
                                    "login": "bertalan",
                                    "SZALL_MOD": "Személyes átvétel",
                                    "Rendelések száma": "101"
                                },
                                {
                                    "login": "brigitta",
                                    "SZALL_MOD": "Személyes átvétel",
                                    "Rendelések száma": "119"
                                },
                                {
                                    "login": "brigitta3",
                                    "SZALL_MOD": "Személyes átvétel",
                                    "Rendelések száma": "139"
                                },
                                {
                                    "login": "csongor3",
                                    "SZALL_MOD": "Személyes átvétel",
                                    "Rendelések száma": "8"
                                },
                                {
                                    "login": "dani",
                                    "SZALL_MOD": "Személyes átvétel",
                                    "Rendelések száma": "8"
                                },
                                {
                                    "login": "daniel",
                                    "SZALL_MOD": "Személyes átvétel",
                                    "Rendelések száma": "4"
                                },
                                {
                                    "login": "daniel1",
                                    "SZALL_MOD": "Személyes átvétel",
                                    "Rendelések száma": "132"
                                },
                                {
                                    "login": "david",
                                    "SZALL_MOD": "Személyes átvétel",
                                    "Rendelések száma": "146"
                                },
                                {
                                    "login": "david1",
                                    "SZALL_MOD": "Személyes átvétel",
                                    "Rendelések száma": "8"
                                },
                                {
                                    "login": "david4",
                                    "SZALL_MOD": "Személyes átvétel",
                                    "Rendelések száma": "10"
                                },
                                {
                                    "login": "debora",
                                    "SZALL_MOD": "Személyes átvétel",
                                    "Rendelések száma": "3"
                                },
                                {
                                    "login": "denes",
                                    "SZALL_MOD": "Személyes átvétel",
                                    "Rendelések száma": "4"
                                },
                                {
                                    "login": "dora3",
                                    "SZALL_MOD": "Személyes átvétel",
                                    "Rendelések száma": "164"
                                },
                                {
                                    "login": "edit",
                                    "SZALL_MOD": "Személyes átvétel",
                                    "Rendelések száma": "4"
                                },
                                {
                                    "login": "emese",
                                    "SZALL_MOD": "Személyes átvétel",
                                    "Rendelések száma": "142"
                                },
                                {
                                    "login": "eszter2",
                                    "SZALL_MOD": "Személyes átvétel",
                                    "Rendelések száma": "152"
                                },
                                {
                                    "login": "eszter4",
                                    "SZALL_MOD": "Személyes átvétel",
                                    "Rendelések száma": "149"
                                },
                                {
                                    "login": "ESZTERE",
                                    "SZALL_MOD": "Személyes átvétel",
                                    "Rendelések száma": "7"
                                },
                                {
                                    "login": "eva",
                                    "SZALL_MOD": "Személyes átvétel",
                                    "Rendelések száma": "139"
                                },
                                {
                                    "login": "eva2",
                                    "SZALL_MOD": "Személyes átvétel",
                                    "Rendelések száma": "170"
                                },
                                {
                                    "login": "EVAV",
                                    "SZALL_MOD": "Személyes átvétel",
                                    "Rendelések száma": "4"
                                },
                                {
                                    "login": "ferenc1",
                                    "SZALL_MOD": "Személyes átvétel",
                                    "Rendelések száma": "135"
                                },
                                {
                                    "login": "fruzsina4",
                                    "SZALL_MOD": "Személyes átvétel",
                                    "Rendelések száma": "7"
                                },
                                {
                                    "login": "gabor1",
                                    "SZALL_MOD": "Személyes átvétel",
                                    "Rendelések száma": "5"
                                },
                                {
                                    "login": "gabor4",
                                    "SZALL_MOD": "Személyes átvétel",
                                    "Rendelések száma": "4"
                                },
                                {
                                    "login": "GABORS",
                                    "SZALL_MOD": "Személyes átvétel",
                                    "Rendelések száma": "4"
                                },
                                {
                                    "login": "gabriella1",
                                    "SZALL_MOD": "Személyes átvétel",
                                    "Rendelések száma": "5"
                                },
                                {
                                    "login": "gabriella10",
                                    "SZALL_MOD": "Személyes átvétel",
                                    "Rendelések száma": "7"
                                },
                                {
                                    "login": "georgij",
                                    "SZALL_MOD": "Személyes átvétel",
                                    "Rendelések száma": "10"
                                },
                                {
                                    "login": "gusztav",
                                    "SZALL_MOD": "Személyes átvétel",
                                    "Rendelések száma": "5"
                                },
                                {
                                    "login": "GYONGYIK",
                                    "SZALL_MOD": "Személyes átvétel",
                                    "Rendelések száma": "3"
                                },
                                {
                                    "login": "GYORGYO",
                                    "SZALL_MOD": "Személyes átvétel",
                                    "Rendelések száma": "5"
                                },
                                {
                                    "login": "henrik3",
                                    "SZALL_MOD": "Személyes átvétel",
                                    "Rendelések száma": "5"
                                },
                                {
                                    "login": "IBOLYAA",
                                    "SZALL_MOD": "Személyes átvétel",
                                    "Rendelések száma": "157"
                                },
                                {
                                    "login": "ilona3",
                                    "SZALL_MOD": "Személyes átvétel",
                                    "Rendelések száma": "7"
                                },
                                {
                                    "login": "imre",
                                    "SZALL_MOD": "Személyes átvétel",
                                    "Rendelések száma": "6"
                                },
                                {
                                    "login": "imre1",
                                    "SZALL_MOD": "Személyes átvétel",
                                    "Rendelések száma": "3"
                                },
                                {
                                    "login": "istvan",
                                    "SZALL_MOD": "Személyes átvétel",
                                    "Rendelések száma": "4"
                                },
                                {
                                    "login": "istvan1",
                                    "SZALL_MOD": "Személyes átvétel",
                                    "Rendelések száma": "7"
                                },
                                {
                                    "login": "ISTVANV",
                                    "SZALL_MOD": "Személyes átvétel",
                                    "Rendelések száma": "8"
                                },
                                {
                                    "login": "janos3",
                                    "SZALL_MOD": "Személyes átvétel",
                                    "Rendelések száma": "6"
                                },
                                {
                                    "login": "JANOSG",
                                    "SZALL_MOD": "Személyes átvétel",
                                    "Rendelések száma": "4"
                                },
                                {
                                    "login": "JANOSP",
                                    "SZALL_MOD": "Személyes átvétel",
                                    "Rendelések száma": "3"
                                },
                                {
                                    "login": "jozsef",
                                    "SZALL_MOD": "Személyes átvétel",
                                    "Rendelések száma": "134"
                                },
                                {
                                    "login": "jozsef2",
                                    "SZALL_MOD": "Személyes átvétel",
                                    "Rendelések száma": "4"
                                },
                                {
                                    "login": "JOZSEFG",
                                    "SZALL_MOD": "Személyes átvétel",
                                    "Rendelések száma": "9"
                                },
                                {
                                    "login": "JUDITH",
                                    "SZALL_MOD": "Személyes átvétel",
                                    "Rendelések száma": "150"
                                },
                                {
                                    "login": "julia",
                                    "SZALL_MOD": "Személyes átvétel",
                                    "Rendelések száma": "138"
                                },
                                {
                                    "login": "julia4",
                                    "SZALL_MOD": "Személyes átvétel",
                                    "Rendelések száma": "8"
                                },
                                {
                                    "login": "julianna4",
                                    "SZALL_MOD": "Személyes átvétel",
                                    "Rendelések száma": "7"
                                },
                                {
                                    "login": "kata",
                                    "SZALL_MOD": "Személyes átvétel",
                                    "Rendelések száma": "3"
                                },
                                {
                                    "login": "katalin",
                                    "SZALL_MOD": "Személyes átvétel",
                                    "Rendelések száma": "5"
                                },
                                {
                                    "login": "katalin4",
                                    "SZALL_MOD": "Személyes átvétel",
                                    "Rendelések száma": "11"
                                },
                                {
                                    "login": "kati",
                                    "SZALL_MOD": "Személyes átvétel",
                                    "Rendelések száma": "4"
                                },
                                {
                                    "login": "katka",
                                    "SZALL_MOD": "Személyes átvétel",
                                    "Rendelések száma": "10"
                                },
                                {
                                    "login": "klaudia2",
                                    "SZALL_MOD": "Személyes átvétel",
                                    "Rendelések száma": "5"
                                },
                                {
                                    "login": "kornel4",
                                    "SZALL_MOD": "Személyes átvétel",
                                    "Rendelések száma": "7"
                                },
                                {
                                    "login": "kristof4",
                                    "SZALL_MOD": "Személyes átvétel",
                                    "Rendelések száma": "8"
                                },
                                {
                                    "login": "kriszti",
                                    "SZALL_MOD": "Személyes átvétel",
                                    "Rendelések száma": "5"
                                },
                                {
                                    "login": "krisztian4",
                                    "SZALL_MOD": "Személyes átvétel",
                                    "Rendelések száma": "6"
                                },
                                {
                                    "login": "KRISZTIANM",
                                    "SZALL_MOD": "Személyes átvétel",
                                    "Rendelések száma": "130"
                                },
                                {
                                    "login": "krisztina",
                                    "SZALL_MOD": "Személyes átvétel",
                                    "Rendelések száma": "157"
                                },
                                {
                                    "login": "krisztina1",
                                    "SZALL_MOD": "Személyes átvétel",
                                    "Rendelések száma": "8"
                                },
                                {
                                    "login": "KRISZTINAG",
                                    "SZALL_MOD": "Személyes átvétel",
                                    "Rendelések száma": "10"
                                },
                                {
                                    "login": "lajos",
                                    "SZALL_MOD": "Személyes átvétel",
                                    "Rendelések száma": "9"
                                },
                                {
                                    "login": "lala",
                                    "SZALL_MOD": "Személyes átvétel",
                                    "Rendelések száma": "9"
                                },
                                {
                                    "login": "laszlo1",
                                    "SZALL_MOD": "Személyes átvétel",
                                    "Rendelések száma": "135"
                                },
                                {
                                    "login": "laszlo2",
                                    "SZALL_MOD": "Személyes átvétel",
                                    "Rendelések száma": "7"
                                },
                                {
                                    "login": "LASZLOA",
                                    "SZALL_MOD": "Személyes átvétel",
                                    "Rendelések száma": "154"
                                },
                                {
                                    "login": "LASZLON",
                                    "SZALL_MOD": "Személyes átvétel",
                                    "Rendelések száma": "143"
                                },
                                {
                                    "login": "maria1",
                                    "SZALL_MOD": "Személyes átvétel",
                                    "Rendelések száma": "1"
                                },
                                {
                                    "login": "MARKH",
                                    "SZALL_MOD": "Személyes átvétel",
                                    "Rendelések száma": "142"
                                },
                                {
                                    "login": "marton",
                                    "SZALL_MOD": "Személyes átvétel",
                                    "Rendelések száma": "5"
                                },
                                {
                                    "login": "MATEK",
                                    "SZALL_MOD": "Személyes átvétel",
                                    "Rendelések száma": "9"
                                },
                                {
                                    "login": "matyas2",
                                    "SZALL_MOD": "Személyes átvétel",
                                    "Rendelések száma": "164"
                                },
                                {
                                    "login": "MATYASS",
                                    "SZALL_MOD": "Személyes átvétel",
                                    "Rendelések száma": "3"
                                },
                                {
                                    "login": "MIHALYJ",
                                    "SZALL_MOD": "Személyes átvétel",
                                    "Rendelések száma": "6"
                                },
                                {
                                    "login": "miklos2",
                                    "SZALL_MOD": "Személyes átvétel",
                                    "Rendelések száma": "2"
                                },
                                {
                                    "login": "MIKLOSB",
                                    "SZALL_MOD": "Személyes átvétel",
                                    "Rendelések száma": "8"
                                },
                                {
                                    "login": "MONIKAM",
                                    "SZALL_MOD": "Személyes átvétel",
                                    "Rendelések száma": "123"
                                },
                                {
                                    "login": "NANDORF",
                                    "SZALL_MOD": "Személyes átvétel",
                                    "Rendelések száma": "134"
                                },
                                {
                                    "login": "nikolett3",
                                    "SZALL_MOD": "Személyes átvétel",
                                    "Rendelések száma": "10"
                                },
                                {
                                    "login": "nikoletta4",
                                    "SZALL_MOD": "Személyes átvétel",
                                    "Rendelések száma": "119"
                                },
                                {
                                    "login": "NIKOLETTAT",
                                    "SZALL_MOD": "Személyes átvétel",
                                    "Rendelések száma": "5"
                                },
                                {
                                    "login": "norbert4",
                                    "SZALL_MOD": "Személyes átvétel",
                                    "Rendelések száma": "9"
                                },
                                {
                                    "login": "norbert5",
                                    "SZALL_MOD": "Személyes átvétel",
                                    "Rendelések száma": "9"
                                },
                                {
                                    "login": "pal",
                                    "SZALL_MOD": "Személyes átvétel",
                                    "Rendelések száma": "154"
                                },
                                {
                                    "login": "peter1",
                                    "SZALL_MOD": "Személyes átvétel",
                                    "Rendelések száma": "126"
                                },
                                {
                                    "login": "peter2",
                                    "SZALL_MOD": "Személyes átvétel",
                                    "Rendelések száma": "7"
                                },
                                {
                                    "login": "peter3",
                                    "SZALL_MOD": "Személyes átvétel",
                                    "Rendelések száma": "10"
                                },
                                {
                                    "login": "peter4",
                                    "SZALL_MOD": "Személyes átvétel",
                                    "Rendelések száma": "293"
                                },
                                {
                                    "login": "PETERB",
                                    "SZALL_MOD": "Személyes átvétel",
                                    "Rendelések száma": "9"
                                },
                                {
                                    "login": "polla",
                                    "SZALL_MOD": "Személyes átvétel",
                                    "Rendelések száma": "7"
                                },
                                {
                                    "login": "rajmond4",
                                    "SZALL_MOD": "Személyes átvétel",
                                    "Rendelések száma": "6"
                                },
                                {
                                    "login": "reka4",
                                    "SZALL_MOD": "Személyes átvétel",
                                    "Rendelések száma": "11"
                                },
                                {
                                    "login": "RENATAK",
                                    "SZALL_MOD": "Személyes átvétel",
                                    "Rendelések száma": "147"
                                },
                                {
                                    "login": "RENATAS",
                                    "SZALL_MOD": "Személyes átvétel",
                                    "Rendelések száma": "5"
                                },
                                {
                                    "login": "robert2",
                                    "SZALL_MOD": "Személyes átvétel",
                                    "Rendelések száma": "7"
                                },
                                {
                                    "login": "ROBERTI",
                                    "SZALL_MOD": "Személyes átvétel",
                                    "Rendelések száma": "5"
                                },
                                {
                                    "login": "ROBERTP",
                                    "SZALL_MOD": "Személyes átvétel",
                                    "Rendelések száma": "10"
                                },
                                {
                                    "login": "roland",
                                    "SZALL_MOD": "Személyes átvétel",
                                    "Rendelések száma": "125"
                                },
                                {
                                    "login": "roland1",
                                    "SZALL_MOD": "Személyes átvétel",
                                    "Rendelések száma": "135"
                                },
                                {
                                    "login": "roza2",
                                    "SZALL_MOD": "Személyes átvétel",
                                    "Rendelések száma": "3"
                                },
                                {
                                    "login": "sandor",
                                    "SZALL_MOD": "Személyes átvétel",
                                    "Rendelések száma": "7"
                                },
                                {
                                    "login": "sandor3",
                                    "SZALL_MOD": "Személyes átvétel",
                                    "Rendelések száma": "6"
                                },
                                {
                                    "login": "sandor4",
                                    "SZALL_MOD": "Személyes átvétel",
                                    "Rendelések száma": "5"
                                },
                                {
                                    "login": "sara",
                                    "SZALL_MOD": "Személyes átvétel",
                                    "Rendelések száma": "9"
                                },
                                {
                                    "login": "SEBASTIANF",
                                    "SZALL_MOD": "Személyes átvétel",
                                    "Rendelések száma": "6"
                                },
                                {
                                    "login": "sebestyen",
                                    "SZALL_MOD": "Személyes átvétel",
                                    "Rendelések száma": "6"
                                },
                                {
                                    "login": "szabolcs",
                                    "SZALL_MOD": "Személyes átvétel",
                                    "Rendelések száma": "169"
                                },
                                {
                                    "login": "SZABOLCSM",
                                    "SZALL_MOD": "Személyes átvétel",
                                    "Rendelések száma": "129"
                                },
                                {
                                    "login": "SZILARDS",
                                    "SZALL_MOD": "Személyes átvétel",
                                    "Rendelések száma": "111"
                                },
                                {
                                    "login": "szilvia1",
                                    "SZALL_MOD": "Személyes átvétel",
                                    "Rendelések száma": "138"
                                },
                                {
                                    "login": "tamara2",
                                    "SZALL_MOD": "Személyes átvétel",
                                    "Rendelések száma": "3"
                                },
                                {
                                    "login": "tamas",
                                    "SZALL_MOD": "Személyes átvétel",
                                    "Rendelések száma": "122"
                                },
                                {
                                    "login": "TAMASF",
                                    "SZALL_MOD": "Személyes átvétel",
                                    "Rendelések száma": "129"
                                },
                                {
                                    "login": "tibor",
                                    "SZALL_MOD": "Személyes átvétel",
                                    "Rendelések száma": "130"
                                },
                                {
                                    "login": "tibor2",
                                    "SZALL_MOD": "Személyes átvétel",
                                    "Rendelések száma": "11"
                                },
                                {
                                    "login": "tihamer",
                                    "SZALL_MOD": "Személyes átvétel",
                                    "Rendelések száma": "5"
                                },
                                {
                                    "login": "timea",
                                    "SZALL_MOD": "Személyes átvétel",
                                    "Rendelések száma": "18"
                                },
                                {
                                    "login": "timea2",
                                    "SZALL_MOD": "Személyes átvétel",
                                    "Rendelések száma": "10"
                                },
                                {
                                    "login": "tunde",
                                    "SZALL_MOD": "Személyes átvétel",
                                    "Rendelések száma": "4"
                                },
                                {
                                    "login": "valentin",
                                    "SZALL_MOD": "Személyes átvétel",
                                    "Rendelések száma": "3"
                                },
                                {
                                    "login": "veronika4",
                                    "SZALL_MOD": "Személyes átvétel",
                                    "Rendelések száma": "7"
                                },
                                {
                                    "login": "VIKTORIAU",
                                    "SZALL_MOD": "Személyes átvétel",
                                    "Rendelések száma": "5"
                                },
                                {
                                    "login": "VIKTORK",
                                    "SZALL_MOD": "Személyes átvétel",
                                    "Rendelések száma": "6"
                                },
                                {
                                    "login": "vivien3",
                                    "SZALL_MOD": "Személyes átvétel",
                                    "Rendelések száma": "7"
                                },
                                {
                                    "login": "zoltan",
                                    "SZALL_MOD": "Személyes átvétel",
                                    "Rendelések száma": "7"
                                },
                                {
                                    "login": "zoltan4",
                                    "SZALL_MOD": "Személyes átvétel",
                                    "Rendelések száma": "171"
                                },
                                {
                                    "login": "ZOLTANP",
                                    "SZALL_MOD": "Személyes átvétel",
                                    "Rendelések száma": "4"
                                },
                                {
                                    "login": "ZOLTANT",
                                    "SZALL_MOD": "Személyes átvétel",
                                    "Rendelések száma": "123"
                                },
                                {
                                    "login": "zsofi1",
                                    "SZALL_MOD": "Személyes átvétel",
                                    "Rendelések száma": "6"
                                },
                                {
                                    "login": "zsolt1",
                                    "SZALL_MOD": "Személyes átvétel",
                                    "Rendelések száma": "3"
                                },
                                {
                                    "login": "ZSOLTJ",
                                    "SZALL_MOD": "Személyes átvétel",
                                    "Rendelések száma": "9"
                                },
                                {
                                    "login": "zsuzsa",
                                    "SZALL_MOD": "Személyes átvétel",
                                    "Rendelések száma": "3"
                                },
                                {
                                    "login": "zsuzsa3",
                                    "SZALL_MOD": "Személyes átvétel",
                                    "Rendelések száma": "6"
                                },
                                {
                                    "login": "zsuzsanna",
                                    "SZALL_MOD": "Személyes átvétel",
                                    "Rendelések száma": "3"
                                },
                                {
                                    "login": "ZSUZSAV",
                                    "SZALL_MOD": "Személyes átvétel",
                                    "Rendelések száma": "142"
                                },
                                {
                                    "login": "NULL",
                                    "SZALL_MOD": "Személyes átvétel",
                                    "Rendelések száma": "9468"
                                },
                                {
                                    "login": "NULL",
                                    "SZALL_MOD": "NULL",
                                    "Rendelések száma": "28085"
                                },
                                {
                                    "login": "adam1",
                                    "SZALL_MOD": "NULL",
                                    "Rendelések száma": "392"
                                },
                                {
                                    "login": "adam3",
                                    "SZALL_MOD": "NULL",
                                    "Rendelések száma": "15"
                                },
                                {
                                    "login": "adam4",
                                    "SZALL_MOD": "NULL",
                                    "Rendelések száma": "29"
                                },
                                {
                                    "login": "agnes",
                                    "SZALL_MOD": "NULL",
                                    "Rendelések száma": "418"
                                },
                                {
                                    "login": "agnes3",
                                    "SZALL_MOD": "NULL",
                                    "Rendelések száma": "430"
                                },
                                {
                                    "login": "AGNESH",
                                    "SZALL_MOD": "NULL",
                                    "Rendelések száma": "11"
                                },
                                {
                                    "login": "AGNESK",
                                    "SZALL_MOD": "NULL",
                                    "Rendelések száma": "15"
                                },
                                {
                                    "login": "akos",
                                    "SZALL_MOD": "NULL",
                                    "Rendelések száma": "429"
                                },
                                {
                                    "login": "aladar",
                                    "SZALL_MOD": "NULL",
                                    "Rendelések száma": "408"
                                },
                                {
                                    "login": "alexandra",
                                    "SZALL_MOD": "NULL",
                                    "Rendelések száma": "19"
                                },
                                {
                                    "login": "andi",
                                    "SZALL_MOD": "NULL",
                                    "Rendelések száma": "18"
                                },
                                {
                                    "login": "andras2",
                                    "SZALL_MOD": "NULL",
                                    "Rendelések száma": "22"
                                },
                                {
                                    "login": "andras21",
                                    "SZALL_MOD": "NULL",
                                    "Rendelések száma": "390"
                                },
                                {
                                    "login": "andras3",
                                    "SZALL_MOD": "NULL",
                                    "Rendelések száma": "9"
                                },
                                {
                                    "login": "andras4",
                                    "SZALL_MOD": "NULL",
                                    "Rendelések száma": "12"
                                },
                                {
                                    "login": "andras41",
                                    "SZALL_MOD": "NULL",
                                    "Rendelések száma": "419"
                                },
                                {
                                    "login": "ANDRASE",
                                    "SZALL_MOD": "NULL",
                                    "Rendelések száma": "436"
                                },
                                {
                                    "login": "ANDRASN",
                                    "SZALL_MOD": "NULL",
                                    "Rendelések száma": "24"
                                },
                                {
                                    "login": "andrea",
                                    "SZALL_MOD": "NULL",
                                    "Rendelések száma": "24"
                                },
                                {
                                    "login": "andrea3",
                                    "SZALL_MOD": "NULL",
                                    "Rendelések száma": "413"
                                },
                                {
                                    "login": "andrea4",
                                    "SZALL_MOD": "NULL",
                                    "Rendelések száma": "18"
                                },
                                {
                                    "login": "ANDREAT",
                                    "SZALL_MOD": "NULL",
                                    "Rendelések száma": "21"
                                },
                                {
                                    "login": "anett3",
                                    "SZALL_MOD": "NULL",
                                    "Rendelések száma": "18"
                                },
                                {
                                    "login": "aniko",
                                    "SZALL_MOD": "NULL",
                                    "Rendelések száma": "403"
                                },
                                {
                                    "login": "aniko4",
                                    "SZALL_MOD": "NULL",
                                    "Rendelések száma": "15"
                                },
                                {
                                    "login": "ANIKOS",
                                    "SZALL_MOD": "NULL",
                                    "Rendelések száma": "404"
                                },
                                {
                                    "login": "anita",
                                    "SZALL_MOD": "NULL",
                                    "Rendelések száma": "12"
                                },
                                {
                                    "login": "annamaria1",
                                    "SZALL_MOD": "NULL",
                                    "Rendelések száma": "16"
                                },
                                {
                                    "login": "ANNAMARIAR",
                                    "SZALL_MOD": "NULL",
                                    "Rendelések száma": "13"
                                },
                                {
                                    "login": "aron2",
                                    "SZALL_MOD": "NULL",
                                    "Rendelések száma": "409"
                                },
                                {
                                    "login": "ARONK",
                                    "SZALL_MOD": "NULL",
                                    "Rendelések száma": "430"
                                },
                                {
                                    "login": "arpad2",
                                    "SZALL_MOD": "NULL",
                                    "Rendelések száma": "17"
                                },
                                {
                                    "login": "ARPADH",
                                    "SZALL_MOD": "NULL",
                                    "Rendelések száma": "14"
                                },
                                {
                                    "login": "ARPADM",
                                    "SZALL_MOD": "NULL",
                                    "Rendelések száma": "16"
                                },
                                {
                                    "login": "attila1",
                                    "SZALL_MOD": "NULL",
                                    "Rendelések száma": "18"
                                },
                                {
                                    "login": "attila4",
                                    "SZALL_MOD": "NULL",
                                    "Rendelések száma": "401"
                                },
                                {
                                    "login": "ATTILAO",
                                    "SZALL_MOD": "NULL",
                                    "Rendelések száma": "14"
                                },
                                {
                                    "login": "balazs1",
                                    "SZALL_MOD": "NULL",
                                    "Rendelések száma": "419"
                                },
                                {
                                    "login": "balazs2",
                                    "SZALL_MOD": "NULL",
                                    "Rendelések száma": "17"
                                },
                                {
                                    "login": "balazs3",
                                    "SZALL_MOD": "NULL",
                                    "Rendelések száma": "15"
                                },
                                {
                                    "login": "balint",
                                    "SZALL_MOD": "NULL",
                                    "Rendelések száma": "16"
                                },
                                {
                                    "login": "balint1",
                                    "SZALL_MOD": "NULL",
                                    "Rendelések száma": "462"
                                },
                                {
                                    "login": "balint2",
                                    "SZALL_MOD": "NULL",
                                    "Rendelések száma": "17"
                                },
                                {
                                    "login": "balu",
                                    "SZALL_MOD": "NULL",
                                    "Rendelések száma": "387"
                                },
                                {
                                    "login": "BEATRIXK",
                                    "SZALL_MOD": "NULL",
                                    "Rendelések száma": "435"
                                },
                                {
                                    "login": "BEATRIXS",
                                    "SZALL_MOD": "NULL",
                                    "Rendelések száma": "420"
                                },
                                {
                                    "login": "BELAF",
                                    "SZALL_MOD": "NULL",
                                    "Rendelések száma": "18"
                                },
                                {
                                    "login": "bence",
                                    "SZALL_MOD": "NULL",
                                    "Rendelések száma": "18"
                                },
                                {
                                    "login": "BENCEB",
                                    "SZALL_MOD": "NULL",
                                    "Rendelések száma": "17"
                                },
                                {
                                    "login": "bernadett1",
                                    "SZALL_MOD": "NULL",
                                    "Rendelések száma": "20"
                                },
                                {
                                    "login": "bernadett2",
                                    "SZALL_MOD": "NULL",
                                    "Rendelések száma": "15"
                                },
                                {
                                    "login": "BERNADETTO",
                                    "SZALL_MOD": "NULL",
                                    "Rendelések száma": "16"
                                },
                                {
                                    "login": "bertalan",
                                    "SZALL_MOD": "NULL",
                                    "Rendelések száma": "353"
                                },
                                {
                                    "login": "brigitta",
                                    "SZALL_MOD": "NULL",
                                    "Rendelések száma": "393"
                                },
                                {
                                    "login": "brigitta3",
                                    "SZALL_MOD": "NULL",
                                    "Rendelések száma": "413"
                                },
                                {
                                    "login": "csongor3",
                                    "SZALL_MOD": "NULL",
                                    "Rendelések száma": "15"
                                },
                                {
                                    "login": "dani",
                                    "SZALL_MOD": "NULL",
                                    "Rendelések száma": "13"
                                },
                                {
                                    "login": "daniel",
                                    "SZALL_MOD": "NULL",
                                    "Rendelések száma": "13"
                                },
                                {
                                    "login": "daniel1",
                                    "SZALL_MOD": "NULL",
                                    "Rendelések száma": "419"
                                },
                                {
                                    "login": "david",
                                    "SZALL_MOD": "NULL",
                                    "Rendelések száma": "451"
                                },
                                {
                                    "login": "david1",
                                    "SZALL_MOD": "NULL",
                                    "Rendelések száma": "17"
                                },
                                {
                                    "login": "david4",
                                    "SZALL_MOD": "NULL",
                                    "Rendelések száma": "21"
                                },
                                {
                                    "login": "debora",
                                    "SZALL_MOD": "NULL",
                                    "Rendelések száma": "16"
                                },
                                {
                                    "login": "denes",
                                    "SZALL_MOD": "NULL",
                                    "Rendelések száma": "9"
                                },
                                {
                                    "login": "dora3",
                                    "SZALL_MOD": "NULL",
                                    "Rendelések száma": "432"
                                },
                                {
                                    "login": "edit",
                                    "SZALL_MOD": "NULL",
                                    "Rendelések száma": "13"
                                },
                                {
                                    "login": "emese",
                                    "SZALL_MOD": "NULL",
                                    "Rendelések száma": "406"
                                },
                                {
                                    "login": "eszter2",
                                    "SZALL_MOD": "NULL",
                                    "Rendelések száma": "415"
                                },
                                {
                                    "login": "eszter4",
                                    "SZALL_MOD": "NULL",
                                    "Rendelések száma": "424"
                                },
                                {
                                    "login": "ESZTERE",
                                    "SZALL_MOD": "NULL",
                                    "Rendelések száma": "22"
                                },
                                {
                                    "login": "eva",
                                    "SZALL_MOD": "NULL",
                                    "Rendelések száma": "404"
                                },
                                {
                                    "login": "eva2",
                                    "SZALL_MOD": "NULL",
                                    "Rendelések száma": "462"
                                },
                                {
                                    "login": "EVAV",
                                    "SZALL_MOD": "NULL",
                                    "Rendelések száma": "7"
                                },
                                {
                                    "login": "ferenc1",
                                    "SZALL_MOD": "NULL",
                                    "Rendelések száma": "437"
                                },
                                {
                                    "login": "fruzsina4",
                                    "SZALL_MOD": "NULL",
                                    "Rendelések száma": "18"
                                },
                                {
                                    "login": "gabor1",
                                    "SZALL_MOD": "NULL",
                                    "Rendelések száma": "19"
                                },
                                {
                                    "login": "gabor4",
                                    "SZALL_MOD": "NULL",
                                    "Rendelések száma": "20"
                                },
                                {
                                    "login": "GABORS",
                                    "SZALL_MOD": "NULL",
                                    "Rendelések száma": "15"
                                },
                                {
                                    "login": "gabriella1",
                                    "SZALL_MOD": "NULL",
                                    "Rendelések száma": "14"
                                },
                                {
                                    "login": "gabriella10",
                                    "SZALL_MOD": "NULL",
                                    "Rendelések száma": "16"
                                },
                                {
                                    "login": "georgij",
                                    "SZALL_MOD": "NULL",
                                    "Rendelések száma": "21"
                                },
                                {
                                    "login": "gusztav",
                                    "SZALL_MOD": "NULL",
                                    "Rendelések száma": "14"
                                },
                                {
                                    "login": "GYONGYIK",
                                    "SZALL_MOD": "NULL",
                                    "Rendelések száma": "15"
                                },
                                {
                                    "login": "GYORGYO",
                                    "SZALL_MOD": "NULL",
                                    "Rendelések száma": "16"
                                },
                                {
                                    "login": "henrik3",
                                    "SZALL_MOD": "NULL",
                                    "Rendelések száma": "16"
                                },
                                {
                                    "login": "IBOLYAA",
                                    "SZALL_MOD": "NULL",
                                    "Rendelések száma": "422"
                                },
                                {
                                    "login": "ilona3",
                                    "SZALL_MOD": "NULL",
                                    "Rendelések száma": "18"
                                },
                                {
                                    "login": "imre",
                                    "SZALL_MOD": "NULL",
                                    "Rendelések száma": "15"
                                },
                                {
                                    "login": "imre1",
                                    "SZALL_MOD": "NULL",
                                    "Rendelések száma": "15"
                                },
                                {
                                    "login": "istvan",
                                    "SZALL_MOD": "NULL",
                                    "Rendelések száma": "11"
                                },
                                {
                                    "login": "istvan1",
                                    "SZALL_MOD": "NULL",
                                    "Rendelések száma": "19"
                                },
                                {
                                    "login": "ISTVANV",
                                    "SZALL_MOD": "NULL",
                                    "Rendelések száma": "21"
                                },
                                {
                                    "login": "janos3",
                                    "SZALL_MOD": "NULL",
                                    "Rendelések száma": "13"
                                },
                                {
                                    "login": "JANOSG",
                                    "SZALL_MOD": "NULL",
                                    "Rendelések száma": "10"
                                },
                                {
                                    "login": "JANOSP",
                                    "SZALL_MOD": "NULL",
                                    "Rendelések száma": "17"
                                },
                                {
                                    "login": "jozsef",
                                    "SZALL_MOD": "NULL",
                                    "Rendelések száma": "382"
                                },
                                {
                                    "login": "jozsef2",
                                    "SZALL_MOD": "NULL",
                                    "Rendelések száma": "13"
                                },
                                {
                                    "login": "JOZSEFG",
                                    "SZALL_MOD": "NULL",
                                    "Rendelések száma": "21"
                                },
                                {
                                    "login": "JUDITH",
                                    "SZALL_MOD": "NULL",
                                    "Rendelések száma": "450"
                                },
                                {
                                    "login": "julia",
                                    "SZALL_MOD": "NULL",
                                    "Rendelések száma": "435"
                                },
                                {
                                    "login": "julia4",
                                    "SZALL_MOD": "NULL",
                                    "Rendelések száma": "14"
                                },
                                {
                                    "login": "julianna4",
                                    "SZALL_MOD": "NULL",
                                    "Rendelések száma": "27"
                                },
                                {
                                    "login": "kata",
                                    "SZALL_MOD": "NULL",
                                    "Rendelések száma": "12"
                                },
                                {
                                    "login": "katalin",
                                    "SZALL_MOD": "NULL",
                                    "Rendelések száma": "19"
                                },
                                {
                                    "login": "katalin4",
                                    "SZALL_MOD": "NULL",
                                    "Rendelések száma": "23"
                                },
                                {
                                    "login": "kati",
                                    "SZALL_MOD": "NULL",
                                    "Rendelések száma": "13"
                                },
                                {
                                    "login": "katka",
                                    "SZALL_MOD": "NULL",
                                    "Rendelések száma": "22"
                                },
                                {
                                    "login": "klaudia2",
                                    "SZALL_MOD": "NULL",
                                    "Rendelések száma": "17"
                                },
                                {
                                    "login": "kornel4",
                                    "SZALL_MOD": "NULL",
                                    "Rendelések száma": "11"
                                },
                                {
                                    "login": "kristof4",
                                    "SZALL_MOD": "NULL",
                                    "Rendelések száma": "21"
                                },
                                {
                                    "login": "kriszti",
                                    "SZALL_MOD": "NULL",
                                    "Rendelések száma": "13"
                                },
                                {
                                    "login": "krisztian4",
                                    "SZALL_MOD": "NULL",
                                    "Rendelések száma": "17"
                                },
                                {
                                    "login": "KRISZTIANM",
                                    "SZALL_MOD": "NULL",
                                    "Rendelések száma": "384"
                                },
                                {
                                    "login": "krisztina",
                                    "SZALL_MOD": "NULL",
                                    "Rendelések száma": "456"
                                },
                                {
                                    "login": "krisztina1",
                                    "SZALL_MOD": "NULL",
                                    "Rendelések száma": "22"
                                },
                                {
                                    "login": "KRISZTINAG",
                                    "SZALL_MOD": "NULL",
                                    "Rendelések száma": "22"
                                },
                                {
                                    "login": "lajos",
                                    "SZALL_MOD": "NULL",
                                    "Rendelések száma": "16"
                                },
                                {
                                    "login": "lala",
                                    "SZALL_MOD": "NULL",
                                    "Rendelések száma": "17"
                                },
                                {
                                    "login": "laszlo1",
                                    "SZALL_MOD": "NULL",
                                    "Rendelések száma": "394"
                                },
                                {
                                    "login": "laszlo2",
                                    "SZALL_MOD": "NULL",
                                    "Rendelések száma": "25"
                                },
                                {
                                    "login": "LASZLOA",
                                    "SZALL_MOD": "NULL",
                                    "Rendelések száma": "446"
                                },
                                {
                                    "login": "LASZLON",
                                    "SZALL_MOD": "NULL",
                                    "Rendelések száma": "400"
                                },
                                {
                                    "login": "maria1",
                                    "SZALL_MOD": "NULL",
                                    "Rendelések száma": "10"
                                },
                                {
                                    "login": "MARKH",
                                    "SZALL_MOD": "NULL",
                                    "Rendelések száma": "412"
                                },
                                {
                                    "login": "marton",
                                    "SZALL_MOD": "NULL",
                                    "Rendelések száma": "14"
                                },
                                {
                                    "login": "MATEK",
                                    "SZALL_MOD": "NULL",
                                    "Rendelések száma": "25"
                                },
                                {
                                    "login": "matyas2",
                                    "SZALL_MOD": "NULL",
                                    "Rendelések száma": "433"
                                },
                                {
                                    "login": "MATYASS",
                                    "SZALL_MOD": "NULL",
                                    "Rendelések száma": "12"
                                },
                                {
                                    "login": "MIHALYJ",
                                    "SZALL_MOD": "NULL",
                                    "Rendelések száma": "13"
                                },
                                {
                                    "login": "miklos2",
                                    "SZALL_MOD": "NULL",
                                    "Rendelések száma": "13"
                                },
                                {
                                    "login": "MIKLOSB",
                                    "SZALL_MOD": "NULL",
                                    "Rendelések száma": "15"
                                },
                                {
                                    "login": "MONIKAM",
                                    "SZALL_MOD": "NULL",
                                    "Rendelések száma": "407"
                                },
                                {
                                    "login": "NANDORF",
                                    "SZALL_MOD": "NULL",
                                    "Rendelések száma": "420"
                                },
                                {
                                    "login": "nikolett3",
                                    "SZALL_MOD": "NULL",
                                    "Rendelések száma": "17"
                                },
                                {
                                    "login": "nikoletta4",
                                    "SZALL_MOD": "NULL",
                                    "Rendelések száma": "414"
                                },
                                {
                                    "login": "NIKOLETTAT",
                                    "SZALL_MOD": "NULL",
                                    "Rendelések száma": "25"
                                },
                                {
                                    "login": "norbert2",
                                    "SZALL_MOD": "NULL",
                                    "Rendelések száma": "11"
                                },
                                {
                                    "login": "norbert4",
                                    "SZALL_MOD": "NULL",
                                    "Rendelések száma": "13"
                                },
                                {
                                    "login": "norbert5",
                                    "SZALL_MOD": "NULL",
                                    "Rendelések száma": "16"
                                },
                                {
                                    "login": "pal",
                                    "SZALL_MOD": "NULL",
                                    "Rendelések száma": "438"
                                },
                                {
                                    "login": "peter1",
                                    "SZALL_MOD": "NULL",
                                    "Rendelések száma": "412"
                                },
                                {
                                    "login": "peter2",
                                    "SZALL_MOD": "NULL",
                                    "Rendelések száma": "18"
                                },
                                {
                                    "login": "peter3",
                                    "SZALL_MOD": "NULL",
                                    "Rendelések száma": "25"
                                },
                                {
                                    "login": "peter4",
                                    "SZALL_MOD": "NULL",
                                    "Rendelések száma": "852"
                                },
                                {
                                    "login": "PETERB",
                                    "SZALL_MOD": "NULL",
                                    "Rendelések száma": "15"
                                },
                                {
                                    "login": "polla",
                                    "SZALL_MOD": "NULL",
                                    "Rendelések száma": "22"
                                },
                                {
                                    "login": "rajmond4",
                                    "SZALL_MOD": "NULL",
                                    "Rendelések száma": "17"
                                },
                                {
                                    "login": "reka4",
                                    "SZALL_MOD": "NULL",
                                    "Rendelések száma": "20"
                                },
                                {
                                    "login": "RENATAK",
                                    "SZALL_MOD": "NULL",
                                    "Rendelések száma": "422"
                                },
                                {
                                    "login": "RENATAS",
                                    "SZALL_MOD": "NULL",
                                    "Rendelések száma": "16"
                                },
                                {
                                    "login": "robert2",
                                    "SZALL_MOD": "NULL",
                                    "Rendelések száma": "13"
                                },
                                {
                                    "login": "ROBERTI",
                                    "SZALL_MOD": "NULL",
                                    "Rendelések száma": "13"
                                },
                                {
                                    "login": "ROBERTP",
                                    "SZALL_MOD": "NULL",
                                    "Rendelések száma": "26"
                                },
                                {
                                    "login": "roland",
                                    "SZALL_MOD": "NULL",
                                    "Rendelések száma": "414"
                                },
                                {
                                    "login": "roland1",
                                    "SZALL_MOD": "NULL",
                                    "Rendelések száma": "432"
                                },
                                {
                                    "login": "roza2",
                                    "SZALL_MOD": "NULL",
                                    "Rendelések száma": "8"
                                },
                                {
                                    "login": "sandor",
                                    "SZALL_MOD": "NULL",
                                    "Rendelések száma": "17"
                                },
                                {
                                    "login": "sandor3",
                                    "SZALL_MOD": "NULL",
                                    "Rendelések száma": "14"
                                },
                                {
                                    "login": "sandor4",
                                    "SZALL_MOD": "NULL",
                                    "Rendelések száma": "11"
                                },
                                {
                                    "login": "sara",
                                    "SZALL_MOD": "NULL",
                                    "Rendelések száma": "20"
                                },
                                {
                                    "login": "SEBASTIANF",
                                    "SZALL_MOD": "NULL",
                                    "Rendelések száma": "15"
                                },
                                {
                                    "login": "sebestyen",
                                    "SZALL_MOD": "NULL",
                                    "Rendelések száma": "16"
                                },
                                {
                                    "login": "szabolcs",
                                    "SZALL_MOD": "NULL",
                                    "Rendelések száma": "471"
                                },
                                {
                                    "login": "SZABOLCSM",
                                    "SZALL_MOD": "NULL",
                                    "Rendelések száma": "408"
                                },
                                {
                                    "login": "SZILARDS",
                                    "SZALL_MOD": "NULL",
                                    "Rendelések száma": "386"
                                },
                                {
                                    "login": "szilvia1",
                                    "SZALL_MOD": "NULL",
                                    "Rendelések száma": "445"
                                },
                                {
                                    "login": "tamara2",
                                    "SZALL_MOD": "NULL",
                                    "Rendelések száma": "13"
                                },
                                {
                                    "login": "tamas",
                                    "SZALL_MOD": "NULL",
                                    "Rendelések száma": "421"
                                },
                                {
                                    "login": "TAMASF",
                                    "SZALL_MOD": "NULL",
                                    "Rendelések száma": "433"
                                },
                                {
                                    "login": "tibor",
                                    "SZALL_MOD": "NULL",
                                    "Rendelések száma": "374"
                                },
                                {
                                    "login": "tibor2",
                                    "SZALL_MOD": "NULL",
                                    "Rendelések száma": "25"
                                },
                                {
                                    "login": "tihamer",
                                    "SZALL_MOD": "NULL",
                                    "Rendelések száma": "20"
                                },
                                {
                                    "login": "timea",
                                    "SZALL_MOD": "NULL",
                                    "Rendelések száma": "55"
                                },
                                {
                                    "login": "timea2",
                                    "SZALL_MOD": "NULL",
                                    "Rendelések száma": "16"
                                },
                                {
                                    "login": "tunde",
                                    "SZALL_MOD": "NULL",
                                    "Rendelések száma": "16"
                                },
                                {
                                    "login": "valentin",
                                    "SZALL_MOD": "NULL",
                                    "Rendelések száma": "13"
                                },
                                {
                                    "login": "veronika4",
                                    "SZALL_MOD": "NULL",
                                    "Rendelések száma": "18"
                                },
                                {
                                    "login": "VIKTORIAU",
                                    "SZALL_MOD": "NULL",
                                    "Rendelések száma": "14"
                                },
                                {
                                    "login": "VIKTORK",
                                    "SZALL_MOD": "NULL",
                                    "Rendelések száma": "20"
                                },
                                {
                                    "login": "vivien3",
                                    "SZALL_MOD": "NULL",
                                    "Rendelések száma": "22"
                                },
                                {
                                    "login": "zoltan",
                                    "SZALL_MOD": "NULL",
                                    "Rendelések száma": "15"
                                },
                                {
                                    "login": "zoltan4",
                                    "SZALL_MOD": "NULL",
                                    "Rendelések száma": "424"
                                },
                                {
                                    "login": "ZOLTANP",
                                    "SZALL_MOD": "NULL",
                                    "Rendelések száma": "13"
                                },
                                {
                                    "login": "ZOLTANT",
                                    "SZALL_MOD": "NULL",
                                    "Rendelések száma": "357"
                                },
                                {
                                    "login": "zsofi1",
                                    "SZALL_MOD": "NULL",
                                    "Rendelések száma": "19"
                                },
                                {
                                    "login": "zsolt1",
                                    "SZALL_MOD": "NULL",
                                    "Rendelések száma": "20"
                                },
                                {
                                    "login": "ZSOLTJ",
                                    "SZALL_MOD": "NULL",
                                    "Rendelések száma": "18"
                                },
                                {
                                    "login": "zsuzsa",
                                    "SZALL_MOD": "NULL",
                                    "Rendelések száma": "16"
                                },
                                {
                                    "login": "zsuzsa3",
                                    "SZALL_MOD": "NULL",
                                    "Rendelések száma": "16"
                                },
                                {
                                    "login": "zsuzsanna",
                                    "SZALL_MOD": "NULL",
                                    "Rendelések száma": "15"
                                },
                                {
                                    "login": "ZSUZSAV",
                                    "SZALL_MOD": "NULL",
                                    "Rendelések száma": "420"
                                }
                            ]
                        },
                        "text/html": "<table><tr><th>login</th><th>SZALL_MOD</th><th>Rendelések száma</th></tr><tr><td>adam1</td><td>GLS</td><td>129</td></tr><tr><td>adam3</td><td>GLS</td><td>10</td></tr><tr><td>adam4</td><td>GLS</td><td>12</td></tr><tr><td>agnes</td><td>GLS</td><td>144</td></tr><tr><td>agnes3</td><td>GLS</td><td>148</td></tr><tr><td>AGNESH</td><td>GLS</td><td>2</td></tr><tr><td>AGNESK</td><td>GLS</td><td>1</td></tr><tr><td>akos</td><td>GLS</td><td>146</td></tr><tr><td>aladar</td><td>GLS</td><td>156</td></tr><tr><td>alexandra</td><td>GLS</td><td>5</td></tr><tr><td>andi</td><td>GLS</td><td>7</td></tr><tr><td>andras2</td><td>GLS</td><td>4</td></tr><tr><td>andras21</td><td>GLS</td><td>140</td></tr><tr><td>andras3</td><td>GLS</td><td>3</td></tr><tr><td>andras4</td><td>GLS</td><td>4</td></tr><tr><td>andras41</td><td>GLS</td><td>149</td></tr><tr><td>ANDRASE</td><td>GLS</td><td>159</td></tr><tr><td>ANDRASN</td><td>GLS</td><td>10</td></tr><tr><td>andrea</td><td>GLS</td><td>12</td></tr><tr><td>andrea3</td><td>GLS</td><td>131</td></tr><tr><td>andrea4</td><td>GLS</td><td>7</td></tr><tr><td>ANDREAT</td><td>GLS</td><td>3</td></tr><tr><td>anett3</td><td>GLS</td><td>3</td></tr><tr><td>aniko</td><td>GLS</td><td>128</td></tr><tr><td>aniko4</td><td>GLS</td><td>6</td></tr><tr><td>ANIKOS</td><td>GLS</td><td>128</td></tr><tr><td>anita</td><td>GLS</td><td>5</td></tr><tr><td>annamaria1</td><td>GLS</td><td>5</td></tr><tr><td>ANNAMARIAR</td><td>GLS</td><td>8</td></tr><tr><td>aron2</td><td>GLS</td><td>132</td></tr><tr><td>ARONK</td><td>GLS</td><td>155</td></tr><tr><td>arpad2</td><td>GLS</td><td>6</td></tr><tr><td>ARPADH</td><td>GLS</td><td>6</td></tr><tr><td>ARPADM</td><td>GLS</td><td>6</td></tr><tr><td>attila1</td><td>GLS</td><td>5</td></tr><tr><td>attila4</td><td>GLS</td><td>135</td></tr><tr><td>ATTILAO</td><td>GLS</td><td>4</td></tr><tr><td>balazs1</td><td>GLS</td><td>128</td></tr><tr><td>balazs2</td><td>GLS</td><td>5</td></tr><tr><td>balazs3</td><td>GLS</td><td>6</td></tr><tr><td>balint</td><td>GLS</td><td>10</td></tr><tr><td>balint1</td><td>GLS</td><td>158</td></tr><tr><td>balint2</td><td>GLS</td><td>8</td></tr><tr><td>balu</td><td>GLS</td><td>127</td></tr><tr><td>BEATRIXK</td><td>GLS</td><td>135</td></tr><tr><td>BEATRIXS</td><td>GLS</td><td>146</td></tr><tr><td>BELAF</td><td>GLS</td><td>11</td></tr><tr><td>bence</td><td>GLS</td><td>4</td></tr><tr><td>BENCEB</td><td>GLS</td><td>5</td></tr><tr><td>bernadett1</td><td>GLS</td><td>10</td></tr><tr><td>bernadett2</td><td>GLS</td><td>6</td></tr><tr><td>BERNADETTO</td><td>GLS</td><td>7</td></tr><tr><td>bertalan</td><td>GLS</td><td>128</td></tr><tr><td>brigitta</td><td>GLS</td><td>137</td></tr><tr><td>brigitta3</td><td>GLS</td><td>144</td></tr><tr><td>csongor3</td><td>GLS</td><td>5</td></tr><tr><td>dani</td><td>GLS</td><td>5</td></tr><tr><td>daniel</td><td>GLS</td><td>7</td></tr><tr><td>daniel1</td><td>GLS</td><td>156</td></tr><tr><td>david</td><td>GLS</td><td>161</td></tr><tr><td>david1</td><td>GLS</td><td>8</td></tr><tr><td>david4</td><td>GLS</td><td>3</td></tr><tr><td>debora</td><td>GLS</td><td>7</td></tr><tr><td>denes</td><td>GLS</td><td>3</td></tr><tr><td>dora3</td><td>GLS</td><td>144</td></tr><tr><td>edit</td><td>GLS</td><td>7</td></tr><tr><td>emese</td><td>GLS</td><td>128</td></tr><tr><td>eszter2</td><td>GLS</td><td>127</td></tr><tr><td>eszter4</td><td>GLS</td><td>141</td></tr><tr><td>ESZTERE</td><td>GLS</td><td>6</td></tr><tr><td>eva</td><td>GLS</td><td>125</td></tr><tr><td>eva2</td><td>GLS</td><td>154</td></tr><tr><td>EVAV</td><td>GLS</td><td>2</td></tr><tr><td>ferenc1</td><td>GLS</td><td>144</td></tr><tr><td>fruzsina4</td><td>GLS</td><td>8</td></tr><tr><td>gabor1</td><td>GLS</td><td>9</td></tr><tr><td>gabor4</td><td>GLS</td><td>7</td></tr><tr><td>GABORS</td><td>GLS</td><td>5</td></tr><tr><td>gabriella1</td><td>GLS</td><td>5</td></tr><tr><td>gabriella10</td><td>GLS</td><td>4</td></tr><tr><td>georgij</td><td>GLS</td><td>9</td></tr><tr><td>gusztav</td><td>GLS</td><td>5</td></tr><tr><td>GYONGYIK</td><td>GLS</td><td>6</td></tr><tr><td>GYORGYO</td><td>GLS</td><td>7</td></tr><tr><td>henrik3</td><td>GLS</td><td>7</td></tr><tr><td>IBOLYAA</td><td>GLS</td><td>140</td></tr><tr><td>ilona3</td><td>GLS</td><td>9</td></tr><tr><td>imre</td><td>GLS</td><td>5</td></tr><tr><td>imre1</td><td>GLS</td><td>8</td></tr><tr><td>istvan</td><td>GLS</td><td>3</td></tr><tr><td>istvan1</td><td>GLS</td><td>8</td></tr><tr><td>ISTVANV</td><td>GLS</td><td>4</td></tr><tr><td>janos3</td><td>GLS</td><td>5</td></tr><tr><td>JANOSG</td><td>GLS</td><td>3</td></tr><tr><td>JANOSP</td><td>GLS</td><td>7</td></tr><tr><td>jozsef</td><td>GLS</td><td>116</td></tr><tr><td>jozsef2</td><td>GLS</td><td>7</td></tr><tr><td>JOZSEFG</td><td>GLS</td><td>11</td></tr><tr><td>JUDITH</td><td>GLS</td><td>170</td></tr><tr><td>julia</td><td>GLS</td><td>137</td></tr><tr><td>julia4</td><td>GLS</td><td>2</td></tr><tr><td>julianna4</td><td>GLS</td><td>8</td></tr><tr><td>kata</td><td>GLS</td><td>5</td></tr><tr><td>katalin</td><td>GLS</td><td>7</td></tr><tr><td>katalin4</td><td>GLS</td><td>7</td></tr><tr><td>kati</td><td>GLS</td><td>4</td></tr><tr><td>katka</td><td>GLS</td><td>6</td></tr><tr><td>klaudia2</td><td>GLS</td><td>3</td></tr><tr><td>kornel4</td><td>GLS</td><td>3</td></tr><tr><td>kristof4</td><td>GLS</td><td>9</td></tr><tr><td>kriszti</td><td>GLS</td><td>3</td></tr><tr><td>krisztian4</td><td>GLS</td><td>5</td></tr><tr><td>KRISZTIANM</td><td>GLS</td><td>118</td></tr><tr><td>krisztina</td><td>GLS</td><td>149</td></tr><tr><td>krisztina1</td><td>GLS</td><td>10</td></tr><tr><td>KRISZTINAG</td><td>GLS</td><td>6</td></tr><tr><td>lajos</td><td>GLS</td><td>5</td></tr><tr><td>lala</td><td>GLS</td><td>5</td></tr><tr><td>laszlo1</td><td>GLS</td><td>130</td></tr><tr><td>laszlo2</td><td>GLS</td><td>12</td></tr><tr><td>LASZLOA</td><td>GLS</td><td>156</td></tr><tr><td>LASZLON</td><td>GLS</td><td>126</td></tr><tr><td>maria1</td><td>GLS</td><td>4</td></tr><tr><td>MARKH</td><td>GLS</td><td>128</td></tr><tr><td>marton</td><td>GLS</td><td>5</td></tr><tr><td>MATEK</td><td>GLS</td><td>6</td></tr><tr><td>matyas2</td><td>GLS</td><td>138</td></tr><tr><td>MATYASS</td><td>GLS</td><td>4</td></tr><tr><td>MIHALYJ</td><td>GLS</td><td>3</td></tr><tr><td>miklos2</td><td>GLS</td><td>7</td></tr><tr><td>MIKLOSB</td><td>GLS</td><td>6</td></tr><tr><td>MONIKAM</td><td>GLS</td><td>133</td></tr><tr><td>NANDORF</td><td>GLS</td><td>147</td></tr><tr><td>nikolett3</td><td>GLS</td><td>4</td></tr><tr><td>nikoletta4</td><td>GLS</td><td>137</td></tr><tr><td>NIKOLETTAT</td><td>GLS</td><td>13</td></tr><tr><td>norbert2</td><td>GLS</td><td>7</td></tr><tr><td>norbert4</td><td>GLS</td><td>1</td></tr><tr><td>norbert5</td><td>GLS</td><td>1</td></tr><tr><td>pal</td><td>GLS</td><td>152</td></tr><tr><td>peter1</td><td>GLS</td><td>151</td></tr><tr><td>peter2</td><td>GLS</td><td>7</td></tr><tr><td>peter3</td><td>GLS</td><td>8</td></tr><tr><td>peter4</td><td>GLS</td><td>266</td></tr><tr><td>PETERB</td><td>GLS</td><td>2</td></tr><tr><td>polla</td><td>GLS</td><td>9</td></tr><tr><td>rajmond4</td><td>GLS</td><td>6</td></tr><tr><td>reka4</td><td>GLS</td><td>5</td></tr><tr><td>RENATAK</td><td>GLS</td><td>135</td></tr><tr><td>RENATAS</td><td>GLS</td><td>6</td></tr><tr><td>robert2</td><td>GLS</td><td>5</td></tr><tr><td>ROBERTI</td><td>GLS</td><td>5</td></tr><tr><td>ROBERTP</td><td>GLS</td><td>8</td></tr><tr><td>roland</td><td>GLS</td><td>132</td></tr><tr><td>roland1</td><td>GLS</td><td>142</td></tr><tr><td>roza2</td><td>GLS</td><td>3</td></tr><tr><td>sandor</td><td>GLS</td><td>4</td></tr><tr><td>sandor3</td><td>GLS</td><td>4</td></tr><tr><td>sandor4</td><td>GLS</td><td>4</td></tr><tr><td>sara</td><td>GLS</td><td>4</td></tr><tr><td>SEBASTIANF</td><td>GLS</td><td>6</td></tr><tr><td>sebestyen</td><td>GLS</td><td>4</td></tr><tr><td>szabolcs</td><td>GLS</td><td>145</td></tr><tr><td>SZABOLCSM</td><td>GLS</td><td>126</td></tr><tr><td>SZILARDS</td><td>GLS</td><td>144</td></tr><tr><td>szilvia1</td><td>GLS</td><td>156</td></tr><tr><td>tamara2</td><td>GLS</td><td>6</td></tr><tr><td>tamas</td><td>GLS</td><td>143</td></tr><tr><td>TAMASF</td><td>GLS</td><td>159</td></tr><tr><td>tibor</td><td>GLS</td><td>115</td></tr><tr><td>tibor2</td><td>GLS</td><td>7</td></tr><tr><td>tihamer</td><td>GLS</td><td>9</td></tr><tr><td>timea</td><td>GLS</td><td>14</td></tr><tr><td>timea2</td><td>GLS</td><td>1</td></tr><tr><td>tunde</td><td>GLS</td><td>6</td></tr><tr><td>valentin</td><td>GLS</td><td>5</td></tr><tr><td>veronika4</td><td>GLS</td><td>5</td></tr><tr><td>VIKTORIAU</td><td>GLS</td><td>5</td></tr><tr><td>VIKTORK</td><td>GLS</td><td>8</td></tr><tr><td>vivien3</td><td>GLS</td><td>9</td></tr><tr><td>zoltan</td><td>GLS</td><td>5</td></tr><tr><td>zoltan4</td><td>GLS</td><td>129</td></tr><tr><td>ZOLTANP</td><td>GLS</td><td>6</td></tr><tr><td>ZOLTANT</td><td>GLS</td><td>127</td></tr><tr><td>zsofi1</td><td>GLS</td><td>7</td></tr><tr><td>zsolt1</td><td>GLS</td><td>11</td></tr><tr><td>ZSOLTJ</td><td>GLS</td><td>1</td></tr><tr><td>zsuzsa</td><td>GLS</td><td>8</td></tr><tr><td>zsuzsa3</td><td>GLS</td><td>5</td></tr><tr><td>zsuzsanna</td><td>GLS</td><td>7</td></tr><tr><td>ZSUZSAV</td><td>GLS</td><td>139</td></tr><tr><td>NULL</td><td>GLS</td><td>9426</td></tr><tr><td>adam1</td><td>Posta</td><td>132</td></tr><tr><td>adam3</td><td>Posta</td><td>3</td></tr><tr><td>adam4</td><td>Posta</td><td>6</td></tr><tr><td>agnes</td><td>Posta</td><td>130</td></tr><tr><td>agnes3</td><td>Posta</td><td>146</td></tr><tr><td>AGNESH</td><td>Posta</td><td>3</td></tr><tr><td>AGNESK</td><td>Posta</td><td>7</td></tr><tr><td>akos</td><td>Posta</td><td>143</td></tr><tr><td>aladar</td><td>Posta</td><td>134</td></tr><tr><td>alexandra</td><td>Posta</td><td>9</td></tr><tr><td>andi</td><td>Posta</td><td>4</td></tr><tr><td>andras2</td><td>Posta</td><td>7</td></tr><tr><td>andras21</td><td>Posta</td><td>124</td></tr><tr><td>andras3</td><td>Posta</td><td>1</td></tr><tr><td>andras4</td><td>Posta</td><td>4</td></tr><tr><td>andras41</td><td>Posta</td><td>137</td></tr><tr><td>ANDRASE</td><td>Posta</td><td>141</td></tr><tr><td>ANDRASN</td><td>Posta</td><td>9</td></tr><tr><td>andrea</td><td>Posta</td><td>4</td></tr><tr><td>andrea3</td><td>Posta</td><td>136</td></tr><tr><td>andrea4</td><td>Posta</td><td>4</td></tr><tr><td>ANDREAT</td><td>Posta</td><td>6</td></tr><tr><td>anett3</td><td>Posta</td><td>6</td></tr><tr><td>aniko</td><td>Posta</td><td>137</td></tr><tr><td>aniko4</td><td>Posta</td><td>6</td></tr><tr><td>ANIKOS</td><td>Posta</td><td>126</td></tr><tr><td>anita</td><td>Posta</td><td>2</td></tr><tr><td>annamaria1</td><td>Posta</td><td>4</td></tr><tr><td>ANNAMARIAR</td><td>Posta</td><td>2</td></tr><tr><td>aron2</td><td>Posta</td><td>133</td></tr><tr><td>ARONK</td><td>Posta</td><td>120</td></tr><tr><td>arpad2</td><td>Posta</td><td>1</td></tr><tr><td>ARPADH</td><td>Posta</td><td>3</td></tr><tr><td>ARPADM</td><td>Posta</td><td>3</td></tr><tr><td>attila1</td><td>Posta</td><td>7</td></tr><tr><td>attila4</td><td>Posta</td><td>125</td></tr><tr><td>ATTILAO</td><td>Posta</td><td>4</td></tr><tr><td>balazs1</td><td>Posta</td><td>136</td></tr><tr><td>balazs2</td><td>Posta</td><td>7</td></tr><tr><td>balazs3</td><td>Posta</td><td>6</td></tr><tr><td>balint</td><td>Posta</td><td>4</td></tr><tr><td>balint1</td><td>Posta</td><td>152</td></tr><tr><td>balint2</td><td>Posta</td><td>6</td></tr><tr><td>balu</td><td>Posta</td><td>137</td></tr><tr><td>BEATRIXK</td><td>Posta</td><td>155</td></tr><tr><td>BEATRIXS</td><td>Posta</td><td>141</td></tr><tr><td>BELAF</td><td>Posta</td><td>2</td></tr><tr><td>bence</td><td>Posta</td><td>6</td></tr><tr><td>BENCEB</td><td>Posta</td><td>7</td></tr><tr><td>bernadett1</td><td>Posta</td><td>5</td></tr><tr><td>bernadett2</td><td>Posta</td><td>2</td></tr><tr><td>BERNADETTO</td><td>Posta</td><td>2</td></tr><tr><td>bertalan</td><td>Posta</td><td>124</td></tr><tr><td>brigitta</td><td>Posta</td><td>137</td></tr><tr><td>brigitta3</td><td>Posta</td><td>130</td></tr><tr><td>csongor3</td><td>Posta</td><td>2</td></tr><tr><td>daniel</td><td>Posta</td><td>2</td></tr><tr><td>daniel1</td><td>Posta</td><td>131</td></tr><tr><td>david</td><td>Posta</td><td>144</td></tr><tr><td>david1</td><td>Posta</td><td>1</td></tr><tr><td>david4</td><td>Posta</td><td>8</td></tr><tr><td>debora</td><td>Posta</td><td>6</td></tr><tr><td>denes</td><td>Posta</td><td>2</td></tr><tr><td>dora3</td><td>Posta</td><td>124</td></tr><tr><td>edit</td><td>Posta</td><td>2</td></tr><tr><td>emese</td><td>Posta</td><td>136</td></tr><tr><td>eszter2</td><td>Posta</td><td>136</td></tr><tr><td>eszter4</td><td>Posta</td><td>134</td></tr><tr><td>ESZTERE</td><td>Posta</td><td>9</td></tr><tr><td>eva</td><td>Posta</td><td>140</td></tr><tr><td>eva2</td><td>Posta</td><td>138</td></tr><tr><td>EVAV</td><td>Posta</td><td>1</td></tr><tr><td>ferenc1</td><td>Posta</td><td>158</td></tr><tr><td>fruzsina4</td><td>Posta</td><td>3</td></tr><tr><td>gabor1</td><td>Posta</td><td>5</td></tr><tr><td>gabor4</td><td>Posta</td><td>9</td></tr><tr><td>GABORS</td><td>Posta</td><td>6</td></tr><tr><td>gabriella1</td><td>Posta</td><td>4</td></tr><tr><td>gabriella10</td><td>Posta</td><td>5</td></tr><tr><td>georgij</td><td>Posta</td><td>2</td></tr><tr><td>gusztav</td><td>Posta</td><td>4</td></tr><tr><td>GYONGYIK</td><td>Posta</td><td>6</td></tr><tr><td>GYORGYO</td><td>Posta</td><td>4</td></tr><tr><td>henrik3</td><td>Posta</td><td>4</td></tr><tr><td>IBOLYAA</td><td>Posta</td><td>125</td></tr><tr><td>ilona3</td><td>Posta</td><td>2</td></tr><tr><td>imre</td><td>Posta</td><td>4</td></tr><tr><td>imre1</td><td>Posta</td><td>4</td></tr><tr><td>istvan</td><td>Posta</td><td>4</td></tr><tr><td>istvan1</td><td>Posta</td><td>4</td></tr><tr><td>ISTVANV</td><td>Posta</td><td>9</td></tr><tr><td>janos3</td><td>Posta</td><td>2</td></tr><tr><td>JANOSG</td><td>Posta</td><td>3</td></tr><tr><td>JANOSP</td><td>Posta</td><td>7</td></tr><tr><td>jozsef</td><td>Posta</td><td>132</td></tr><tr><td>jozsef2</td><td>Posta</td><td>2</td></tr><tr><td>JOZSEFG</td><td>Posta</td><td>1</td></tr><tr><td>JUDITH</td><td>Posta</td><td>130</td></tr><tr><td>julia</td><td>Posta</td><td>160</td></tr><tr><td>julia4</td><td>Posta</td><td>4</td></tr><tr><td>julianna4</td><td>Posta</td><td>12</td></tr><tr><td>kata</td><td>Posta</td><td>4</td></tr><tr><td>katalin</td><td>Posta</td><td>7</td></tr><tr><td>katalin4</td><td>Posta</td><td>5</td></tr><tr><td>kati</td><td>Posta</td><td>5</td></tr><tr><td>katka</td><td>Posta</td><td>6</td></tr><tr><td>klaudia2</td><td>Posta</td><td>9</td></tr><tr><td>kornel4</td><td>Posta</td><td>1</td></tr><tr><td>kristof4</td><td>Posta</td><td>4</td></tr><tr><td>kriszti</td><td>Posta</td><td>5</td></tr><tr><td>krisztian4</td><td>Posta</td><td>6</td></tr><tr><td>KRISZTIANM</td><td>Posta</td><td>136</td></tr><tr><td>krisztina</td><td>Posta</td><td>150</td></tr><tr><td>krisztina1</td><td>Posta</td><td>4</td></tr><tr><td>KRISZTINAG</td><td>Posta</td><td>6</td></tr><tr><td>lajos</td><td>Posta</td><td>2</td></tr><tr><td>lala</td><td>Posta</td><td>3</td></tr><tr><td>laszlo1</td><td>Posta</td><td>129</td></tr><tr><td>laszlo2</td><td>Posta</td><td>6</td></tr><tr><td>LASZLOA</td><td>Posta</td><td>136</td></tr><tr><td>LASZLON</td><td>Posta</td><td>131</td></tr><tr><td>maria1</td><td>Posta</td><td>5</td></tr><tr><td>MARKH</td><td>Posta</td><td>142</td></tr><tr><td>marton</td><td>Posta</td><td>4</td></tr><tr><td>MATEK</td><td>Posta</td><td>10</td></tr><tr><td>matyas2</td><td>Posta</td><td>131</td></tr><tr><td>MATYASS</td><td>Posta</td><td>5</td></tr><tr><td>MIHALYJ</td><td>Posta</td><td>4</td></tr><tr><td>miklos2</td><td>Posta</td><td>4</td></tr><tr><td>MIKLOSB</td><td>Posta</td><td>1</td></tr><tr><td>MONIKAM</td><td>Posta</td><td>151</td></tr><tr><td>NANDORF</td><td>Posta</td><td>139</td></tr><tr><td>nikolett3</td><td>Posta</td><td>3</td></tr><tr><td>nikoletta4</td><td>Posta</td><td>158</td></tr><tr><td>NIKOLETTAT</td><td>Posta</td><td>7</td></tr><tr><td>norbert2</td><td>Posta</td><td>4</td></tr><tr><td>norbert4</td><td>Posta</td><td>3</td></tr><tr><td>norbert5</td><td>Posta</td><td>6</td></tr><tr><td>pal</td><td>Posta</td><td>132</td></tr><tr><td>peter1</td><td>Posta</td><td>135</td></tr><tr><td>peter2</td><td>Posta</td><td>4</td></tr><tr><td>peter3</td><td>Posta</td><td>7</td></tr><tr><td>peter4</td><td>Posta</td><td>293</td></tr><tr><td>PETERB</td><td>Posta</td><td>4</td></tr><tr><td>polla</td><td>Posta</td><td>6</td></tr><tr><td>rajmond4</td><td>Posta</td><td>5</td></tr><tr><td>reka4</td><td>Posta</td><td>4</td></tr><tr><td>RENATAK</td><td>Posta</td><td>140</td></tr><tr><td>RENATAS</td><td>Posta</td><td>5</td></tr><tr><td>robert2</td><td>Posta</td><td>1</td></tr><tr><td>ROBERTI</td><td>Posta</td><td>3</td></tr><tr><td>ROBERTP</td><td>Posta</td><td>8</td></tr><tr><td>roland</td><td>Posta</td><td>157</td></tr><tr><td>roland1</td><td>Posta</td><td>155</td></tr><tr><td>roza2</td><td>Posta</td><td>2</td></tr><tr><td>sandor</td><td>Posta</td><td>6</td></tr><tr><td>sandor3</td><td>Posta</td><td>4</td></tr><tr><td>sandor4</td><td>Posta</td><td>2</td></tr><tr><td>sara</td><td>Posta</td><td>7</td></tr><tr><td>SEBASTIANF</td><td>Posta</td><td>3</td></tr><tr><td>sebestyen</td><td>Posta</td><td>6</td></tr><tr><td>szabolcs</td><td>Posta</td><td>157</td></tr><tr><td>SZABOLCSM</td><td>Posta</td><td>153</td></tr><tr><td>SZILARDS</td><td>Posta</td><td>131</td></tr><tr><td>szilvia1</td><td>Posta</td><td>151</td></tr><tr><td>tamara2</td><td>Posta</td><td>4</td></tr><tr><td>tamas</td><td>Posta</td><td>156</td></tr><tr><td>TAMASF</td><td>Posta</td><td>145</td></tr><tr><td>tibor</td><td>Posta</td><td>129</td></tr><tr><td>tibor2</td><td>Posta</td><td>7</td></tr><tr><td>tihamer</td><td>Posta</td><td>6</td></tr><tr><td>timea</td><td>Posta</td><td>23</td></tr><tr><td>timea2</td><td>Posta</td><td>5</td></tr><tr><td>tunde</td><td>Posta</td><td>6</td></tr><tr><td>valentin</td><td>Posta</td><td>5</td></tr><tr><td>veronika4</td><td>Posta</td><td>6</td></tr><tr><td>VIKTORIAU</td><td>Posta</td><td>4</td></tr><tr><td>VIKTORK</td><td>Posta</td><td>6</td></tr><tr><td>vivien3</td><td>Posta</td><td>6</td></tr><tr><td>zoltan</td><td>Posta</td><td>3</td></tr><tr><td>zoltan4</td><td>Posta</td><td>124</td></tr><tr><td>ZOLTANP</td><td>Posta</td><td>3</td></tr><tr><td>ZOLTANT</td><td>Posta</td><td>107</td></tr><tr><td>zsofi1</td><td>Posta</td><td>6</td></tr><tr><td>zsolt1</td><td>Posta</td><td>6</td></tr><tr><td>ZSOLTJ</td><td>Posta</td><td>8</td></tr><tr><td>zsuzsa</td><td>Posta</td><td>5</td></tr><tr><td>zsuzsa3</td><td>Posta</td><td>5</td></tr><tr><td>zsuzsanna</td><td>Posta</td><td>5</td></tr><tr><td>ZSUZSAV</td><td>Posta</td><td>139</td></tr><tr><td>NULL</td><td>Posta</td><td>9191</td></tr><tr><td>adam1</td><td>Személyes átvétel</td><td>131</td></tr><tr><td>adam3</td><td>Személyes átvétel</td><td>2</td></tr><tr><td>adam4</td><td>Személyes átvétel</td><td>11</td></tr><tr><td>agnes</td><td>Személyes átvétel</td><td>144</td></tr><tr><td>agnes3</td><td>Személyes átvétel</td><td>136</td></tr><tr><td>AGNESH</td><td>Személyes átvétel</td><td>6</td></tr><tr><td>AGNESK</td><td>Személyes átvétel</td><td>7</td></tr><tr><td>akos</td><td>Személyes átvétel</td><td>140</td></tr><tr><td>aladar</td><td>Személyes átvétel</td><td>118</td></tr><tr><td>alexandra</td><td>Személyes átvétel</td><td>5</td></tr><tr><td>andi</td><td>Személyes átvétel</td><td>7</td></tr><tr><td>andras2</td><td>Személyes átvétel</td><td>11</td></tr><tr><td>andras21</td><td>Személyes átvétel</td><td>126</td></tr><tr><td>andras3</td><td>Személyes átvétel</td><td>5</td></tr><tr><td>andras4</td><td>Személyes átvétel</td><td>4</td></tr><tr><td>andras41</td><td>Személyes átvétel</td><td>133</td></tr><tr><td>ANDRASE</td><td>Személyes átvétel</td><td>136</td></tr><tr><td>ANDRASN</td><td>Személyes átvétel</td><td>5</td></tr><tr><td>andrea</td><td>Személyes átvétel</td><td>8</td></tr><tr><td>andrea3</td><td>Személyes átvétel</td><td>146</td></tr><tr><td>andrea4</td><td>Személyes átvétel</td><td>7</td></tr><tr><td>ANDREAT</td><td>Személyes átvétel</td><td>12</td></tr><tr><td>anett3</td><td>Személyes átvétel</td><td>9</td></tr><tr><td>aniko</td><td>Személyes átvétel</td><td>138</td></tr><tr><td>aniko4</td><td>Személyes átvétel</td><td>3</td></tr><tr><td>ANIKOS</td><td>Személyes átvétel</td><td>150</td></tr><tr><td>anita</td><td>Személyes átvétel</td><td>5</td></tr><tr><td>annamaria1</td><td>Személyes átvétel</td><td>7</td></tr><tr><td>ANNAMARIAR</td><td>Személyes átvétel</td><td>3</td></tr><tr><td>aron2</td><td>Személyes átvétel</td><td>144</td></tr><tr><td>ARONK</td><td>Személyes átvétel</td><td>155</td></tr><tr><td>arpad2</td><td>Személyes átvétel</td><td>10</td></tr><tr><td>ARPADH</td><td>Személyes átvétel</td><td>5</td></tr><tr><td>ARPADM</td><td>Személyes átvétel</td><td>7</td></tr><tr><td>attila1</td><td>Személyes átvétel</td><td>6</td></tr><tr><td>attila4</td><td>Személyes átvétel</td><td>141</td></tr><tr><td>ATTILAO</td><td>Személyes átvétel</td><td>6</td></tr><tr><td>balazs1</td><td>Személyes átvétel</td><td>155</td></tr><tr><td>balazs2</td><td>Személyes átvétel</td><td>5</td></tr><tr><td>balazs3</td><td>Személyes átvétel</td><td>3</td></tr><tr><td>balint</td><td>Személyes átvétel</td><td>2</td></tr><tr><td>balint1</td><td>Személyes átvétel</td><td>152</td></tr><tr><td>balint2</td><td>Személyes átvétel</td><td>3</td></tr><tr><td>balu</td><td>Személyes átvétel</td><td>123</td></tr><tr><td>BEATRIXK</td><td>Személyes átvétel</td><td>145</td></tr><tr><td>BEATRIXS</td><td>Személyes átvétel</td><td>133</td></tr><tr><td>BELAF</td><td>Személyes átvétel</td><td>5</td></tr><tr><td>bence</td><td>Személyes átvétel</td><td>8</td></tr><tr><td>BENCEB</td><td>Személyes átvétel</td><td>5</td></tr><tr><td>bernadett1</td><td>Személyes átvétel</td><td>5</td></tr><tr><td>bernadett2</td><td>Személyes átvétel</td><td>7</td></tr><tr><td>BERNADETTO</td><td>Személyes átvétel</td><td>7</td></tr><tr><td>bertalan</td><td>Személyes átvétel</td><td>101</td></tr><tr><td>brigitta</td><td>Személyes átvétel</td><td>119</td></tr><tr><td>brigitta3</td><td>Személyes átvétel</td><td>139</td></tr><tr><td>csongor3</td><td>Személyes átvétel</td><td>8</td></tr><tr><td>dani</td><td>Személyes átvétel</td><td>8</td></tr><tr><td>daniel</td><td>Személyes átvétel</td><td>4</td></tr><tr><td>daniel1</td><td>Személyes átvétel</td><td>132</td></tr><tr><td>david</td><td>Személyes átvétel</td><td>146</td></tr><tr><td>david1</td><td>Személyes átvétel</td><td>8</td></tr><tr><td>david4</td><td>Személyes átvétel</td><td>10</td></tr><tr><td>debora</td><td>Személyes átvétel</td><td>3</td></tr><tr><td>denes</td><td>Személyes átvétel</td><td>4</td></tr><tr><td>dora3</td><td>Személyes átvétel</td><td>164</td></tr><tr><td>edit</td><td>Személyes átvétel</td><td>4</td></tr><tr><td>emese</td><td>Személyes átvétel</td><td>142</td></tr><tr><td>eszter2</td><td>Személyes átvétel</td><td>152</td></tr><tr><td>eszter4</td><td>Személyes átvétel</td><td>149</td></tr><tr><td>ESZTERE</td><td>Személyes átvétel</td><td>7</td></tr><tr><td>eva</td><td>Személyes átvétel</td><td>139</td></tr><tr><td>eva2</td><td>Személyes átvétel</td><td>170</td></tr><tr><td>EVAV</td><td>Személyes átvétel</td><td>4</td></tr><tr><td>ferenc1</td><td>Személyes átvétel</td><td>135</td></tr><tr><td>fruzsina4</td><td>Személyes átvétel</td><td>7</td></tr><tr><td>gabor1</td><td>Személyes átvétel</td><td>5</td></tr><tr><td>gabor4</td><td>Személyes átvétel</td><td>4</td></tr><tr><td>GABORS</td><td>Személyes átvétel</td><td>4</td></tr><tr><td>gabriella1</td><td>Személyes átvétel</td><td>5</td></tr><tr><td>gabriella10</td><td>Személyes átvétel</td><td>7</td></tr><tr><td>georgij</td><td>Személyes átvétel</td><td>10</td></tr><tr><td>gusztav</td><td>Személyes átvétel</td><td>5</td></tr><tr><td>GYONGYIK</td><td>Személyes átvétel</td><td>3</td></tr><tr><td>GYORGYO</td><td>Személyes átvétel</td><td>5</td></tr><tr><td>henrik3</td><td>Személyes átvétel</td><td>5</td></tr><tr><td>IBOLYAA</td><td>Személyes átvétel</td><td>157</td></tr><tr><td>ilona3</td><td>Személyes átvétel</td><td>7</td></tr><tr><td>imre</td><td>Személyes átvétel</td><td>6</td></tr><tr><td>imre1</td><td>Személyes átvétel</td><td>3</td></tr><tr><td>istvan</td><td>Személyes átvétel</td><td>4</td></tr><tr><td>istvan1</td><td>Személyes átvétel</td><td>7</td></tr><tr><td>ISTVANV</td><td>Személyes átvétel</td><td>8</td></tr><tr><td>janos3</td><td>Személyes átvétel</td><td>6</td></tr><tr><td>JANOSG</td><td>Személyes átvétel</td><td>4</td></tr><tr><td>JANOSP</td><td>Személyes átvétel</td><td>3</td></tr><tr><td>jozsef</td><td>Személyes átvétel</td><td>134</td></tr><tr><td>jozsef2</td><td>Személyes átvétel</td><td>4</td></tr><tr><td>JOZSEFG</td><td>Személyes átvétel</td><td>9</td></tr><tr><td>JUDITH</td><td>Személyes átvétel</td><td>150</td></tr><tr><td>julia</td><td>Személyes átvétel</td><td>138</td></tr><tr><td>julia4</td><td>Személyes átvétel</td><td>8</td></tr><tr><td>julianna4</td><td>Személyes átvétel</td><td>7</td></tr><tr><td>kata</td><td>Személyes átvétel</td><td>3</td></tr><tr><td>katalin</td><td>Személyes átvétel</td><td>5</td></tr><tr><td>katalin4</td><td>Személyes átvétel</td><td>11</td></tr><tr><td>kati</td><td>Személyes átvétel</td><td>4</td></tr><tr><td>katka</td><td>Személyes átvétel</td><td>10</td></tr><tr><td>klaudia2</td><td>Személyes átvétel</td><td>5</td></tr><tr><td>kornel4</td><td>Személyes átvétel</td><td>7</td></tr><tr><td>kristof4</td><td>Személyes átvétel</td><td>8</td></tr><tr><td>kriszti</td><td>Személyes átvétel</td><td>5</td></tr><tr><td>krisztian4</td><td>Személyes átvétel</td><td>6</td></tr><tr><td>KRISZTIANM</td><td>Személyes átvétel</td><td>130</td></tr><tr><td>krisztina</td><td>Személyes átvétel</td><td>157</td></tr><tr><td>krisztina1</td><td>Személyes átvétel</td><td>8</td></tr><tr><td>KRISZTINAG</td><td>Személyes átvétel</td><td>10</td></tr><tr><td>lajos</td><td>Személyes átvétel</td><td>9</td></tr><tr><td>lala</td><td>Személyes átvétel</td><td>9</td></tr><tr><td>laszlo1</td><td>Személyes átvétel</td><td>135</td></tr><tr><td>laszlo2</td><td>Személyes átvétel</td><td>7</td></tr><tr><td>LASZLOA</td><td>Személyes átvétel</td><td>154</td></tr><tr><td>LASZLON</td><td>Személyes átvétel</td><td>143</td></tr><tr><td>maria1</td><td>Személyes átvétel</td><td>1</td></tr><tr><td>MARKH</td><td>Személyes átvétel</td><td>142</td></tr><tr><td>marton</td><td>Személyes átvétel</td><td>5</td></tr><tr><td>MATEK</td><td>Személyes átvétel</td><td>9</td></tr><tr><td>matyas2</td><td>Személyes átvétel</td><td>164</td></tr><tr><td>MATYASS</td><td>Személyes átvétel</td><td>3</td></tr><tr><td>MIHALYJ</td><td>Személyes átvétel</td><td>6</td></tr><tr><td>miklos2</td><td>Személyes átvétel</td><td>2</td></tr><tr><td>MIKLOSB</td><td>Személyes átvétel</td><td>8</td></tr><tr><td>MONIKAM</td><td>Személyes átvétel</td><td>123</td></tr><tr><td>NANDORF</td><td>Személyes átvétel</td><td>134</td></tr><tr><td>nikolett3</td><td>Személyes átvétel</td><td>10</td></tr><tr><td>nikoletta4</td><td>Személyes átvétel</td><td>119</td></tr><tr><td>NIKOLETTAT</td><td>Személyes átvétel</td><td>5</td></tr><tr><td>norbert4</td><td>Személyes átvétel</td><td>9</td></tr><tr><td>norbert5</td><td>Személyes átvétel</td><td>9</td></tr><tr><td>pal</td><td>Személyes átvétel</td><td>154</td></tr><tr><td>peter1</td><td>Személyes átvétel</td><td>126</td></tr><tr><td>peter2</td><td>Személyes átvétel</td><td>7</td></tr><tr><td>peter3</td><td>Személyes átvétel</td><td>10</td></tr><tr><td>peter4</td><td>Személyes átvétel</td><td>293</td></tr><tr><td>PETERB</td><td>Személyes átvétel</td><td>9</td></tr><tr><td>polla</td><td>Személyes átvétel</td><td>7</td></tr><tr><td>rajmond4</td><td>Személyes átvétel</td><td>6</td></tr><tr><td>reka4</td><td>Személyes átvétel</td><td>11</td></tr><tr><td>RENATAK</td><td>Személyes átvétel</td><td>147</td></tr><tr><td>RENATAS</td><td>Személyes átvétel</td><td>5</td></tr><tr><td>robert2</td><td>Személyes átvétel</td><td>7</td></tr><tr><td>ROBERTI</td><td>Személyes átvétel</td><td>5</td></tr><tr><td>ROBERTP</td><td>Személyes átvétel</td><td>10</td></tr><tr><td>roland</td><td>Személyes átvétel</td><td>125</td></tr><tr><td>roland1</td><td>Személyes átvétel</td><td>135</td></tr><tr><td>roza2</td><td>Személyes átvétel</td><td>3</td></tr><tr><td>sandor</td><td>Személyes átvétel</td><td>7</td></tr><tr><td>sandor3</td><td>Személyes átvétel</td><td>6</td></tr><tr><td>sandor4</td><td>Személyes átvétel</td><td>5</td></tr><tr><td>sara</td><td>Személyes átvétel</td><td>9</td></tr><tr><td>SEBASTIANF</td><td>Személyes átvétel</td><td>6</td></tr><tr><td>sebestyen</td><td>Személyes átvétel</td><td>6</td></tr><tr><td>szabolcs</td><td>Személyes átvétel</td><td>169</td></tr><tr><td>SZABOLCSM</td><td>Személyes átvétel</td><td>129</td></tr><tr><td>SZILARDS</td><td>Személyes átvétel</td><td>111</td></tr><tr><td>szilvia1</td><td>Személyes átvétel</td><td>138</td></tr><tr><td>tamara2</td><td>Személyes átvétel</td><td>3</td></tr><tr><td>tamas</td><td>Személyes átvétel</td><td>122</td></tr><tr><td>TAMASF</td><td>Személyes átvétel</td><td>129</td></tr><tr><td>tibor</td><td>Személyes átvétel</td><td>130</td></tr><tr><td>tibor2</td><td>Személyes átvétel</td><td>11</td></tr><tr><td>tihamer</td><td>Személyes átvétel</td><td>5</td></tr><tr><td>timea</td><td>Személyes átvétel</td><td>18</td></tr><tr><td>timea2</td><td>Személyes átvétel</td><td>10</td></tr><tr><td>tunde</td><td>Személyes átvétel</td><td>4</td></tr><tr><td>valentin</td><td>Személyes átvétel</td><td>3</td></tr><tr><td>veronika4</td><td>Személyes átvétel</td><td>7</td></tr><tr><td>VIKTORIAU</td><td>Személyes átvétel</td><td>5</td></tr><tr><td>VIKTORK</td><td>Személyes átvétel</td><td>6</td></tr><tr><td>vivien3</td><td>Személyes átvétel</td><td>7</td></tr><tr><td>zoltan</td><td>Személyes átvétel</td><td>7</td></tr><tr><td>zoltan4</td><td>Személyes átvétel</td><td>171</td></tr><tr><td>ZOLTANP</td><td>Személyes átvétel</td><td>4</td></tr><tr><td>ZOLTANT</td><td>Személyes átvétel</td><td>123</td></tr><tr><td>zsofi1</td><td>Személyes átvétel</td><td>6</td></tr><tr><td>zsolt1</td><td>Személyes átvétel</td><td>3</td></tr><tr><td>ZSOLTJ</td><td>Személyes átvétel</td><td>9</td></tr><tr><td>zsuzsa</td><td>Személyes átvétel</td><td>3</td></tr><tr><td>zsuzsa3</td><td>Személyes átvétel</td><td>6</td></tr><tr><td>zsuzsanna</td><td>Személyes átvétel</td><td>3</td></tr><tr><td>ZSUZSAV</td><td>Személyes átvétel</td><td>142</td></tr><tr><td>NULL</td><td>Személyes átvétel</td><td>9468</td></tr><tr><td>NULL</td><td>NULL</td><td>28085</td></tr><tr><td>adam1</td><td>NULL</td><td>392</td></tr><tr><td>adam3</td><td>NULL</td><td>15</td></tr><tr><td>adam4</td><td>NULL</td><td>29</td></tr><tr><td>agnes</td><td>NULL</td><td>418</td></tr><tr><td>agnes3</td><td>NULL</td><td>430</td></tr><tr><td>AGNESH</td><td>NULL</td><td>11</td></tr><tr><td>AGNESK</td><td>NULL</td><td>15</td></tr><tr><td>akos</td><td>NULL</td><td>429</td></tr><tr><td>aladar</td><td>NULL</td><td>408</td></tr><tr><td>alexandra</td><td>NULL</td><td>19</td></tr><tr><td>andi</td><td>NULL</td><td>18</td></tr><tr><td>andras2</td><td>NULL</td><td>22</td></tr><tr><td>andras21</td><td>NULL</td><td>390</td></tr><tr><td>andras3</td><td>NULL</td><td>9</td></tr><tr><td>andras4</td><td>NULL</td><td>12</td></tr><tr><td>andras41</td><td>NULL</td><td>419</td></tr><tr><td>ANDRASE</td><td>NULL</td><td>436</td></tr><tr><td>ANDRASN</td><td>NULL</td><td>24</td></tr><tr><td>andrea</td><td>NULL</td><td>24</td></tr><tr><td>andrea3</td><td>NULL</td><td>413</td></tr><tr><td>andrea4</td><td>NULL</td><td>18</td></tr><tr><td>ANDREAT</td><td>NULL</td><td>21</td></tr><tr><td>anett3</td><td>NULL</td><td>18</td></tr><tr><td>aniko</td><td>NULL</td><td>403</td></tr><tr><td>aniko4</td><td>NULL</td><td>15</td></tr><tr><td>ANIKOS</td><td>NULL</td><td>404</td></tr><tr><td>anita</td><td>NULL</td><td>12</td></tr><tr><td>annamaria1</td><td>NULL</td><td>16</td></tr><tr><td>ANNAMARIAR</td><td>NULL</td><td>13</td></tr><tr><td>aron2</td><td>NULL</td><td>409</td></tr><tr><td>ARONK</td><td>NULL</td><td>430</td></tr><tr><td>arpad2</td><td>NULL</td><td>17</td></tr><tr><td>ARPADH</td><td>NULL</td><td>14</td></tr><tr><td>ARPADM</td><td>NULL</td><td>16</td></tr><tr><td>attila1</td><td>NULL</td><td>18</td></tr><tr><td>attila4</td><td>NULL</td><td>401</td></tr><tr><td>ATTILAO</td><td>NULL</td><td>14</td></tr><tr><td>balazs1</td><td>NULL</td><td>419</td></tr><tr><td>balazs2</td><td>NULL</td><td>17</td></tr><tr><td>balazs3</td><td>NULL</td><td>15</td></tr><tr><td>balint</td><td>NULL</td><td>16</td></tr><tr><td>balint1</td><td>NULL</td><td>462</td></tr><tr><td>balint2</td><td>NULL</td><td>17</td></tr><tr><td>balu</td><td>NULL</td><td>387</td></tr><tr><td>BEATRIXK</td><td>NULL</td><td>435</td></tr><tr><td>BEATRIXS</td><td>NULL</td><td>420</td></tr><tr><td>BELAF</td><td>NULL</td><td>18</td></tr><tr><td>bence</td><td>NULL</td><td>18</td></tr><tr><td>BENCEB</td><td>NULL</td><td>17</td></tr><tr><td>bernadett1</td><td>NULL</td><td>20</td></tr><tr><td>bernadett2</td><td>NULL</td><td>15</td></tr><tr><td>BERNADETTO</td><td>NULL</td><td>16</td></tr><tr><td>bertalan</td><td>NULL</td><td>353</td></tr><tr><td>brigitta</td><td>NULL</td><td>393</td></tr><tr><td>brigitta3</td><td>NULL</td><td>413</td></tr><tr><td>csongor3</td><td>NULL</td><td>15</td></tr><tr><td>dani</td><td>NULL</td><td>13</td></tr><tr><td>daniel</td><td>NULL</td><td>13</td></tr><tr><td>daniel1</td><td>NULL</td><td>419</td></tr><tr><td>david</td><td>NULL</td><td>451</td></tr><tr><td>david1</td><td>NULL</td><td>17</td></tr><tr><td>david4</td><td>NULL</td><td>21</td></tr><tr><td>debora</td><td>NULL</td><td>16</td></tr><tr><td>denes</td><td>NULL</td><td>9</td></tr><tr><td>dora3</td><td>NULL</td><td>432</td></tr><tr><td>edit</td><td>NULL</td><td>13</td></tr><tr><td>emese</td><td>NULL</td><td>406</td></tr><tr><td>eszter2</td><td>NULL</td><td>415</td></tr><tr><td>eszter4</td><td>NULL</td><td>424</td></tr><tr><td>ESZTERE</td><td>NULL</td><td>22</td></tr><tr><td>eva</td><td>NULL</td><td>404</td></tr><tr><td>eva2</td><td>NULL</td><td>462</td></tr><tr><td>EVAV</td><td>NULL</td><td>7</td></tr><tr><td>ferenc1</td><td>NULL</td><td>437</td></tr><tr><td>fruzsina4</td><td>NULL</td><td>18</td></tr><tr><td>gabor1</td><td>NULL</td><td>19</td></tr><tr><td>gabor4</td><td>NULL</td><td>20</td></tr><tr><td>GABORS</td><td>NULL</td><td>15</td></tr><tr><td>gabriella1</td><td>NULL</td><td>14</td></tr><tr><td>gabriella10</td><td>NULL</td><td>16</td></tr><tr><td>georgij</td><td>NULL</td><td>21</td></tr><tr><td>gusztav</td><td>NULL</td><td>14</td></tr><tr><td>GYONGYIK</td><td>NULL</td><td>15</td></tr><tr><td>GYORGYO</td><td>NULL</td><td>16</td></tr><tr><td>henrik3</td><td>NULL</td><td>16</td></tr><tr><td>IBOLYAA</td><td>NULL</td><td>422</td></tr><tr><td>ilona3</td><td>NULL</td><td>18</td></tr><tr><td>imre</td><td>NULL</td><td>15</td></tr><tr><td>imre1</td><td>NULL</td><td>15</td></tr><tr><td>istvan</td><td>NULL</td><td>11</td></tr><tr><td>istvan1</td><td>NULL</td><td>19</td></tr><tr><td>ISTVANV</td><td>NULL</td><td>21</td></tr><tr><td>janos3</td><td>NULL</td><td>13</td></tr><tr><td>JANOSG</td><td>NULL</td><td>10</td></tr><tr><td>JANOSP</td><td>NULL</td><td>17</td></tr><tr><td>jozsef</td><td>NULL</td><td>382</td></tr><tr><td>jozsef2</td><td>NULL</td><td>13</td></tr><tr><td>JOZSEFG</td><td>NULL</td><td>21</td></tr><tr><td>JUDITH</td><td>NULL</td><td>450</td></tr><tr><td>julia</td><td>NULL</td><td>435</td></tr><tr><td>julia4</td><td>NULL</td><td>14</td></tr><tr><td>julianna4</td><td>NULL</td><td>27</td></tr><tr><td>kata</td><td>NULL</td><td>12</td></tr><tr><td>katalin</td><td>NULL</td><td>19</td></tr><tr><td>katalin4</td><td>NULL</td><td>23</td></tr><tr><td>kati</td><td>NULL</td><td>13</td></tr><tr><td>katka</td><td>NULL</td><td>22</td></tr><tr><td>klaudia2</td><td>NULL</td><td>17</td></tr><tr><td>kornel4</td><td>NULL</td><td>11</td></tr><tr><td>kristof4</td><td>NULL</td><td>21</td></tr><tr><td>kriszti</td><td>NULL</td><td>13</td></tr><tr><td>krisztian4</td><td>NULL</td><td>17</td></tr><tr><td>KRISZTIANM</td><td>NULL</td><td>384</td></tr><tr><td>krisztina</td><td>NULL</td><td>456</td></tr><tr><td>krisztina1</td><td>NULL</td><td>22</td></tr><tr><td>KRISZTINAG</td><td>NULL</td><td>22</td></tr><tr><td>lajos</td><td>NULL</td><td>16</td></tr><tr><td>lala</td><td>NULL</td><td>17</td></tr><tr><td>laszlo1</td><td>NULL</td><td>394</td></tr><tr><td>laszlo2</td><td>NULL</td><td>25</td></tr><tr><td>LASZLOA</td><td>NULL</td><td>446</td></tr><tr><td>LASZLON</td><td>NULL</td><td>400</td></tr><tr><td>maria1</td><td>NULL</td><td>10</td></tr><tr><td>MARKH</td><td>NULL</td><td>412</td></tr><tr><td>marton</td><td>NULL</td><td>14</td></tr><tr><td>MATEK</td><td>NULL</td><td>25</td></tr><tr><td>matyas2</td><td>NULL</td><td>433</td></tr><tr><td>MATYASS</td><td>NULL</td><td>12</td></tr><tr><td>MIHALYJ</td><td>NULL</td><td>13</td></tr><tr><td>miklos2</td><td>NULL</td><td>13</td></tr><tr><td>MIKLOSB</td><td>NULL</td><td>15</td></tr><tr><td>MONIKAM</td><td>NULL</td><td>407</td></tr><tr><td>NANDORF</td><td>NULL</td><td>420</td></tr><tr><td>nikolett3</td><td>NULL</td><td>17</td></tr><tr><td>nikoletta4</td><td>NULL</td><td>414</td></tr><tr><td>NIKOLETTAT</td><td>NULL</td><td>25</td></tr><tr><td>norbert2</td><td>NULL</td><td>11</td></tr><tr><td>norbert4</td><td>NULL</td><td>13</td></tr><tr><td>norbert5</td><td>NULL</td><td>16</td></tr><tr><td>pal</td><td>NULL</td><td>438</td></tr><tr><td>peter1</td><td>NULL</td><td>412</td></tr><tr><td>peter2</td><td>NULL</td><td>18</td></tr><tr><td>peter3</td><td>NULL</td><td>25</td></tr><tr><td>peter4</td><td>NULL</td><td>852</td></tr><tr><td>PETERB</td><td>NULL</td><td>15</td></tr><tr><td>polla</td><td>NULL</td><td>22</td></tr><tr><td>rajmond4</td><td>NULL</td><td>17</td></tr><tr><td>reka4</td><td>NULL</td><td>20</td></tr><tr><td>RENATAK</td><td>NULL</td><td>422</td></tr><tr><td>RENATAS</td><td>NULL</td><td>16</td></tr><tr><td>robert2</td><td>NULL</td><td>13</td></tr><tr><td>ROBERTI</td><td>NULL</td><td>13</td></tr><tr><td>ROBERTP</td><td>NULL</td><td>26</td></tr><tr><td>roland</td><td>NULL</td><td>414</td></tr><tr><td>roland1</td><td>NULL</td><td>432</td></tr><tr><td>roza2</td><td>NULL</td><td>8</td></tr><tr><td>sandor</td><td>NULL</td><td>17</td></tr><tr><td>sandor3</td><td>NULL</td><td>14</td></tr><tr><td>sandor4</td><td>NULL</td><td>11</td></tr><tr><td>sara</td><td>NULL</td><td>20</td></tr><tr><td>SEBASTIANF</td><td>NULL</td><td>15</td></tr><tr><td>sebestyen</td><td>NULL</td><td>16</td></tr><tr><td>szabolcs</td><td>NULL</td><td>471</td></tr><tr><td>SZABOLCSM</td><td>NULL</td><td>408</td></tr><tr><td>SZILARDS</td><td>NULL</td><td>386</td></tr><tr><td>szilvia1</td><td>NULL</td><td>445</td></tr><tr><td>tamara2</td><td>NULL</td><td>13</td></tr><tr><td>tamas</td><td>NULL</td><td>421</td></tr><tr><td>TAMASF</td><td>NULL</td><td>433</td></tr><tr><td>tibor</td><td>NULL</td><td>374</td></tr><tr><td>tibor2</td><td>NULL</td><td>25</td></tr><tr><td>tihamer</td><td>NULL</td><td>20</td></tr><tr><td>timea</td><td>NULL</td><td>55</td></tr><tr><td>timea2</td><td>NULL</td><td>16</td></tr><tr><td>tunde</td><td>NULL</td><td>16</td></tr><tr><td>valentin</td><td>NULL</td><td>13</td></tr><tr><td>veronika4</td><td>NULL</td><td>18</td></tr><tr><td>VIKTORIAU</td><td>NULL</td><td>14</td></tr><tr><td>VIKTORK</td><td>NULL</td><td>20</td></tr><tr><td>vivien3</td><td>NULL</td><td>22</td></tr><tr><td>zoltan</td><td>NULL</td><td>15</td></tr><tr><td>zoltan4</td><td>NULL</td><td>424</td></tr><tr><td>ZOLTANP</td><td>NULL</td><td>13</td></tr><tr><td>ZOLTANT</td><td>NULL</td><td>357</td></tr><tr><td>zsofi1</td><td>NULL</td><td>19</td></tr><tr><td>zsolt1</td><td>NULL</td><td>20</td></tr><tr><td>ZSOLTJ</td><td>NULL</td><td>18</td></tr><tr><td>zsuzsa</td><td>NULL</td><td>16</td></tr><tr><td>zsuzsa3</td><td>NULL</td><td>16</td></tr><tr><td>zsuzsanna</td><td>NULL</td><td>15</td></tr><tr><td>ZSUZSAV</td><td>NULL</td><td>420</td></tr></table>"
                    },
                    "metadata": {}
                }
            ],
            "execution_count": 5
        },
        {
            "cell_type": "markdown",
            "source": [
                "2. <span style=\"background-color: rgb(255, 255, 255); color: rgb(0, 0, 0); font-family: &quot;Open Sans&quot;, sans-serif; font-size: 14.44px;\">Készítsünk listát a termékek számáról a következő csoportosítási szempontok szerint:<br>kategória azonosító, raktárkód, raktárkód+mennyiségi egység!</span>\n",
                "\n",
                "a. A listát szűrjük azokra a csoportokra, ahol a termékek száma legalább 6!"
            ],
            "metadata": {
                "azdata_cell_guid": "ea75c103-911f-41a3-a32c-3d40fb3e4e4a"
            },
            "attachments": {}
        },
        {
            "cell_type": "code",
            "source": [
                "SELECT KAT_ID, RAKTAR_KOD, MEGYS, count(*)\r\n",
                "FROM Termek\r\n",
                "GROUP BY GROUPING SETS(RAKTAR_KOD, KAT_ID, (RAKTAR_KOD, MEGYS))\r\n",
                "HAVING COUNT(*) >= 6"
            ],
            "metadata": {
                "azdata_cell_guid": "222b9618-a8e8-42b4-a8e8-d002257122b7",
                "language": "sql"
            },
            "outputs": [
                {
                    "output_type": "display_data",
                    "data": {
                        "text/html": "(49 rows affected)"
                    },
                    "metadata": {}
                },
                {
                    "output_type": "display_data",
                    "data": {
                        "text/html": "Total execution time: 00:00:00.012"
                    },
                    "metadata": {}
                },
                {
                    "output_type": "execute_result",
                    "execution_count": 20,
                    "data": {
                        "application/vnd.dataresource+json": {
                            "schema": {
                                "fields": [
                                    {
                                        "name": "KAT_ID"
                                    },
                                    {
                                        "name": "RAKTAR_KOD"
                                    },
                                    {
                                        "name": "MEGYS"
                                    },
                                    {
                                        "name": "(No column name)"
                                    }
                                ]
                            },
                            "data": [
                                {
                                    "KAT_ID": "NULL",
                                    "RAKTAR_KOD": "1",
                                    "MEGYS": "db",
                                    "(No column name)": "11"
                                },
                                {
                                    "KAT_ID": "NULL",
                                    "RAKTAR_KOD": "1",
                                    "MEGYS": "NULL",
                                    "(No column name)": "11"
                                },
                                {
                                    "KAT_ID": "NULL",
                                    "RAKTAR_KOD": "3",
                                    "MEGYS": "db",
                                    "(No column name)": "14"
                                },
                                {
                                    "KAT_ID": "NULL",
                                    "RAKTAR_KOD": "3",
                                    "MEGYS": "NULL",
                                    "(No column name)": "14"
                                },
                                {
                                    "KAT_ID": "NULL",
                                    "RAKTAR_KOD": "5",
                                    "MEGYS": "csomag",
                                    "(No column name)": "7"
                                },
                                {
                                    "KAT_ID": "NULL",
                                    "RAKTAR_KOD": "5",
                                    "MEGYS": "db",
                                    "(No column name)": "72"
                                },
                                {
                                    "KAT_ID": "NULL",
                                    "RAKTAR_KOD": "5",
                                    "MEGYS": "NULL",
                                    "(No column name)": "86"
                                },
                                {
                                    "KAT_ID": "NULL",
                                    "RAKTAR_KOD": "6",
                                    "MEGYS": "csomag",
                                    "(No column name)": "9"
                                },
                                {
                                    "KAT_ID": "NULL",
                                    "RAKTAR_KOD": "6",
                                    "MEGYS": "db",
                                    "(No column name)": "94"
                                },
                                {
                                    "KAT_ID": "NULL",
                                    "RAKTAR_KOD": "6",
                                    "MEGYS": "NULL",
                                    "(No column name)": "106"
                                },
                                {
                                    "KAT_ID": "NULL",
                                    "RAKTAR_KOD": "7",
                                    "MEGYS": "csomag",
                                    "(No column name)": "9"
                                },
                                {
                                    "KAT_ID": "NULL",
                                    "RAKTAR_KOD": "7",
                                    "MEGYS": "db",
                                    "(No column name)": "88"
                                },
                                {
                                    "KAT_ID": "NULL",
                                    "RAKTAR_KOD": "7",
                                    "MEGYS": "NULL",
                                    "(No column name)": "100"
                                },
                                {
                                    "KAT_ID": "NULL",
                                    "RAKTAR_KOD": "8",
                                    "MEGYS": "csomag",
                                    "(No column name)": "8"
                                },
                                {
                                    "KAT_ID": "NULL",
                                    "RAKTAR_KOD": "8",
                                    "MEGYS": "db",
                                    "(No column name)": "109"
                                },
                                {
                                    "KAT_ID": "NULL",
                                    "RAKTAR_KOD": "8",
                                    "MEGYS": "ív",
                                    "(No column name)": "6"
                                },
                                {
                                    "KAT_ID": "NULL",
                                    "RAKTAR_KOD": "8",
                                    "MEGYS": "NULL",
                                    "(No column name)": "123"
                                },
                                {
                                    "KAT_ID": "NULL",
                                    "RAKTAR_KOD": "9",
                                    "MEGYS": "csomag",
                                    "(No column name)": "11"
                                },
                                {
                                    "KAT_ID": "NULL",
                                    "RAKTAR_KOD": "9",
                                    "MEGYS": "db",
                                    "(No column name)": "86"
                                },
                                {
                                    "KAT_ID": "NULL",
                                    "RAKTAR_KOD": "9",
                                    "MEGYS": "NULL",
                                    "(No column name)": "102"
                                },
                                {
                                    "KAT_ID": "4",
                                    "RAKTAR_KOD": "NULL",
                                    "MEGYS": "NULL",
                                    "(No column name)": "15"
                                },
                                {
                                    "KAT_ID": "6",
                                    "RAKTAR_KOD": "NULL",
                                    "MEGYS": "NULL",
                                    "(No column name)": "20"
                                },
                                {
                                    "KAT_ID": "16",
                                    "RAKTAR_KOD": "NULL",
                                    "MEGYS": "NULL",
                                    "(No column name)": "7"
                                },
                                {
                                    "KAT_ID": "19",
                                    "RAKTAR_KOD": "NULL",
                                    "MEGYS": "NULL",
                                    "(No column name)": "19"
                                },
                                {
                                    "KAT_ID": "24",
                                    "RAKTAR_KOD": "NULL",
                                    "MEGYS": "NULL",
                                    "(No column name)": "7"
                                },
                                {
                                    "KAT_ID": "30",
                                    "RAKTAR_KOD": "NULL",
                                    "MEGYS": "NULL",
                                    "(No column name)": "7"
                                },
                                {
                                    "KAT_ID": "35",
                                    "RAKTAR_KOD": "NULL",
                                    "MEGYS": "NULL",
                                    "(No column name)": "7"
                                },
                                {
                                    "KAT_ID": "41",
                                    "RAKTAR_KOD": "NULL",
                                    "MEGYS": "NULL",
                                    "(No column name)": "13"
                                },
                                {
                                    "KAT_ID": "45",
                                    "RAKTAR_KOD": "NULL",
                                    "MEGYS": "NULL",
                                    "(No column name)": "11"
                                },
                                {
                                    "KAT_ID": "46",
                                    "RAKTAR_KOD": "NULL",
                                    "MEGYS": "NULL",
                                    "(No column name)": "7"
                                },
                                {
                                    "KAT_ID": "52",
                                    "RAKTAR_KOD": "NULL",
                                    "MEGYS": "NULL",
                                    "(No column name)": "26"
                                },
                                {
                                    "KAT_ID": "54",
                                    "RAKTAR_KOD": "NULL",
                                    "MEGYS": "NULL",
                                    "(No column name)": "6"
                                },
                                {
                                    "KAT_ID": "66",
                                    "RAKTAR_KOD": "NULL",
                                    "MEGYS": "NULL",
                                    "(No column name)": "7"
                                },
                                {
                                    "KAT_ID": "78",
                                    "RAKTAR_KOD": "NULL",
                                    "MEGYS": "NULL",
                                    "(No column name)": "24"
                                },
                                {
                                    "KAT_ID": "83",
                                    "RAKTAR_KOD": "NULL",
                                    "MEGYS": "NULL",
                                    "(No column name)": "6"
                                },
                                {
                                    "KAT_ID": "85",
                                    "RAKTAR_KOD": "NULL",
                                    "MEGYS": "NULL",
                                    "(No column name)": "16"
                                },
                                {
                                    "KAT_ID": "91",
                                    "RAKTAR_KOD": "NULL",
                                    "MEGYS": "NULL",
                                    "(No column name)": "7"
                                },
                                {
                                    "KAT_ID": "93",
                                    "RAKTAR_KOD": "NULL",
                                    "MEGYS": "NULL",
                                    "(No column name)": "7"
                                },
                                {
                                    "KAT_ID": "96",
                                    "RAKTAR_KOD": "NULL",
                                    "MEGYS": "NULL",
                                    "(No column name)": "9"
                                },
                                {
                                    "KAT_ID": "97",
                                    "RAKTAR_KOD": "NULL",
                                    "MEGYS": "NULL",
                                    "(No column name)": "10"
                                },
                                {
                                    "KAT_ID": "100",
                                    "RAKTAR_KOD": "NULL",
                                    "MEGYS": "NULL",
                                    "(No column name)": "9"
                                },
                                {
                                    "KAT_ID": "118",
                                    "RAKTAR_KOD": "NULL",
                                    "MEGYS": "NULL",
                                    "(No column name)": "9"
                                },
                                {
                                    "KAT_ID": "122",
                                    "RAKTAR_KOD": "NULL",
                                    "MEGYS": "NULL",
                                    "(No column name)": "7"
                                },
                                {
                                    "KAT_ID": "124",
                                    "RAKTAR_KOD": "NULL",
                                    "MEGYS": "NULL",
                                    "(No column name)": "10"
                                },
                                {
                                    "KAT_ID": "133",
                                    "RAKTAR_KOD": "NULL",
                                    "MEGYS": "NULL",
                                    "(No column name)": "6"
                                },
                                {
                                    "KAT_ID": "145",
                                    "RAKTAR_KOD": "NULL",
                                    "MEGYS": "NULL",
                                    "(No column name)": "18"
                                },
                                {
                                    "KAT_ID": "146",
                                    "RAKTAR_KOD": "NULL",
                                    "MEGYS": "NULL",
                                    "(No column name)": "7"
                                },
                                {
                                    "KAT_ID": "149",
                                    "RAKTAR_KOD": "NULL",
                                    "MEGYS": "NULL",
                                    "(No column name)": "6"
                                },
                                {
                                    "KAT_ID": "152",
                                    "RAKTAR_KOD": "NULL",
                                    "MEGYS": "NULL",
                                    "(No column name)": "6"
                                }
                            ]
                        },
                        "text/html": "<table><tr><th>KAT_ID</th><th>RAKTAR_KOD</th><th>MEGYS</th><th>(No column name)</th></tr><tr><td>NULL</td><td>1</td><td>db</td><td>11</td></tr><tr><td>NULL</td><td>1</td><td>NULL</td><td>11</td></tr><tr><td>NULL</td><td>3</td><td>db</td><td>14</td></tr><tr><td>NULL</td><td>3</td><td>NULL</td><td>14</td></tr><tr><td>NULL</td><td>5</td><td>csomag</td><td>7</td></tr><tr><td>NULL</td><td>5</td><td>db</td><td>72</td></tr><tr><td>NULL</td><td>5</td><td>NULL</td><td>86</td></tr><tr><td>NULL</td><td>6</td><td>csomag</td><td>9</td></tr><tr><td>NULL</td><td>6</td><td>db</td><td>94</td></tr><tr><td>NULL</td><td>6</td><td>NULL</td><td>106</td></tr><tr><td>NULL</td><td>7</td><td>csomag</td><td>9</td></tr><tr><td>NULL</td><td>7</td><td>db</td><td>88</td></tr><tr><td>NULL</td><td>7</td><td>NULL</td><td>100</td></tr><tr><td>NULL</td><td>8</td><td>csomag</td><td>8</td></tr><tr><td>NULL</td><td>8</td><td>db</td><td>109</td></tr><tr><td>NULL</td><td>8</td><td>ív</td><td>6</td></tr><tr><td>NULL</td><td>8</td><td>NULL</td><td>123</td></tr><tr><td>NULL</td><td>9</td><td>csomag</td><td>11</td></tr><tr><td>NULL</td><td>9</td><td>db</td><td>86</td></tr><tr><td>NULL</td><td>9</td><td>NULL</td><td>102</td></tr><tr><td>4</td><td>NULL</td><td>NULL</td><td>15</td></tr><tr><td>6</td><td>NULL</td><td>NULL</td><td>20</td></tr><tr><td>16</td><td>NULL</td><td>NULL</td><td>7</td></tr><tr><td>19</td><td>NULL</td><td>NULL</td><td>19</td></tr><tr><td>24</td><td>NULL</td><td>NULL</td><td>7</td></tr><tr><td>30</td><td>NULL</td><td>NULL</td><td>7</td></tr><tr><td>35</td><td>NULL</td><td>NULL</td><td>7</td></tr><tr><td>41</td><td>NULL</td><td>NULL</td><td>13</td></tr><tr><td>45</td><td>NULL</td><td>NULL</td><td>11</td></tr><tr><td>46</td><td>NULL</td><td>NULL</td><td>7</td></tr><tr><td>52</td><td>NULL</td><td>NULL</td><td>26</td></tr><tr><td>54</td><td>NULL</td><td>NULL</td><td>6</td></tr><tr><td>66</td><td>NULL</td><td>NULL</td><td>7</td></tr><tr><td>78</td><td>NULL</td><td>NULL</td><td>24</td></tr><tr><td>83</td><td>NULL</td><td>NULL</td><td>6</td></tr><tr><td>85</td><td>NULL</td><td>NULL</td><td>16</td></tr><tr><td>91</td><td>NULL</td><td>NULL</td><td>7</td></tr><tr><td>93</td><td>NULL</td><td>NULL</td><td>7</td></tr><tr><td>96</td><td>NULL</td><td>NULL</td><td>9</td></tr><tr><td>97</td><td>NULL</td><td>NULL</td><td>10</td></tr><tr><td>100</td><td>NULL</td><td>NULL</td><td>9</td></tr><tr><td>118</td><td>NULL</td><td>NULL</td><td>9</td></tr><tr><td>122</td><td>NULL</td><td>NULL</td><td>7</td></tr><tr><td>124</td><td>NULL</td><td>NULL</td><td>10</td></tr><tr><td>133</td><td>NULL</td><td>NULL</td><td>6</td></tr><tr><td>145</td><td>NULL</td><td>NULL</td><td>18</td></tr><tr><td>146</td><td>NULL</td><td>NULL</td><td>7</td></tr><tr><td>149</td><td>NULL</td><td>NULL</td><td>6</td></tr><tr><td>152</td><td>NULL</td><td>NULL</td><td>6</td></tr></table>"
                    },
                    "metadata": {}
                }
            ],
            "execution_count": 20
        },
        {
            "cell_type": "markdown",
            "source": [
                "```\n",
                "3. Készítsünk listát az egyes termékkategóriákban lévő termékek számáról! \n",
                "\n",
                "```\n",
                "\n",
                "a. Elég megjeleníteni a kategóriák azonosítóit és a darabszámokat!   \n",
                "<span style=\"color: var(--vscode-foreground);\">b. A lista megfelelően jelölve tartalmazza a végösszeget is!&nbsp;<br></span> <span style=\"color: var(--vscode-foreground);\">c. Az oszlopokat nevezzük el értelemszerűen!&nbsp;<br></span> <span style=\"color: var(--vscode-foreground);\">d. A listát rendezzük a darabszám szerint növekvő sorrendbe!</span>\n",
                "\n",
                "  \n",
                "\n",
                "![](https://moodle.uni-corvinus.hu/theme/image.php/adaptable/atto_h5p/1709548862/icon)"
            ],
            "metadata": {
                "azdata_cell_guid": "d7876bb9-76d0-4d07-baed-3cb17b2f96c3"
            },
            "attachments": {}
        },
        {
            "cell_type": "code",
            "source": [
                "--SELECT IIF(KAT_ID IS NULL, 'Összesen', CAST(KAT_ID as NVARCHAR(5))), count(*) as 'DB', GROUPING_ID(KAT_ID) --a count és a grouping_id is aggregáló fv, mindenhol nullát ad vissza, kivéve a végösszegnél, tehát figyeli az összegzést\r\n",
                "SELECT IIF(GROUPING_ID(KAT_ID) = 1, 'Összesen', CAST(KAT_ID as NVARCHAR(5))), count(*) as 'DB'\r\n",
                "FROM Termek\r\n",
                "GROUP BY ROLLUP(KAT_ID)\r\n",
                "ORDER BY count(KAT_ID)"
            ],
            "metadata": {
                "azdata_cell_guid": "56ec19ce-e249-4551-b2a8-f17569765acc",
                "language": "sql"
            },
            "outputs": [
                {
                    "output_type": "display_data",
                    "data": {
                        "text/html": "(144 rows affected)"
                    },
                    "metadata": {}
                },
                {
                    "output_type": "display_data",
                    "data": {
                        "text/html": "Total execution time: 00:00:00.013"
                    },
                    "metadata": {}
                },
                {
                    "output_type": "execute_result",
                    "execution_count": 11,
                    "data": {
                        "application/vnd.dataresource+json": {
                            "schema": {
                                "fields": [
                                    {
                                        "name": "(No column name)"
                                    },
                                    {
                                        "name": "DB"
                                    }
                                ]
                            },
                            "data": [
                                {
                                    "(No column name)": "10",
                                    "DB": "1"
                                },
                                {
                                    "(No column name)": "11",
                                    "DB": "1"
                                },
                                {
                                    "(No column name)": "12",
                                    "DB": "1"
                                },
                                {
                                    "(No column name)": "15",
                                    "DB": "1"
                                },
                                {
                                    "(No column name)": "17",
                                    "DB": "1"
                                },
                                {
                                    "(No column name)": "26",
                                    "DB": "1"
                                },
                                {
                                    "(No column name)": "29",
                                    "DB": "1"
                                },
                                {
                                    "(No column name)": "31",
                                    "DB": "1"
                                },
                                {
                                    "(No column name)": "33",
                                    "DB": "1"
                                },
                                {
                                    "(No column name)": "34",
                                    "DB": "1"
                                },
                                {
                                    "(No column name)": "37",
                                    "DB": "1"
                                },
                                {
                                    "(No column name)": "38",
                                    "DB": "1"
                                },
                                {
                                    "(No column name)": "40",
                                    "DB": "1"
                                },
                                {
                                    "(No column name)": "42",
                                    "DB": "1"
                                },
                                {
                                    "(No column name)": "44",
                                    "DB": "1"
                                },
                                {
                                    "(No column name)": "50",
                                    "DB": "1"
                                },
                                {
                                    "(No column name)": "53",
                                    "DB": "1"
                                },
                                {
                                    "(No column name)": "61",
                                    "DB": "1"
                                },
                                {
                                    "(No column name)": "74",
                                    "DB": "1"
                                },
                                {
                                    "(No column name)": "80",
                                    "DB": "1"
                                },
                                {
                                    "(No column name)": "82",
                                    "DB": "1"
                                },
                                {
                                    "(No column name)": "84",
                                    "DB": "1"
                                },
                                {
                                    "(No column name)": "86",
                                    "DB": "1"
                                },
                                {
                                    "(No column name)": "99",
                                    "DB": "1"
                                },
                                {
                                    "(No column name)": "101",
                                    "DB": "1"
                                },
                                {
                                    "(No column name)": "103",
                                    "DB": "1"
                                },
                                {
                                    "(No column name)": "105",
                                    "DB": "1"
                                },
                                {
                                    "(No column name)": "107",
                                    "DB": "1"
                                },
                                {
                                    "(No column name)": "108",
                                    "DB": "1"
                                },
                                {
                                    "(No column name)": "109",
                                    "DB": "1"
                                },
                                {
                                    "(No column name)": "114",
                                    "DB": "1"
                                },
                                {
                                    "(No column name)": "115",
                                    "DB": "1"
                                },
                                {
                                    "(No column name)": "126",
                                    "DB": "1"
                                },
                                {
                                    "(No column name)": "130",
                                    "DB": "1"
                                },
                                {
                                    "(No column name)": "131",
                                    "DB": "1"
                                },
                                {
                                    "(No column name)": "132",
                                    "DB": "1"
                                },
                                {
                                    "(No column name)": "135",
                                    "DB": "1"
                                },
                                {
                                    "(No column name)": "139",
                                    "DB": "1"
                                },
                                {
                                    "(No column name)": "140",
                                    "DB": "1"
                                },
                                {
                                    "(No column name)": "142",
                                    "DB": "1"
                                },
                                {
                                    "(No column name)": "147",
                                    "DB": "1"
                                },
                                {
                                    "(No column name)": "148",
                                    "DB": "1"
                                },
                                {
                                    "(No column name)": "153",
                                    "DB": "1"
                                },
                                {
                                    "(No column name)": "155",
                                    "DB": "1"
                                },
                                {
                                    "(No column name)": "150",
                                    "DB": "2"
                                },
                                {
                                    "(No column name)": "144",
                                    "DB": "2"
                                },
                                {
                                    "(No column name)": "141",
                                    "DB": "2"
                                },
                                {
                                    "(No column name)": "136",
                                    "DB": "2"
                                },
                                {
                                    "(No column name)": "123",
                                    "DB": "2"
                                },
                                {
                                    "(No column name)": "134",
                                    "DB": "2"
                                },
                                {
                                    "(No column name)": "127",
                                    "DB": "2"
                                },
                                {
                                    "(No column name)": "128",
                                    "DB": "2"
                                },
                                {
                                    "(No column name)": "129",
                                    "DB": "2"
                                },
                                {
                                    "(No column name)": "116",
                                    "DB": "2"
                                },
                                {
                                    "(No column name)": "117",
                                    "DB": "2"
                                },
                                {
                                    "(No column name)": "112",
                                    "DB": "2"
                                },
                                {
                                    "(No column name)": "121",
                                    "DB": "2"
                                },
                                {
                                    "(No column name)": "110",
                                    "DB": "2"
                                },
                                {
                                    "(No column name)": "104",
                                    "DB": "2"
                                },
                                {
                                    "(No column name)": "94",
                                    "DB": "2"
                                },
                                {
                                    "(No column name)": "95",
                                    "DB": "2"
                                },
                                {
                                    "(No column name)": "88",
                                    "DB": "2"
                                },
                                {
                                    "(No column name)": "90",
                                    "DB": "2"
                                },
                                {
                                    "(No column name)": "92",
                                    "DB": "2"
                                },
                                {
                                    "(No column name)": "71",
                                    "DB": "2"
                                },
                                {
                                    "(No column name)": "72",
                                    "DB": "2"
                                },
                                {
                                    "(No column name)": "73",
                                    "DB": "2"
                                },
                                {
                                    "(No column name)": "75",
                                    "DB": "2"
                                },
                                {
                                    "(No column name)": "62",
                                    "DB": "2"
                                },
                                {
                                    "(No column name)": "55",
                                    "DB": "2"
                                },
                                {
                                    "(No column name)": "65",
                                    "DB": "2"
                                },
                                {
                                    "(No column name)": "67",
                                    "DB": "2"
                                },
                                {
                                    "(No column name)": "68",
                                    "DB": "2"
                                },
                                {
                                    "(No column name)": "57",
                                    "DB": "2"
                                },
                                {
                                    "(No column name)": "48",
                                    "DB": "2"
                                },
                                {
                                    "(No column name)": "49",
                                    "DB": "2"
                                },
                                {
                                    "(No column name)": "39",
                                    "DB": "2"
                                },
                                {
                                    "(No column name)": "22",
                                    "DB": "2"
                                },
                                {
                                    "(No column name)": "18",
                                    "DB": "2"
                                },
                                {
                                    "(No column name)": "9",
                                    "DB": "2"
                                },
                                {
                                    "(No column name)": "13",
                                    "DB": "2"
                                },
                                {
                                    "(No column name)": "5",
                                    "DB": "3"
                                },
                                {
                                    "(No column name)": "7",
                                    "DB": "3"
                                },
                                {
                                    "(No column name)": "8",
                                    "DB": "3"
                                },
                                {
                                    "(No column name)": "20",
                                    "DB": "3"
                                },
                                {
                                    "(No column name)": "27",
                                    "DB": "3"
                                },
                                {
                                    "(No column name)": "32",
                                    "DB": "3"
                                },
                                {
                                    "(No column name)": "43",
                                    "DB": "3"
                                },
                                {
                                    "(No column name)": "58",
                                    "DB": "3"
                                },
                                {
                                    "(No column name)": "51",
                                    "DB": "3"
                                },
                                {
                                    "(No column name)": "70",
                                    "DB": "3"
                                },
                                {
                                    "(No column name)": "89",
                                    "DB": "3"
                                },
                                {
                                    "(No column name)": "111",
                                    "DB": "3"
                                },
                                {
                                    "(No column name)": "119",
                                    "DB": "3"
                                },
                                {
                                    "(No column name)": "137",
                                    "DB": "3"
                                },
                                {
                                    "(No column name)": "143",
                                    "DB": "3"
                                },
                                {
                                    "(No column name)": "151",
                                    "DB": "4"
                                },
                                {
                                    "(No column name)": "154",
                                    "DB": "4"
                                },
                                {
                                    "(No column name)": "125",
                                    "DB": "4"
                                },
                                {
                                    "(No column name)": "79",
                                    "DB": "4"
                                },
                                {
                                    "(No column name)": "98",
                                    "DB": "4"
                                },
                                {
                                    "(No column name)": "56",
                                    "DB": "4"
                                },
                                {
                                    "(No column name)": "64",
                                    "DB": "4"
                                },
                                {
                                    "(No column name)": "59",
                                    "DB": "4"
                                },
                                {
                                    "(No column name)": "47",
                                    "DB": "4"
                                },
                                {
                                    "(No column name)": "25",
                                    "DB": "4"
                                },
                                {
                                    "(No column name)": "14",
                                    "DB": "4"
                                },
                                {
                                    "(No column name)": "21",
                                    "DB": "5"
                                },
                                {
                                    "(No column name)": "36",
                                    "DB": "5"
                                },
                                {
                                    "(No column name)": "28",
                                    "DB": "5"
                                },
                                {
                                    "(No column name)": "60",
                                    "DB": "5"
                                },
                                {
                                    "(No column name)": "76",
                                    "DB": "5"
                                },
                                {
                                    "(No column name)": "106",
                                    "DB": "5"
                                },
                                {
                                    "(No column name)": "138",
                                    "DB": "5"
                                },
                                {
                                    "(No column name)": "133",
                                    "DB": "6"
                                },
                                {
                                    "(No column name)": "152",
                                    "DB": "6"
                                },
                                {
                                    "(No column name)": "149",
                                    "DB": "6"
                                },
                                {
                                    "(No column name)": "83",
                                    "DB": "6"
                                },
                                {
                                    "(No column name)": "54",
                                    "DB": "6"
                                },
                                {
                                    "(No column name)": "46",
                                    "DB": "7"
                                },
                                {
                                    "(No column name)": "66",
                                    "DB": "7"
                                },
                                {
                                    "(No column name)": "24",
                                    "DB": "7"
                                },
                                {
                                    "(No column name)": "30",
                                    "DB": "7"
                                },
                                {
                                    "(No column name)": "35",
                                    "DB": "7"
                                },
                                {
                                    "(No column name)": "16",
                                    "DB": "7"
                                },
                                {
                                    "(No column name)": "146",
                                    "DB": "7"
                                },
                                {
                                    "(No column name)": "122",
                                    "DB": "7"
                                },
                                {
                                    "(No column name)": "93",
                                    "DB": "7"
                                },
                                {
                                    "(No column name)": "91",
                                    "DB": "7"
                                },
                                {
                                    "(No column name)": "100",
                                    "DB": "9"
                                },
                                {
                                    "(No column name)": "96",
                                    "DB": "9"
                                },
                                {
                                    "(No column name)": "118",
                                    "DB": "9"
                                },
                                {
                                    "(No column name)": "97",
                                    "DB": "10"
                                },
                                {
                                    "(No column name)": "124",
                                    "DB": "10"
                                },
                                {
                                    "(No column name)": "45",
                                    "DB": "11"
                                },
                                {
                                    "(No column name)": "41",
                                    "DB": "13"
                                },
                                {
                                    "(No column name)": "4",
                                    "DB": "15"
                                },
                                {
                                    "(No column name)": "85",
                                    "DB": "16"
                                },
                                {
                                    "(No column name)": "145",
                                    "DB": "18"
                                },
                                {
                                    "(No column name)": "19",
                                    "DB": "19"
                                },
                                {
                                    "(No column name)": "6",
                                    "DB": "20"
                                },
                                {
                                    "(No column name)": "78",
                                    "DB": "24"
                                },
                                {
                                    "(No column name)": "52",
                                    "DB": "26"
                                },
                                {
                                    "(No column name)": "Összesen",
                                    "DB": "551"
                                }
                            ]
                        },
                        "text/html": "<table><tr><th>(No column name)</th><th>DB</th></tr><tr><td>10</td><td>1</td></tr><tr><td>11</td><td>1</td></tr><tr><td>12</td><td>1</td></tr><tr><td>15</td><td>1</td></tr><tr><td>17</td><td>1</td></tr><tr><td>26</td><td>1</td></tr><tr><td>29</td><td>1</td></tr><tr><td>31</td><td>1</td></tr><tr><td>33</td><td>1</td></tr><tr><td>34</td><td>1</td></tr><tr><td>37</td><td>1</td></tr><tr><td>38</td><td>1</td></tr><tr><td>40</td><td>1</td></tr><tr><td>42</td><td>1</td></tr><tr><td>44</td><td>1</td></tr><tr><td>50</td><td>1</td></tr><tr><td>53</td><td>1</td></tr><tr><td>61</td><td>1</td></tr><tr><td>74</td><td>1</td></tr><tr><td>80</td><td>1</td></tr><tr><td>82</td><td>1</td></tr><tr><td>84</td><td>1</td></tr><tr><td>86</td><td>1</td></tr><tr><td>99</td><td>1</td></tr><tr><td>101</td><td>1</td></tr><tr><td>103</td><td>1</td></tr><tr><td>105</td><td>1</td></tr><tr><td>107</td><td>1</td></tr><tr><td>108</td><td>1</td></tr><tr><td>109</td><td>1</td></tr><tr><td>114</td><td>1</td></tr><tr><td>115</td><td>1</td></tr><tr><td>126</td><td>1</td></tr><tr><td>130</td><td>1</td></tr><tr><td>131</td><td>1</td></tr><tr><td>132</td><td>1</td></tr><tr><td>135</td><td>1</td></tr><tr><td>139</td><td>1</td></tr><tr><td>140</td><td>1</td></tr><tr><td>142</td><td>1</td></tr><tr><td>147</td><td>1</td></tr><tr><td>148</td><td>1</td></tr><tr><td>153</td><td>1</td></tr><tr><td>155</td><td>1</td></tr><tr><td>150</td><td>2</td></tr><tr><td>144</td><td>2</td></tr><tr><td>141</td><td>2</td></tr><tr><td>136</td><td>2</td></tr><tr><td>123</td><td>2</td></tr><tr><td>134</td><td>2</td></tr><tr><td>127</td><td>2</td></tr><tr><td>128</td><td>2</td></tr><tr><td>129</td><td>2</td></tr><tr><td>116</td><td>2</td></tr><tr><td>117</td><td>2</td></tr><tr><td>112</td><td>2</td></tr><tr><td>121</td><td>2</td></tr><tr><td>110</td><td>2</td></tr><tr><td>104</td><td>2</td></tr><tr><td>94</td><td>2</td></tr><tr><td>95</td><td>2</td></tr><tr><td>88</td><td>2</td></tr><tr><td>90</td><td>2</td></tr><tr><td>92</td><td>2</td></tr><tr><td>71</td><td>2</td></tr><tr><td>72</td><td>2</td></tr><tr><td>73</td><td>2</td></tr><tr><td>75</td><td>2</td></tr><tr><td>62</td><td>2</td></tr><tr><td>55</td><td>2</td></tr><tr><td>65</td><td>2</td></tr><tr><td>67</td><td>2</td></tr><tr><td>68</td><td>2</td></tr><tr><td>57</td><td>2</td></tr><tr><td>48</td><td>2</td></tr><tr><td>49</td><td>2</td></tr><tr><td>39</td><td>2</td></tr><tr><td>22</td><td>2</td></tr><tr><td>18</td><td>2</td></tr><tr><td>9</td><td>2</td></tr><tr><td>13</td><td>2</td></tr><tr><td>5</td><td>3</td></tr><tr><td>7</td><td>3</td></tr><tr><td>8</td><td>3</td></tr><tr><td>20</td><td>3</td></tr><tr><td>27</td><td>3</td></tr><tr><td>32</td><td>3</td></tr><tr><td>43</td><td>3</td></tr><tr><td>58</td><td>3</td></tr><tr><td>51</td><td>3</td></tr><tr><td>70</td><td>3</td></tr><tr><td>89</td><td>3</td></tr><tr><td>111</td><td>3</td></tr><tr><td>119</td><td>3</td></tr><tr><td>137</td><td>3</td></tr><tr><td>143</td><td>3</td></tr><tr><td>151</td><td>4</td></tr><tr><td>154</td><td>4</td></tr><tr><td>125</td><td>4</td></tr><tr><td>79</td><td>4</td></tr><tr><td>98</td><td>4</td></tr><tr><td>56</td><td>4</td></tr><tr><td>64</td><td>4</td></tr><tr><td>59</td><td>4</td></tr><tr><td>47</td><td>4</td></tr><tr><td>25</td><td>4</td></tr><tr><td>14</td><td>4</td></tr><tr><td>21</td><td>5</td></tr><tr><td>36</td><td>5</td></tr><tr><td>28</td><td>5</td></tr><tr><td>60</td><td>5</td></tr><tr><td>76</td><td>5</td></tr><tr><td>106</td><td>5</td></tr><tr><td>138</td><td>5</td></tr><tr><td>133</td><td>6</td></tr><tr><td>152</td><td>6</td></tr><tr><td>149</td><td>6</td></tr><tr><td>83</td><td>6</td></tr><tr><td>54</td><td>6</td></tr><tr><td>46</td><td>7</td></tr><tr><td>66</td><td>7</td></tr><tr><td>24</td><td>7</td></tr><tr><td>30</td><td>7</td></tr><tr><td>35</td><td>7</td></tr><tr><td>16</td><td>7</td></tr><tr><td>146</td><td>7</td></tr><tr><td>122</td><td>7</td></tr><tr><td>93</td><td>7</td></tr><tr><td>91</td><td>7</td></tr><tr><td>100</td><td>9</td></tr><tr><td>96</td><td>9</td></tr><tr><td>118</td><td>9</td></tr><tr><td>97</td><td>10</td></tr><tr><td>124</td><td>10</td></tr><tr><td>45</td><td>11</td></tr><tr><td>41</td><td>13</td></tr><tr><td>4</td><td>15</td></tr><tr><td>85</td><td>16</td></tr><tr><td>145</td><td>18</td></tr><tr><td>19</td><td>19</td></tr><tr><td>6</td><td>20</td></tr><tr><td>78</td><td>24</td></tr><tr><td>52</td><td>26</td></tr><tr><td>Összesen</td><td>551</td></tr></table>"
                    },
                    "metadata": {}
                }
            ],
            "execution_count": 11
        },
        {
            "cell_type": "markdown",
            "source": [
                "4. <span style=\"background-color: rgb(255, 255, 255); color: rgb(0, 0, 0); font-family: &quot;Open Sans&quot;, sans-serif; font-size: 14.44px;\">Készítsünk listát az ügyfelek számáról születési év szerint, azon belül nem szerinti bontásban!&nbsp;</span> \n",
                "\n",
                "a. A lista megfelelően jelölve tartalmazza a részösszegeket és a végösszeget is!  \n",
                "b. Az oszlopoknak adjunk nevet értelemszerűen!"
            ],
            "metadata": {
                "azdata_cell_guid": "8e7fef82-8022-49a0-8255-fc2846c2134b"
            },
            "attachments": {}
        },
        {
            "cell_type": "code",
            "source": [
                "SELECT IIF(GROUPING_ID(SZULEV) = 1, 'Végösszeg', CAST(SZULEV as nvarchar(4))) as 'Születési év',\r\n",
                "           CASE\r\n",
                "                WHEN GROUPING_ID(SZULEV, NEM) = 1 THEN 'Részösseg'\r\n",
                "                WHEN GROUPING_ID(SZULEV, NEM) = 3 THEN 'Végösszeg'\r\n",
                "                ELSE nem\r\n",
                "                END as 'Nem',\r\n",
                "                COUNT(*) as 'Ügyfelek száma'\r\n",
                "FROM Ugyfel\r\n",
                "GROUP BY ROLLUP(szulev, nem)"
            ],
            "metadata": {
                "azdata_cell_guid": "36f7b396-4a1f-45e5-8720-2302537c91bc",
                "language": "sql"
            },
            "outputs": [
                {
                    "output_type": "display_data",
                    "data": {
                        "text/html": "(96 rows affected)"
                    },
                    "metadata": {}
                },
                {
                    "output_type": "display_data",
                    "data": {
                        "text/html": "Total execution time: 00:00:00.073"
                    },
                    "metadata": {}
                },
                {
                    "output_type": "execute_result",
                    "metadata": {},
                    "execution_count": 2,
                    "data": {
                        "application/vnd.dataresource+json": {
                            "schema": {
                                "fields": [
                                    {
                                        "name": "Születési év"
                                    },
                                    {
                                        "name": "Nem"
                                    },
                                    {
                                        "name": "Ügyfelek száma"
                                    }
                                ]
                            },
                            "data": [
                                {
                                    "Születési év": "1967",
                                    "Nem": "F",
                                    "Ügyfelek száma": "5"
                                },
                                {
                                    "Születési év": "1967",
                                    "Nem": "N",
                                    "Ügyfelek száma": "3"
                                },
                                {
                                    "Születési év": "1967",
                                    "Nem": "Részösseg",
                                    "Ügyfelek száma": "8"
                                },
                                {
                                    "Születési év": "1968",
                                    "Nem": "F",
                                    "Ügyfelek száma": "5"
                                },
                                {
                                    "Születési év": "1968",
                                    "Nem": "N",
                                    "Ügyfelek száma": "3"
                                },
                                {
                                    "Születési év": "1968",
                                    "Nem": "Részösseg",
                                    "Ügyfelek száma": "8"
                                },
                                {
                                    "Születési év": "1969",
                                    "Nem": "F",
                                    "Ügyfelek száma": "5"
                                },
                                {
                                    "Születési év": "1969",
                                    "Nem": "N",
                                    "Ügyfelek száma": "3"
                                },
                                {
                                    "Születési év": "1969",
                                    "Nem": "Részösseg",
                                    "Ügyfelek száma": "8"
                                },
                                {
                                    "Születési év": "1970",
                                    "Nem": "F",
                                    "Ügyfelek száma": "4"
                                },
                                {
                                    "Születési év": "1970",
                                    "Nem": "Részösseg",
                                    "Ügyfelek száma": "4"
                                },
                                {
                                    "Születési év": "1971",
                                    "Nem": "F",
                                    "Ügyfelek száma": "2"
                                },
                                {
                                    "Születési év": "1971",
                                    "Nem": "N",
                                    "Ügyfelek száma": "3"
                                },
                                {
                                    "Születési év": "1971",
                                    "Nem": "Részösseg",
                                    "Ügyfelek száma": "5"
                                },
                                {
                                    "Születési év": "1972",
                                    "Nem": "F",
                                    "Ügyfelek száma": "2"
                                },
                                {
                                    "Születési év": "1972",
                                    "Nem": "N",
                                    "Ügyfelek száma": "2"
                                },
                                {
                                    "Születési év": "1972",
                                    "Nem": "Részösseg",
                                    "Ügyfelek száma": "4"
                                },
                                {
                                    "Születési év": "1973",
                                    "Nem": "F",
                                    "Ügyfelek száma": "2"
                                },
                                {
                                    "Születési év": "1973",
                                    "Nem": "N",
                                    "Ügyfelek száma": "2"
                                },
                                {
                                    "Születési év": "1973",
                                    "Nem": "Részösseg",
                                    "Ügyfelek száma": "4"
                                },
                                {
                                    "Születési év": "1974",
                                    "Nem": "F",
                                    "Ügyfelek száma": "1"
                                },
                                {
                                    "Születési év": "1974",
                                    "Nem": "N",
                                    "Ügyfelek száma": "3"
                                },
                                {
                                    "Születési év": "1974",
                                    "Nem": "Részösseg",
                                    "Ügyfelek száma": "4"
                                },
                                {
                                    "Születési év": "1975",
                                    "Nem": "F",
                                    "Ügyfelek száma": "8"
                                },
                                {
                                    "Születési év": "1975",
                                    "Nem": "N",
                                    "Ügyfelek száma": "3"
                                },
                                {
                                    "Születési év": "1975",
                                    "Nem": "Részösseg",
                                    "Ügyfelek száma": "11"
                                },
                                {
                                    "Születési év": "1976",
                                    "Nem": "F",
                                    "Ügyfelek száma": "5"
                                },
                                {
                                    "Születési év": "1976",
                                    "Nem": "N",
                                    "Ügyfelek száma": "2"
                                },
                                {
                                    "Születési év": "1976",
                                    "Nem": "Részösseg",
                                    "Ügyfelek száma": "7"
                                },
                                {
                                    "Születési év": "1977",
                                    "Nem": "F",
                                    "Ügyfelek száma": "4"
                                },
                                {
                                    "Születési év": "1977",
                                    "Nem": "N",
                                    "Ügyfelek száma": "1"
                                },
                                {
                                    "Születési év": "1977",
                                    "Nem": "Részösseg",
                                    "Ügyfelek száma": "5"
                                },
                                {
                                    "Születési év": "1978",
                                    "Nem": "F",
                                    "Ügyfelek száma": "3"
                                },
                                {
                                    "Születési év": "1978",
                                    "Nem": "N",
                                    "Ügyfelek száma": "4"
                                },
                                {
                                    "Születési év": "1978",
                                    "Nem": "Részösseg",
                                    "Ügyfelek száma": "7"
                                },
                                {
                                    "Születési év": "1979",
                                    "Nem": "F",
                                    "Ügyfelek száma": "4"
                                },
                                {
                                    "Születési év": "1979",
                                    "Nem": "N",
                                    "Ügyfelek száma": "3"
                                },
                                {
                                    "Születési év": "1979",
                                    "Nem": "Részösseg",
                                    "Ügyfelek száma": "7"
                                },
                                {
                                    "Születési év": "1980",
                                    "Nem": "F",
                                    "Ügyfelek száma": "4"
                                },
                                {
                                    "Születési év": "1980",
                                    "Nem": "N",
                                    "Ügyfelek száma": "3"
                                },
                                {
                                    "Születési év": "1980",
                                    "Nem": "Részösseg",
                                    "Ügyfelek száma": "7"
                                },
                                {
                                    "Születési év": "1981",
                                    "Nem": "N",
                                    "Ügyfelek száma": "4"
                                },
                                {
                                    "Születési év": "1981",
                                    "Nem": "Részösseg",
                                    "Ügyfelek száma": "4"
                                },
                                {
                                    "Születési év": "1982",
                                    "Nem": "F",
                                    "Ügyfelek száma": "2"
                                },
                                {
                                    "Születési év": "1982",
                                    "Nem": "N",
                                    "Ügyfelek száma": "2"
                                },
                                {
                                    "Születési év": "1982",
                                    "Nem": "Részösseg",
                                    "Ügyfelek száma": "4"
                                },
                                {
                                    "Születési év": "1983",
                                    "Nem": "F",
                                    "Ügyfelek száma": "5"
                                },
                                {
                                    "Születési év": "1983",
                                    "Nem": "N",
                                    "Ügyfelek száma": "3"
                                },
                                {
                                    "Születési év": "1983",
                                    "Nem": "Részösseg",
                                    "Ügyfelek száma": "8"
                                },
                                {
                                    "Születési év": "1984",
                                    "Nem": "F",
                                    "Ügyfelek száma": "6"
                                },
                                {
                                    "Születési év": "1984",
                                    "Nem": "N",
                                    "Ügyfelek száma": "2"
                                },
                                {
                                    "Születési év": "1984",
                                    "Nem": "Részösseg",
                                    "Ügyfelek száma": "8"
                                },
                                {
                                    "Születési év": "1985",
                                    "Nem": "F",
                                    "Ügyfelek száma": "5"
                                },
                                {
                                    "Születési év": "1985",
                                    "Nem": "N",
                                    "Ügyfelek száma": "1"
                                },
                                {
                                    "Születési év": "1985",
                                    "Nem": "Részösseg",
                                    "Ügyfelek száma": "6"
                                },
                                {
                                    "Születési év": "1986",
                                    "Nem": "F",
                                    "Ügyfelek száma": "7"
                                },
                                {
                                    "Születési év": "1986",
                                    "Nem": "N",
                                    "Ügyfelek száma": "2"
                                },
                                {
                                    "Születési év": "1986",
                                    "Nem": "Részösseg",
                                    "Ügyfelek száma": "9"
                                },
                                {
                                    "Születési év": "1987",
                                    "Nem": "F",
                                    "Ügyfelek száma": "2"
                                },
                                {
                                    "Születési év": "1987",
                                    "Nem": "N",
                                    "Ügyfelek száma": "3"
                                },
                                {
                                    "Születési év": "1987",
                                    "Nem": "Részösseg",
                                    "Ügyfelek száma": "5"
                                },
                                {
                                    "Születési év": "1988",
                                    "Nem": "F",
                                    "Ügyfelek száma": "2"
                                },
                                {
                                    "Születési év": "1988",
                                    "Nem": "N",
                                    "Ügyfelek száma": "4"
                                },
                                {
                                    "Születési év": "1988",
                                    "Nem": "Részösseg",
                                    "Ügyfelek száma": "6"
                                },
                                {
                                    "Születési év": "1989",
                                    "Nem": "F",
                                    "Ügyfelek száma": "6"
                                },
                                {
                                    "Születési év": "1989",
                                    "Nem": "N",
                                    "Ügyfelek száma": "1"
                                },
                                {
                                    "Születési év": "1989",
                                    "Nem": "Részösseg",
                                    "Ügyfelek száma": "7"
                                },
                                {
                                    "Születési év": "1990",
                                    "Nem": "F",
                                    "Ügyfelek száma": "5"
                                },
                                {
                                    "Születési év": "1990",
                                    "Nem": "N",
                                    "Ügyfelek száma": "3"
                                },
                                {
                                    "Születési év": "1990",
                                    "Nem": "Részösseg",
                                    "Ügyfelek száma": "8"
                                },
                                {
                                    "Születési év": "1991",
                                    "Nem": "F",
                                    "Ügyfelek száma": "3"
                                },
                                {
                                    "Születési év": "1991",
                                    "Nem": "N",
                                    "Ügyfelek száma": "3"
                                },
                                {
                                    "Születési év": "1991",
                                    "Nem": "Részösseg",
                                    "Ügyfelek száma": "6"
                                },
                                {
                                    "Születési év": "1992",
                                    "Nem": "F",
                                    "Ügyfelek száma": "3"
                                },
                                {
                                    "Születési év": "1992",
                                    "Nem": "N",
                                    "Ügyfelek száma": "1"
                                },
                                {
                                    "Születési év": "1992",
                                    "Nem": "Részösseg",
                                    "Ügyfelek száma": "4"
                                },
                                {
                                    "Születési év": "1993",
                                    "Nem": "F",
                                    "Ügyfelek száma": "2"
                                },
                                {
                                    "Születési év": "1993",
                                    "Nem": "N",
                                    "Ügyfelek száma": "3"
                                },
                                {
                                    "Születési év": "1993",
                                    "Nem": "Részösseg",
                                    "Ügyfelek száma": "5"
                                },
                                {
                                    "Születési év": "1994",
                                    "Nem": "N",
                                    "Ügyfelek száma": "3"
                                },
                                {
                                    "Születési év": "1994",
                                    "Nem": "Részösseg",
                                    "Ügyfelek száma": "3"
                                },
                                {
                                    "Születési év": "1995",
                                    "Nem": "F",
                                    "Ügyfelek száma": "3"
                                },
                                {
                                    "Születési év": "1995",
                                    "Nem": "N",
                                    "Ügyfelek száma": "3"
                                },
                                {
                                    "Születési év": "1995",
                                    "Nem": "Részösseg",
                                    "Ügyfelek száma": "6"
                                },
                                {
                                    "Születési év": "1996",
                                    "Nem": "F",
                                    "Ügyfelek száma": "2"
                                },
                                {
                                    "Születési év": "1996",
                                    "Nem": "N",
                                    "Ügyfelek száma": "5"
                                },
                                {
                                    "Születési év": "1996",
                                    "Nem": "Részösseg",
                                    "Ügyfelek száma": "7"
                                },
                                {
                                    "Születési év": "1997",
                                    "Nem": "F",
                                    "Ügyfelek száma": "10"
                                },
                                {
                                    "Születési év": "1997",
                                    "Nem": "N",
                                    "Ügyfelek száma": "2"
                                },
                                {
                                    "Születési év": "1997",
                                    "Nem": "Részösseg",
                                    "Ügyfelek száma": "12"
                                },
                                {
                                    "Születési év": "1998",
                                    "Nem": "F",
                                    "Ügyfelek száma": "1"
                                },
                                {
                                    "Születési év": "1998",
                                    "Nem": "N",
                                    "Ügyfelek száma": "1"
                                },
                                {
                                    "Születési év": "1998",
                                    "Nem": "Részösseg",
                                    "Ügyfelek száma": "2"
                                },
                                {
                                    "Születési év": "2000",
                                    "Nem": "F",
                                    "Ügyfelek száma": "1"
                                },
                                {
                                    "Születési év": "2000",
                                    "Nem": "Részösseg",
                                    "Ügyfelek száma": "1"
                                },
                                {
                                    "Születési év": "Végösszeg",
                                    "Nem": "Végösszeg",
                                    "Ügyfelek száma": "200"
                                }
                            ]
                        },
                        "text/html": [
                            "<table>",
                            "<tr><th>Születési év</th><th>Nem</th><th>Ügyfelek száma</th></tr>",
                            "<tr><td>1967</td><td>F</td><td>5</td></tr>",
                            "<tr><td>1967</td><td>N</td><td>3</td></tr>",
                            "<tr><td>1967</td><td>Részösseg</td><td>8</td></tr>",
                            "<tr><td>1968</td><td>F</td><td>5</td></tr>",
                            "<tr><td>1968</td><td>N</td><td>3</td></tr>",
                            "<tr><td>1968</td><td>Részösseg</td><td>8</td></tr>",
                            "<tr><td>1969</td><td>F</td><td>5</td></tr>",
                            "<tr><td>1969</td><td>N</td><td>3</td></tr>",
                            "<tr><td>1969</td><td>Részösseg</td><td>8</td></tr>",
                            "<tr><td>1970</td><td>F</td><td>4</td></tr>",
                            "<tr><td>1970</td><td>Részösseg</td><td>4</td></tr>",
                            "<tr><td>1971</td><td>F</td><td>2</td></tr>",
                            "<tr><td>1971</td><td>N</td><td>3</td></tr>",
                            "<tr><td>1971</td><td>Részösseg</td><td>5</td></tr>",
                            "<tr><td>1972</td><td>F</td><td>2</td></tr>",
                            "<tr><td>1972</td><td>N</td><td>2</td></tr>",
                            "<tr><td>1972</td><td>Részösseg</td><td>4</td></tr>",
                            "<tr><td>1973</td><td>F</td><td>2</td></tr>",
                            "<tr><td>1973</td><td>N</td><td>2</td></tr>",
                            "<tr><td>1973</td><td>Részösseg</td><td>4</td></tr>",
                            "<tr><td>1974</td><td>F</td><td>1</td></tr>",
                            "<tr><td>1974</td><td>N</td><td>3</td></tr>",
                            "<tr><td>1974</td><td>Részösseg</td><td>4</td></tr>",
                            "<tr><td>1975</td><td>F</td><td>8</td></tr>",
                            "<tr><td>1975</td><td>N</td><td>3</td></tr>",
                            "<tr><td>1975</td><td>Részösseg</td><td>11</td></tr>",
                            "<tr><td>1976</td><td>F</td><td>5</td></tr>",
                            "<tr><td>1976</td><td>N</td><td>2</td></tr>",
                            "<tr><td>1976</td><td>Részösseg</td><td>7</td></tr>",
                            "<tr><td>1977</td><td>F</td><td>4</td></tr>",
                            "<tr><td>1977</td><td>N</td><td>1</td></tr>",
                            "<tr><td>1977</td><td>Részösseg</td><td>5</td></tr>",
                            "<tr><td>1978</td><td>F</td><td>3</td></tr>",
                            "<tr><td>1978</td><td>N</td><td>4</td></tr>",
                            "<tr><td>1978</td><td>Részösseg</td><td>7</td></tr>",
                            "<tr><td>1979</td><td>F</td><td>4</td></tr>",
                            "<tr><td>1979</td><td>N</td><td>3</td></tr>",
                            "<tr><td>1979</td><td>Részösseg</td><td>7</td></tr>",
                            "<tr><td>1980</td><td>F</td><td>4</td></tr>",
                            "<tr><td>1980</td><td>N</td><td>3</td></tr>",
                            "<tr><td>1980</td><td>Részösseg</td><td>7</td></tr>",
                            "<tr><td>1981</td><td>N</td><td>4</td></tr>",
                            "<tr><td>1981</td><td>Részösseg</td><td>4</td></tr>",
                            "<tr><td>1982</td><td>F</td><td>2</td></tr>",
                            "<tr><td>1982</td><td>N</td><td>2</td></tr>",
                            "<tr><td>1982</td><td>Részösseg</td><td>4</td></tr>",
                            "<tr><td>1983</td><td>F</td><td>5</td></tr>",
                            "<tr><td>1983</td><td>N</td><td>3</td></tr>",
                            "<tr><td>1983</td><td>Részösseg</td><td>8</td></tr>",
                            "<tr><td>1984</td><td>F</td><td>6</td></tr>",
                            "<tr><td>1984</td><td>N</td><td>2</td></tr>",
                            "<tr><td>1984</td><td>Részösseg</td><td>8</td></tr>",
                            "<tr><td>1985</td><td>F</td><td>5</td></tr>",
                            "<tr><td>1985</td><td>N</td><td>1</td></tr>",
                            "<tr><td>1985</td><td>Részösseg</td><td>6</td></tr>",
                            "<tr><td>1986</td><td>F</td><td>7</td></tr>",
                            "<tr><td>1986</td><td>N</td><td>2</td></tr>",
                            "<tr><td>1986</td><td>Részösseg</td><td>9</td></tr>",
                            "<tr><td>1987</td><td>F</td><td>2</td></tr>",
                            "<tr><td>1987</td><td>N</td><td>3</td></tr>",
                            "<tr><td>1987</td><td>Részösseg</td><td>5</td></tr>",
                            "<tr><td>1988</td><td>F</td><td>2</td></tr>",
                            "<tr><td>1988</td><td>N</td><td>4</td></tr>",
                            "<tr><td>1988</td><td>Részösseg</td><td>6</td></tr>",
                            "<tr><td>1989</td><td>F</td><td>6</td></tr>",
                            "<tr><td>1989</td><td>N</td><td>1</td></tr>",
                            "<tr><td>1989</td><td>Részösseg</td><td>7</td></tr>",
                            "<tr><td>1990</td><td>F</td><td>5</td></tr>",
                            "<tr><td>1990</td><td>N</td><td>3</td></tr>",
                            "<tr><td>1990</td><td>Részösseg</td><td>8</td></tr>",
                            "<tr><td>1991</td><td>F</td><td>3</td></tr>",
                            "<tr><td>1991</td><td>N</td><td>3</td></tr>",
                            "<tr><td>1991</td><td>Részösseg</td><td>6</td></tr>",
                            "<tr><td>1992</td><td>F</td><td>3</td></tr>",
                            "<tr><td>1992</td><td>N</td><td>1</td></tr>",
                            "<tr><td>1992</td><td>Részösseg</td><td>4</td></tr>",
                            "<tr><td>1993</td><td>F</td><td>2</td></tr>",
                            "<tr><td>1993</td><td>N</td><td>3</td></tr>",
                            "<tr><td>1993</td><td>Részösseg</td><td>5</td></tr>",
                            "<tr><td>1994</td><td>N</td><td>3</td></tr>",
                            "<tr><td>1994</td><td>Részösseg</td><td>3</td></tr>",
                            "<tr><td>1995</td><td>F</td><td>3</td></tr>",
                            "<tr><td>1995</td><td>N</td><td>3</td></tr>",
                            "<tr><td>1995</td><td>Részösseg</td><td>6</td></tr>",
                            "<tr><td>1996</td><td>F</td><td>2</td></tr>",
                            "<tr><td>1996</td><td>N</td><td>5</td></tr>",
                            "<tr><td>1996</td><td>Részösseg</td><td>7</td></tr>",
                            "<tr><td>1997</td><td>F</td><td>10</td></tr>",
                            "<tr><td>1997</td><td>N</td><td>2</td></tr>",
                            "<tr><td>1997</td><td>Részösseg</td><td>12</td></tr>",
                            "<tr><td>1998</td><td>F</td><td>1</td></tr>",
                            "<tr><td>1998</td><td>N</td><td>1</td></tr>",
                            "<tr><td>1998</td><td>Részösseg</td><td>2</td></tr>",
                            "<tr><td>2000</td><td>F</td><td>1</td></tr>",
                            "<tr><td>2000</td><td>Részösseg</td><td>1</td></tr>",
                            "<tr><td>Végösszeg</td><td>Végösszeg</td><td>200</td></tr>",
                            "</table>"
                        ]
                    }
                }
            ],
            "execution_count": 2
        },
        {
            "cell_type": "markdown",
            "source": [
                "5. <span style=\"background-color: rgb(255, 255, 255); color: rgb(0, 0, 0); font-family: &quot;Open Sans&quot;, sans-serif; font-size: 14.44px;\">Készítsünk listát a termékek számáról a felvitel hónapja, azon belül napja szerint csoportosítva.&nbsp;</span> \n",
                "\n",
                "a. A lista csak a részösszegeket és a végösszeget tartalmazza!  \n",
                "b. Az oszlopoknak adjunk megfelelő nevet!  \n",
                "c. Ötlet: HAVING + GROUPING\\_ID fv együttes használata"
            ],
            "metadata": {
                "azdata_cell_guid": "84239ca2-6b5e-49f5-9860-d44c11d6de32"
            },
            "attachments": {}
        },
        {
            "cell_type": "code",
            "source": [
                "SELECT month(FELVITEL), day(FELVITEL), count(*), GROUPING_ID(month(FELVITEL), day(FELVITEL))\r\n",
                "FROM Termek\r\n",
                "GROUP BY ROLLUP(month(FELVITEL), day(FELVITEL))\r\n",
                "HAVING GROUPING_ID(month(FELVITEL), day(FELVITEL)) IN (1,3)"
            ],
            "metadata": {
                "azdata_cell_guid": "06d9a62b-9430-424b-a135-d80e675f0eb3",
                "language": "sql"
            },
            "outputs": [
                {
                    "output_type": "display_data",
                    "data": {
                        "text/html": "(5 rows affected)"
                    },
                    "metadata": {}
                },
                {
                    "output_type": "display_data",
                    "data": {
                        "text/html": "Total execution time: 00:00:00.032"
                    },
                    "metadata": {}
                },
                {
                    "output_type": "execute_result",
                    "metadata": {},
                    "execution_count": 3,
                    "data": {
                        "application/vnd.dataresource+json": {
                            "schema": {
                                "fields": [
                                    {
                                        "name": "(No column name)"
                                    },
                                    {
                                        "name": "(No column name)"
                                    },
                                    {
                                        "name": "(No column name)"
                                    },
                                    {
                                        "name": "(No column name)"
                                    }
                                ]
                            },
                            "data": [
                                {
                                    "(No column name)": "1"
                                },
                                {
                                    "(No column name)": "1"
                                },
                                {
                                    "(No column name)": "1"
                                },
                                {
                                    "(No column name)": "1"
                                },
                                {
                                    "(No column name)": "3"
                                }
                            ]
                        },
                        "text/html": [
                            "<table>",
                            "<tr><th>(No column name)</th><th>(No column name)</th><th>(No column name)</th><th>(No column name)</th></tr>",
                            "<tr><td>7</td><td>NULL</td><td>355</td><td>1</td></tr>",
                            "<tr><td>8</td><td>NULL</td><td>194</td><td>1</td></tr>",
                            "<tr><td>9</td><td>NULL</td><td>1</td><td>1</td></tr>",
                            "<tr><td>12</td><td>NULL</td><td>1</td><td>1</td></tr>",
                            "<tr><td>NULL</td><td>NULL</td><td>551</td><td>3</td></tr>",
                            "</table>"
                        ]
                    }
                }
            ],
            "execution_count": 3
        }
    ]
}